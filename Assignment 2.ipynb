{
 "cells": [
  {
   "cell_type": "code",
   "execution_count": 2,
   "id": "0dda9a04",
   "metadata": {},
   "outputs": [
    {
     "name": "stdout",
     "output_type": "stream",
     "text": [
      "enter the value : 20\n",
      "enter the value : 10\n",
      "multiplication =  200 \n",
      " division =  2.0\n"
     ]
    }
   ],
   "source": [
    "#1 Write a program to accept two numbers from the user and calculate multiplication, division\n",
    "\n",
    "\n",
    "num1=int(input(\"enter the value : \"))\n",
    "num2=int(input(\"enter the value : \"))\n",
    "print(\"multiplication = \",num1*num2 , \"\\n\",\"division = \", num1/num2)"
   ]
  },
  {
   "cell_type": "code",
   "execution_count": 7,
   "id": "a3f593e0",
   "metadata": {},
   "outputs": [],
   "source": [
    "#2 Write a python program to print the characters from a string that are present at an even index"
   ]
  },
  {
   "cell_type": "code",
   "execution_count": 11,
   "id": "26f11a62",
   "metadata": {},
   "outputs": [
    {
     "name": "stdout",
     "output_type": "stream",
     "text": [
      "Give a String: APPLE\n",
      "APE\n"
     ]
    }
   ],
   "source": [
    "x=input(\"Give a String: \")\n",
    "a=\"\"\n",
    "for y in range(0,len(x)):\n",
    "    if y%2==0:\n",
    "        a+=x[y]\n",
    "    else:\n",
    "        continue\n",
    "print(a)"
   ]
  },
  {
   "cell_type": "code",
   "execution_count": 9,
   "id": "798ebf90",
   "metadata": {},
   "outputs": [],
   "source": [
    "#3 write a python program to print the characters from a string that are present at an odd index"
   ]
  },
  {
   "cell_type": "code",
   "execution_count": 12,
   "id": "49a2118e",
   "metadata": {},
   "outputs": [
    {
     "name": "stdout",
     "output_type": "stream",
     "text": [
      "Give a String: APPLE\n",
      "PL\n"
     ]
    }
   ],
   "source": [
    "x=input(\"Give a String: \")\n",
    "a=\"\"\n",
    "for y in range(0,len(x)):\n",
    "    if y%2!=0:\n",
    "        a+=x[y]\n",
    "    else:\n",
    "        continue\n",
    "print(a)"
   ]
  },
  {
   "cell_type": "code",
   "execution_count": 43,
   "id": "926f5fc5",
   "metadata": {},
   "outputs": [
    {
     "name": "stdout",
     "output_type": "stream",
     "text": [
      "enter the first number : 5\n",
      "enter the second number: 7\n",
      "sub= -2\n"
     ]
    }
   ],
   "source": [
    "#4 Write a python program which will print the sum of the two numbers if the two numbers are even or it will print the difference of two numbers\n",
    "\n",
    "\n",
    "\n",
    "\n",
    "\n",
    "\n",
    "num1=int(input(\"enter the first number : \"))\n",
    "num2=int(input(\"enter the second number: \"))\n",
    "if num1%2==0 and num2%2==0:\n",
    "     print(\"sum=\",num1+num2)\n",
    "else:\n",
    "    print(\"sub=\",num1-num2)\n",
    "        "
   ]
  },
  {
   "cell_type": "code",
   "execution_count": 44,
   "id": "0194691e",
   "metadata": {},
   "outputs": [
    {
     "name": "stdout",
     "output_type": "stream",
     "text": [
      "enter a word to convert : APPLE\n",
      "ApPlE\n"
     ]
    }
   ],
   "source": [
    "#5 Write a python program to convert all even indexed alphabets to upper and odd indexed char\n",
    "\n",
    "\n",
    "a=input(\"enter a word to convert : \")\n",
    "y=list(a)\n",
    "b=\"\"\n",
    "for x in range(0,len(a)):\n",
    "    if x%2==0:\n",
    "        b+=str(a[x]).upper()\n",
    "    else :\n",
    "            b+=str(a[x]).lower()\n",
    "print (b)       "
   ]
  },
  {
   "cell_type": "code",
   "execution_count": 45,
   "id": "23ee6ac2",
   "metadata": {},
   "outputs": [
    {
     "name": "stdout",
     "output_type": "stream",
     "text": [
      "enter the number : 23\n",
      "False\n"
     ]
    }
   ],
   "source": [
    "#6 Write a python program which will print True if the input number is divisible by 5 or else False\n",
    "\n",
    "\n",
    "\n",
    "\n",
    "x=int(input(\"enter the number : \"))\n",
    "if x%5==0:\n",
    "    print(True)\n",
    "else:\n",
    "    print(False)\n"
   ]
  },
  {
   "cell_type": "code",
   "execution_count": 1,
   "id": "71663442",
   "metadata": {},
   "outputs": [
    {
     "name": "stdout",
     "output_type": "stream",
     "text": [
      "enter the number : 200\n",
      "enter the number : 300\n",
      "60000\n"
     ]
    }
   ],
   "source": [
    "#7 Given two integer numbers return their product only if the product is greater than 1000, else return their sum\n",
    "\n",
    "\n",
    "\n",
    "\n",
    "num1=int(input(\"enter the number : \"))\n",
    "num2=int(input(\"enter the number : \"))\n",
    "product=num1*num2\n",
    "if product > 1000:\n",
    "    print(product)\n",
    "else:\n",
    "    print(\"sum = \",x+y)\n"
   ]
  },
  {
   "cell_type": "code",
   "execution_count": 42,
   "id": "b3b90af7",
   "metadata": {},
   "outputs": [
    {
     "name": "stdout",
     "output_type": "stream",
     "text": [
      "Enter a string: shaik\n",
      "Enter a string: arifa\n",
      "saaika\n"
     ]
    }
   ],
   "source": [
    "#8 Given two strings x, y writes a program to return a new string made of x and y’s first, middle, and last character\n",
    "#Example:Input X=” pytho” Y=” javas”\n",
    "#Output ” pjtvos”\n",
    "\n",
    "\n",
    "\n",
    "x=input(\"Enter a string: \")\n",
    "y=input(\"Enter a string: \")\n",
    "a=len(x)//2\n",
    "b=len(y)//2\n",
    "print(x[0]+y[0]+x[a]+y[b]+x[-1]+y[-1])"
   ]
  },
  {
   "cell_type": "code",
   "execution_count": 1,
   "id": "df17ddd1",
   "metadata": {},
   "outputs": [
    {
     "name": "stdout",
     "output_type": "stream",
     "text": [
      "enter 3 names : april may june\n",
      "name1:- april \n",
      "name2:- may \n",
      "name3:- june\n"
     ]
    }
   ],
   "source": [
    "#9 Write a python program to take three names as input from a user in the single input () function call\n",
    "\n",
    "n=input(\"enter 3 names : \")\n",
    "for y in range(0,3):\n",
    "    z=n.split(\" \")\n",
    "print(\"name1:-\",z[0],\"\\nname2:-\",z[1],\"\\nname3:-\",z[2])\n"
   ]
  },
  {
   "cell_type": "code",
   "execution_count": 2,
   "id": "a73ba5e2",
   "metadata": {},
   "outputs": [
    {
     "name": "stdout",
     "output_type": "stream",
     "text": [
      "enter a String: arifa\n",
      "arif@\n"
     ]
    }
   ],
   "source": [
    "#10 Write a Python program to get a string from a given string where all occurrences of its first char have been changed to '@', except the first char itself.\n",
    "\n",
    "\n",
    "\n",
    "\n",
    "x=input(\"enter a String: \")\n",
    "a=x[0]\n",
    "for y in range(1,len(x)):\n",
    "    if x[y]==x[0]:\n",
    "        a+=\"@\"\n",
    "    else:\n",
    "        a+=x[y]\n",
    "print(a)"
   ]
  },
  {
   "cell_type": "code",
   "execution_count": 4,
   "id": "9574c160",
   "metadata": {},
   "outputs": [
    {
     "name": "stdout",
     "output_type": "stream",
     "text": [
      "enter a string : roll\n",
      "rolling\n"
     ]
    }
   ],
   "source": [
    "#11 Write a Python program to add 'ing' at the end of a given string (string length should be equal to or more than 3).\n",
    "#   If the given string already ends with 'ing' then add 'ly' instead. \n",
    "#   If the string length of the given string is less than 3, leave it unchanged\n",
    "\n",
    "\n",
    "x=input(\"enter a string : \")\n",
    "y=\" \"\n",
    "if len(x)>=3 and x.endswith(\"ing\"):\n",
    "    a=x.strip(\"ing\")\n",
    "    y=a+\"ly\"\n",
    "\n",
    "elif len(x)<3:\n",
    "    y=x\n",
    "else :\n",
    "    y=x+\"ing\"\n",
    "print(y)    \n",
    "    \n",
    "    "
   ]
  },
  {
   "cell_type": "code",
   "execution_count": 6,
   "id": "aca57751",
   "metadata": {},
   "outputs": [
    {
     "name": "stdout",
     "output_type": "stream",
     "text": [
      "enter the first number : 4\n",
      "enter the second number: 6\n",
      "True\n"
     ]
    }
   ],
   "source": [
    "#12 Write a python program that accepts two inputs num1 and num2 print True if one of them is 10 or if their sum is 10\n",
    "#otherwise print False\n",
    "\n",
    "num1=int(input(\"enter the first number : \"))\n",
    "num2=int(input(\"enter the second number: \"))\n",
    "if num1==10 or num2==10 or num1+num2==10:\n",
    "    print(True)\n",
    "else:\n",
    "    print(False)"
   ]
  },
  {
   "cell_type": "code",
   "execution_count": 4,
   "id": "f875bccc",
   "metadata": {},
   "outputs": [
    {
     "name": "stdout",
     "output_type": "stream",
     "text": [
      "enter the first number : 10\n",
      "enter the second value : 20\n",
      "enter the third value :  30\n",
      "True\n",
      "enter the first number : 2\n",
      "enter the second value : 3\n",
      "enter the third value :  30\n",
      "False\n"
     ]
    }
   ],
   "source": [
    "#13 Write a python program that accepts three inputs x, y and z print True if x*y>z otherwise False\n",
    "\n",
    "a=0\n",
    "while a<=1:\n",
    "    x=int(input(\"enter the first number : \"))\n",
    "    y=int(input(\"enter the second value : \"))\n",
    "    z=int(input(\"enter the third value :  \"))\n",
    "    product=x*y\n",
    "    if product>z:\n",
    "        print(True)\n",
    "    else:\n",
    "        print(False)\n",
    "    a+=1"
   ]
  },
  {
   "cell_type": "code",
   "execution_count": 8,
   "id": "675732c8",
   "metadata": {},
   "outputs": [
    {
     "name": "stdout",
     "output_type": "stream",
     "text": [
      "enter a string : apple\n",
      "enter a string : grape\n",
      "True\n",
      "enter a string : banana\n",
      "enter a string : oranges\n",
      "False\n"
     ]
    }
   ],
   "source": [
    "#14 Write a python program that accepts two strings inputs return True depending on whether the total number of \n",
    "#characters in the first string is equal to the total number of characters in the second string\n",
    "\n",
    "a=0\n",
    "while a<=1:\n",
    "    \n",
    "    x=input(\"enter a string : \")\n",
    "    y=input(\"enter a string : \")\n",
    "    if len(x)==len(y):\n",
    "        print(True)\n",
    "    else:\n",
    "        print(False)\n",
    "    a+=1   "
   ]
  },
  {
   "cell_type": "code",
   "execution_count": 1,
   "id": "ca82cf39",
   "metadata": {},
   "outputs": [
    {
     "name": "stdout",
     "output_type": "stream",
     "text": [
      "enter a string : hi\n",
      "hihihi\n",
      "enter a string : bye\n",
      "bye\n"
     ]
    }
   ],
   "source": [
    "#15 Write a python program that takes a string input, we'll say that the front is the first three characters of the string. \n",
    "#If the string length is less than three characters, the front is whatever is there. \n",
    "#Return a new string, which is three copies of the front\n",
    "\n",
    "\n",
    "a=0\n",
    "while a<=1:\n",
    "    x=input(\"enter a string : \")\n",
    "    if len(x)<3:\n",
    "        print(x*3)\n",
    "    else:\n",
    "        print(x)\n",
    "    a+=1    "
   ]
  },
  {
   "cell_type": "code",
   "execution_count": 1,
   "id": "75e2809e",
   "metadata": {},
   "outputs": [
    {
     "name": "stdout",
     "output_type": "stream",
     "text": [
      "enter a word : bird\n",
      "the word is not plural\n",
      "enter a word : birds\n",
      "the word is plural\n"
     ]
    }
   ],
   "source": [
    "#16 Write a python program that takes in a word and determines whether or not it is plural.\n",
    "#A plural word is one that ends in \"s\"\n",
    "\n",
    "\n",
    "a=0\n",
    "while a<=1:\n",
    "    x=input(\"enter a word : \")\n",
    "    if x.endswith(\"s\") or x.endswith(\"S\"):\n",
    "        print(\"the word is plural\")\n",
    "    else:\n",
    "        print(\"the word is not plural\")\n",
    "    a+=1     \n",
    "    "
   ]
  },
  {
   "cell_type": "code",
   "execution_count": 4,
   "id": "400df6d7",
   "metadata": {},
   "outputs": [
    {
     "name": "stdout",
     "output_type": "stream",
     "text": [
      "enter the age : 17\n",
      "Give true if it is break time else false:true\n",
      "do not serve the drink\n",
      "enter the age : 21\n",
      "Give true if it is break time else false:true\n",
      "serve the drink\n"
     ]
    }
   ],
   "source": [
    "#17 A bartender is writing a simple program to determine whether he should serve drinks to someone. \n",
    "#He only serves drinks to people 18 and older and when he's not on break(True means break and False means not a break time).\n",
    "#Given the person's age, and whether break time is in session, create a python program which prints whether he should serve drinks or not.\n",
    "\n",
    "\n",
    "a=0\n",
    "while a<=1:\n",
    "    x=int(input(\"enter the age : \"))\n",
    "    y=input(\"Give true if it is break time else false:\")\n",
    "    if x>=18 and y==\"true\":\n",
    "        print(\"serve the drink\")\n",
    "    else:\n",
    "        print(\"do not serve the drink\")\n",
    "    a+=1     "
   ]
  },
  {
   "cell_type": "code",
   "execution_count": 10,
   "id": "8164437c",
   "metadata": {},
   "outputs": [
    {
     "name": "stdout",
     "output_type": "stream",
     "text": [
      "enter person name:shiva\n",
      "shiva is your father\n"
     ]
    }
   ],
   "source": [
    "#18 Manoj Kumar has family and friends. Help him remind them who is who. Given a string with a name, return the relation of that person to Manoj Kumar.\n",
    "#Person Relation\n",
    "#Shiva father\n",
    "#Letha mother\n",
    "#Tarun brother\n",
    "#Kavitha sister\n",
    "\n",
    "\n",
    "person=\"shiva,letha,tarun,kavitha\"\n",
    "x=input(\"enter person name:\")\n",
    "if x==person[0:5]:\n",
    "    print(x,\"is your father\")\n",
    "elif x==person[6:11]:\n",
    "    print(x,\"is your mother\")\n",
    "elif x==person[12:16]:\n",
    "    print(x,\"is your brother\")\n",
    "else:\n",
    "    print(x,\"is your sister\")"
   ]
  },
  {
   "cell_type": "code",
   "execution_count": 11,
   "id": "02af596f",
   "metadata": {},
   "outputs": [
    {
     "name": "stdout",
     "output_type": "stream",
     "text": [
      "Enter a string: arifa\n",
      "Vowels: aia\n",
      "Consonants: rf\n"
     ]
    }
   ],
   "source": [
    "#19 Write a python program that takes a string, breaks it up and returns it with vowels first, consonants second. \n",
    "#For any character that's not a vowel (like special characters or spaces), treat them like consonants\n",
    "\n",
    "\n",
    "x=input(\"Enter a string: \")\n",
    "vow=\"\";con=\"\"\n",
    "for y in range(0,len(x)):\n",
    "    if x[y]==\"a\" or x[y]==\"e\" or x[y]==\"i\" or x[y]==\"o\" or x[y]==\"u\" or x[y]==\"A\" or x[y]==\"E\" or x[y]==\"I\" or x[y]==\"O\" or x[y]==\"U\":\n",
    "        vow+=x[y]\n",
    "    else:\n",
    "        con+=x[y]\n",
    "print(\"Vowels: \"+vow+\"\\nConsonants: \"+con)"
   ]
  },
  {
   "cell_type": "code",
   "execution_count": null,
   "id": "74a9510d",
   "metadata": {},
   "outputs": [],
   "source": [
    "#20 dynamic calculator (already done)"
   ]
  }
 ],
 "metadata": {
  "kernelspec": {
   "display_name": "Python 3 (ipykernel)",
   "language": "python",
   "name": "python3"
  },
  "language_info": {
   "codemirror_mode": {
    "name": "ipython",
    "version": 3
   },
   "file_extension": ".py",
   "mimetype": "text/x-python",
   "name": "python",
   "nbconvert_exporter": "python",
   "pygments_lexer": "ipython3",
   "version": "3.10.9"
  }
 },
 "nbformat": 4,
 "nbformat_minor": 5
}
