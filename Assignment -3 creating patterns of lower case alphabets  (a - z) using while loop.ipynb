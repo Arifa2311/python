{
 "cells": [
  {
   "cell_type": "code",
   "execution_count": 3,
   "id": "590a869b",
   "metadata": {},
   "outputs": [
    {
     "name": "stdout",
     "output_type": "stream",
     "text": [
      "* * * *\n",
      "      *\n",
      "* * * *\n",
      "*     *\n",
      "* * * *\n"
     ]
    }
   ],
   "source": [
    "x=0\n",
    "while x<5:\n",
    "    if x==0 or x==2 or x==4:\n",
    "        print(\"* * * *\")\n",
    "    elif x==3 :\n",
    "        print(\"*     *\")\n",
    "    else:\n",
    "        print(\"      *\")\n",
    "    x=x+1    "
   ]
  },
  {
   "cell_type": "code",
   "execution_count": 5,
   "id": "a9c5a6fd",
   "metadata": {},
   "outputs": [
    {
     "name": "stdout",
     "output_type": "stream",
     "text": [
      "*\n",
      "*\n",
      "* * * *\n",
      "*     *\n",
      "* * * *\n"
     ]
    }
   ],
   "source": [
    "x=0\n",
    "while x<5:\n",
    "    if x==2 or x==4:\n",
    "        print(\"* * * *\")\n",
    "    elif x==3 :\n",
    "        print(\"*     *\")\n",
    "    else:\n",
    "        print(\"*\")\n",
    "    x=x+1    "
   ]
  },
  {
   "cell_type": "code",
   "execution_count": 6,
   "id": "21987f96",
   "metadata": {},
   "outputs": [
    {
     "name": "stdout",
     "output_type": "stream",
     "text": [
      "* * * *\n",
      "*\n",
      "*\n",
      "*\n",
      "* * * *\n"
     ]
    }
   ],
   "source": [
    "x=0\n",
    "while x<5:\n",
    "    if x==0  or x==4:\n",
    "        print(\"* * * *\")\n",
    "    \n",
    "    else:\n",
    "        print(\"*\")\n",
    "    x=x+1    "
   ]
  },
  {
   "cell_type": "code",
   "execution_count": 8,
   "id": "2c0d0476",
   "metadata": {},
   "outputs": [
    {
     "name": "stdout",
     "output_type": "stream",
     "text": [
      "      *\n",
      "      *\n",
      "* * * *\n",
      "*     *\n",
      "* * * *\n"
     ]
    }
   ],
   "source": [
    "x=0\n",
    "while x<5:\n",
    "    if x==2 or x==4:\n",
    "        print(\"* * * *\")\n",
    "    elif x==3 :\n",
    "        print(\"*     *\")\n",
    "    else:\n",
    "        print(\"      *\")\n",
    "    x=x+1    "
   ]
  },
  {
   "cell_type": "code",
   "execution_count": 11,
   "id": "708fa24c",
   "metadata": {},
   "outputs": [
    {
     "name": "stdout",
     "output_type": "stream",
     "text": [
      "* * * \n",
      "*   *\n",
      "* * * \n",
      "*\n",
      "* * * \n"
     ]
    }
   ],
   "source": [
    "x=0\n",
    "while x<5:\n",
    "    if x==0 or x==2 or x==4:\n",
    "        print(\"* * * \")\n",
    "    elif x==1:\n",
    "        print(\"*   *\")\n",
    "\n",
    "    else:\n",
    "        print(\"*\")\n",
    "    x=x+1    "
   ]
  },
  {
   "cell_type": "code",
   "execution_count": 15,
   "id": "a8d2a6ac",
   "metadata": {},
   "outputs": [
    {
     "name": "stdout",
     "output_type": "stream",
     "text": [
      "   *  *  \n",
      "  *     \n",
      "* * *\n",
      "  *     \n",
      "  *     \n"
     ]
    }
   ],
   "source": [
    "x=0\n",
    "while x<5:\n",
    "    if x==0 : \n",
    "        print(\"   *  *  \")\n",
    "    elif x==1 or x==3 or x==4:\n",
    "        print(\"  *     \")\n",
    "\n",
    "    else:\n",
    "        print(\"* * *\")\n",
    "    x=x+1    "
   ]
  },
  {
   "cell_type": "code",
   "execution_count": 17,
   "id": "6cbec4b2",
   "metadata": {},
   "outputs": [
    {
     "name": "stdout",
     "output_type": "stream",
     "text": [
      "* * * \n",
      "*   *\n",
      "* * * \n",
      "    *\n",
      "* * * \n"
     ]
    }
   ],
   "source": [
    "x=0\n",
    "while x<5:\n",
    "    if x==0 or x==2 or x==4:\n",
    "        print(\"* * * \")\n",
    "    elif x==1:\n",
    "        print(\"*   *\")\n",
    "\n",
    "    else:\n",
    "        print(\"    *\")\n",
    "    x=x+1    "
   ]
  },
  {
   "cell_type": "code",
   "execution_count": 19,
   "id": "a31a9add",
   "metadata": {},
   "outputs": [
    {
     "name": "stdout",
     "output_type": "stream",
     "text": [
      "* \n",
      "* \n",
      "* * *\n",
      "*   *\n",
      "*   *\n"
     ]
    }
   ],
   "source": [
    "x=0\n",
    "while x<5:\n",
    "    if x==0 or x==1:\n",
    "        print(\"* \")\n",
    "    elif x==3 or x==4 :\n",
    "        print(\"*   *\")\n",
    "\n",
    "    else:\n",
    "        print(\"* * *\")\n",
    "    x=x+1    "
   ]
  },
  {
   "cell_type": "code",
   "execution_count": 22,
   "id": "ee7a27ce",
   "metadata": {},
   "outputs": [
    {
     "name": "stdout",
     "output_type": "stream",
     "text": [
      "  *  \n",
      "  \n",
      "  *\n",
      "  *\n",
      "  *\n"
     ]
    }
   ],
   "source": [
    "x=0\n",
    "while x<5:\n",
    "    if x==0:\n",
    "        print(\"  *  \")\n",
    "    elif x==1:\n",
    "        print(\"  \")\n",
    "\n",
    "    else:\n",
    "        print(\"  *\")\n",
    "    x=x+1    "
   ]
  },
  {
   "cell_type": "code",
   "execution_count": 46,
   "id": "4b4ee28d",
   "metadata": {},
   "outputs": [
    {
     "name": "stdout",
     "output_type": "stream",
     "text": [
      "     *  \n",
      "     *  \n",
      "*    *  \n",
      "*    *  \n",
      "  *\n"
     ]
    }
   ],
   "source": [
    "x=0\n",
    "while x<5:\n",
    "    if x==0 or x==1 :\n",
    "        print(\"     *  \")\n",
    "    elif x==2 or x==3:\n",
    "        print(\"*    *  \")\n",
    "\n",
    "    else:\n",
    "        print(\"  *\")\n",
    "    x=x+1    "
   ]
  },
  {
   "cell_type": "code",
   "execution_count": 52,
   "id": "1b032e51",
   "metadata": {},
   "outputs": [
    {
     "name": "stdout",
     "output_type": "stream",
     "text": [
      "*    \n",
      "*   * \n",
      "* * \n",
      "*   * \n",
      "*    \n"
     ]
    }
   ],
   "source": [
    "x=0\n",
    "while x<5:\n",
    "    if x==0 or x==4:\n",
    "        print(\"*    \")\n",
    "    elif  x==1or x==3:\n",
    "        print(\"*   * \")\n",
    "\n",
    "    else:\n",
    "        print(\"* * \")\n",
    "    \n",
    "    x=x+1    "
   ]
  },
  {
   "cell_type": "code",
   "execution_count": 3,
   "id": "8d86a5aa",
   "metadata": {},
   "outputs": [
    {
     "name": "stdout",
     "output_type": "stream",
     "text": [
      " * \n",
      " * \n",
      " * \n",
      " * \n",
      " * \n"
     ]
    }
   ],
   "source": [
    "x=0\n",
    "while x<5:\n",
    "    print(\" * \")\n",
    "    x=x+1"
   ]
  },
  {
   "cell_type": "code",
   "execution_count": 9,
   "id": "c6a0ff32",
   "metadata": {},
   "outputs": [
    {
     "name": "stdout",
     "output_type": "stream",
     "text": [
      " \n",
      "* * * * *  \n",
      "*   *   *\n",
      "*   *   *\n",
      " \n"
     ]
    }
   ],
   "source": [
    "x=10\n",
    "while x>5:\n",
    "    if x==8 or x==7:\n",
    "        print(\"*   *   *\")\n",
    "    elif x==9:\n",
    "        print(\"* * * * *  \")\n",
    "    else:\n",
    "        print(\" \")\n",
    "    x=x-1"
   ]
  },
  {
   "cell_type": "code",
   "execution_count": 10,
   "id": "468a0b40",
   "metadata": {},
   "outputs": [
    {
     "name": "stdout",
     "output_type": "stream",
     "text": [
      " \n",
      "* * *   \n",
      "*    *\n",
      "*    *\n"
     ]
    }
   ],
   "source": [
    "x=10\n",
    "while x>6:\n",
    "    if x==8 or x==7:\n",
    "        print(\"*    *\")\n",
    "    elif x==9:\n",
    "        print(\"* * *   \")\n",
    "    else:\n",
    "        print(\" \")\n",
    "    x=x-1"
   ]
  },
  {
   "cell_type": "code",
   "execution_count": 15,
   "id": "23059e4b",
   "metadata": {},
   "outputs": [
    {
     "name": "stdout",
     "output_type": "stream",
     "text": [
      " \n",
      " * *\n",
      "*   *  \n",
      "*   *  \n",
      " * *\n"
     ]
    }
   ],
   "source": [
    "x=10\n",
    "while x>5:\n",
    "    if x==9 or x==6:\n",
    "        print(\" * *\")\n",
    "    elif x==8 or x==7:\n",
    "        print(\"*   *  \")\n",
    "    else:\n",
    "        print(\" \")\n",
    "    x=x-1"
   ]
  },
  {
   "cell_type": "code",
   "execution_count": 17,
   "id": "458d171d",
   "metadata": {},
   "outputs": [
    {
     "name": "stdout",
     "output_type": "stream",
     "text": [
      "* *\n",
      "*   *\n",
      "* *\n",
      "*\n",
      "*\n"
     ]
    }
   ],
   "source": [
    "x=10\n",
    "while x>5:\n",
    "    if x==10 or x==8:\n",
    "        print(\"* *\")\n",
    "    elif x==9:\n",
    "        print(\"*   *\")\n",
    "    elif x==7 or x==6:\n",
    "        print(\"*\")\n",
    "    else:\n",
    "        print(\" \")\n",
    "    x=x-1"
   ]
  },
  {
   "cell_type": "code",
   "execution_count": 21,
   "id": "fd931fd8",
   "metadata": {},
   "outputs": [
    {
     "name": "stdout",
     "output_type": "stream",
     "text": [
      "* * *\n",
      "*   *\n",
      "* * *\n",
      "    * \n",
      "    * \n"
     ]
    }
   ],
   "source": [
    "x=10\n",
    "while x>5:\n",
    "    if x==10 or x==8:\n",
    "        print(\"* * *\")\n",
    "    elif x==9:\n",
    "        print(\"*   *\")\n",
    "    else:\n",
    "        print(\"    * \")\n",
    "    x=x-1"
   ]
  },
  {
   "cell_type": "code",
   "execution_count": 28,
   "id": "067a01bc",
   "metadata": {},
   "outputs": [
    {
     "name": "stdout",
     "output_type": "stream",
     "text": [
      "*   *\n",
      "* *\n",
      "*\n",
      "*\n",
      "\n"
     ]
    }
   ],
   "source": [
    "x=10\n",
    "while x>5:\n",
    "    if x==7 or x==8:\n",
    "        print(\"*\")\n",
    "    elif x==10:\n",
    "        print(\"*   *\")\n",
    "    elif x==9:\n",
    "        print(\"* *\")\n",
    "    else:\n",
    "        print(\"\")\n",
    "    x=x-1"
   ]
  },
  {
   "cell_type": "code",
   "execution_count": 29,
   "id": "966f3c7e",
   "metadata": {},
   "outputs": [
    {
     "name": "stdout",
     "output_type": "stream",
     "text": [
      " * *\n",
      "*   \n",
      " * *\n",
      "    *\n",
      " * *\n"
     ]
    }
   ],
   "source": [
    "x=10\n",
    "while x>5:\n",
    "    if x==10 or x==8 or x==6:\n",
    "        print(\" * *\")    \n",
    "    elif x==9:\n",
    "        print(\"*   \")\n",
    "    else:\n",
    "        print(\"    *\")\n",
    "    x=x-1"
   ]
  },
  {
   "cell_type": "code",
   "execution_count": 34,
   "id": "3c2cd9a8",
   "metadata": {},
   "outputs": [
    {
     "name": "stdout",
     "output_type": "stream",
     "text": [
      "  *\n",
      "  *\n",
      "* * *\n",
      "  *\n",
      "   * *\n"
     ]
    }
   ],
   "source": [
    "x=10\n",
    "while x>5:\n",
    "    if x==10 or x==9 or x==7:\n",
    "        print(\"  *\")\n",
    "    elif x==8:\n",
    "        print(\"* * *\")\n",
    "    elif x==6:\n",
    "        print(\"   * *\")\n",
    "    else:\n",
    "        print(\"    *\")\n",
    "    x=x-1"
   ]
  },
  {
   "cell_type": "code",
   "execution_count": 35,
   "id": "a3e47839",
   "metadata": {},
   "outputs": [
    {
     "name": "stdout",
     "output_type": "stream",
     "text": [
      "*   *\n",
      "*   *\n",
      "*   *\n",
      "*   *\n",
      " * *\n"
     ]
    }
   ],
   "source": [
    "x=10\n",
    "while x>5:\n",
    "    if x==6:\n",
    "        print(\" * *\")    \n",
    "    else:\n",
    "        print(\"*   *\")\n",
    "    x=x-1"
   ]
  },
  {
   "cell_type": "code",
   "execution_count": 37,
   "id": "95d72dd0",
   "metadata": {},
   "outputs": [
    {
     "name": "stdout",
     "output_type": "stream",
     "text": [
      "*   *\n",
      "*   *\n",
      "*   *\n",
      "*   *\n",
      "  * \n"
     ]
    }
   ],
   "source": [
    "x=10\n",
    "while x>5:\n",
    "    if x==6:\n",
    "        print(\"  * \")    \n",
    "    else:\n",
    "        print(\"*   *\")\n",
    "    x=x-1"
   ]
  },
  {
   "cell_type": "code",
   "execution_count": 39,
   "id": "b0580c48",
   "metadata": {},
   "outputs": [
    {
     "name": "stdout",
     "output_type": "stream",
     "text": [
      "*   *   *\n",
      "*   *   *\n",
      "* * * * *  \n",
      " \n",
      " \n"
     ]
    }
   ],
   "source": [
    "x=10\n",
    "while x>5:\n",
    "    if x==10 or x==9:\n",
    "        print(\"*   *   *\")\n",
    "    elif x==8:\n",
    "        print(\"* * * * *  \")\n",
    "    else:\n",
    "        print(\" \")\n",
    "    x=x-1"
   ]
  },
  {
   "cell_type": "code",
   "execution_count": 56,
   "id": "1e942c6e",
   "metadata": {},
   "outputs": [
    {
     "name": "stdout",
     "output_type": "stream",
     "text": [
      " *   *\n",
      "   * \n",
      " *   *\n",
      " \n",
      " \n"
     ]
    }
   ],
   "source": [
    "x=10\n",
    "while x>5:\n",
    "    if x==10 or x==8:\n",
    "        print(\" *   *\")    \n",
    "    elif x==9:\n",
    "        print(\"   * \")\n",
    "    else:\n",
    "        print(\" \")\n",
    "    x=x-1"
   ]
  },
  {
   "cell_type": "code",
   "execution_count": 60,
   "id": "70439435",
   "metadata": {},
   "outputs": [
    {
     "name": "stdout",
     "output_type": "stream",
     "text": [
      " *    *\n",
      "  *  * \n",
      "    * \n",
      "   * \n",
      " * \n"
     ]
    }
   ],
   "source": [
    "x=10\n",
    "while x>5:\n",
    "    if x==10 :\n",
    "        print(\" *    *\")    \n",
    "    elif x==9 :\n",
    "        print(\"  *  * \")\n",
    "    elif x==8:  \n",
    "        print(\"    * \")\n",
    "    elif x==7:\n",
    "        print(\"   * \")\n",
    "    else:\n",
    "        print(\" * \")\n",
    "    x=x-1"
   ]
  },
  {
   "cell_type": "code",
   "execution_count": 72,
   "id": "a808e22f",
   "metadata": {},
   "outputs": [
    {
     "name": "stdout",
     "output_type": "stream",
     "text": [
      "* * * *\n",
      "     * \n",
      "   *  \n",
      " *\n",
      "* * * *\n"
     ]
    }
   ],
   "source": [
    "x=10\n",
    "while x>5:\n",
    "    if x==10 or x==6:\n",
    "        print(\"* * * *\")    \n",
    "    elif x==9:\n",
    "        print(\"     * \")\n",
    "    elif x==8:\n",
    "        print(\"   *  \")\n",
    "    elif x==7:\n",
    "        print(\" *\")\n",
    "    else:\n",
    "        print(\" \")\n",
    "    x=x-1"
   ]
  },
  {
   "cell_type": "code",
   "execution_count": null,
   "id": "6f6f73b6",
   "metadata": {},
   "outputs": [],
   "source": []
  }
 ],
 "metadata": {
  "kernelspec": {
   "display_name": "Python 3 (ipykernel)",
   "language": "python",
   "name": "python3"
  },
  "language_info": {
   "codemirror_mode": {
    "name": "ipython",
    "version": 3
   },
   "file_extension": ".py",
   "mimetype": "text/x-python",
   "name": "python",
   "nbconvert_exporter": "python",
   "pygments_lexer": "ipython3",
   "version": "3.10.9"
  }
 },
 "nbformat": 4,
 "nbformat_minor": 5
}
