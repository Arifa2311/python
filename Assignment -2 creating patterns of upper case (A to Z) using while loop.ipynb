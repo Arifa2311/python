{
 "cells": [
  {
   "cell_type": "code",
   "execution_count": 6,
   "id": "dbddcfa7",
   "metadata": {},
   "outputs": [
    {
     "name": "stdout",
     "output_type": "stream",
     "text": [
      "  * \n",
      "*   *\n",
      "* * *\n",
      "*   *\n",
      "*   *\n"
     ]
    }
   ],
   "source": [
    "x=0\n",
    "while x<5:\n",
    "    if x==0:\n",
    "        print(\"  * \")\n",
    "    elif x==1 or x==3 or x==4:\n",
    "        print(\"*   *\")\n",
    "    else:\n",
    "        print(\"* * *\")\n",
    "    x=x+1    "
   ]
  },
  {
   "cell_type": "code",
   "execution_count": 23,
   "id": "036ff0ea",
   "metadata": {},
   "outputs": [
    {
     "name": "stdout",
     "output_type": "stream",
     "text": [
      "* * *\n",
      "*    *\n",
      "* * *\n",
      "*    *\n",
      "* * *\n"
     ]
    }
   ],
   "source": [
    "x=0\n",
    "while x<5:\n",
    "    if x==0 or x==2 or x==4:\n",
    "        print(\"* * *\")\n",
    "    else :\n",
    "        print(\"*    *\")\n",
    "    \n",
    "    x=x+1    "
   ]
  },
  {
   "cell_type": "code",
   "execution_count": 25,
   "id": "d6f3e870",
   "metadata": {},
   "outputs": [
    {
     "name": "stdout",
     "output_type": "stream",
     "text": [
      "* * *\n",
      "*   \n",
      "*   \n",
      "* * *\n"
     ]
    }
   ],
   "source": [
    "x=0\n",
    "while x<5:\n",
    "    if x==0 or x==3:\n",
    "        print(\"* * *\")\n",
    "    elif x==1 or x==2:\n",
    "        print(\"*   \")\n",
    "    \n",
    "    x=x+1    "
   ]
  },
  {
   "cell_type": "code",
   "execution_count": 22,
   "id": "52be4822",
   "metadata": {},
   "outputs": [
    {
     "name": "stdout",
     "output_type": "stream",
     "text": [
      "* * * \n",
      "*     *\n",
      "*     *\n",
      "* * * \n"
     ]
    }
   ],
   "source": [
    "x=0\n",
    "while x<5:\n",
    "    if x==0 or x==3:\n",
    "        print(\"* * * \")\n",
    "    elif x==1 or x==2 :\n",
    "        print(\"*     *\")\n",
    "    \n",
    "    x=x+1   "
   ]
  },
  {
   "cell_type": "code",
   "execution_count": 26,
   "id": "a770e9b5",
   "metadata": {},
   "outputs": [
    {
     "name": "stdout",
     "output_type": "stream",
     "text": [
      "* * *\n",
      "*   \n",
      "* * *\n",
      "*   \n",
      "* * *\n"
     ]
    }
   ],
   "source": [
    "x=0\n",
    "while x<5:\n",
    "    if x==0 or x==2 or x==4:\n",
    "        print(\"* * *\")\n",
    "    else:\n",
    "        print(\"*   \")\n",
    "    \n",
    "    x=x+1    "
   ]
  },
  {
   "cell_type": "code",
   "execution_count": 27,
   "id": "9e2a06b5",
   "metadata": {},
   "outputs": [
    {
     "name": "stdout",
     "output_type": "stream",
     "text": [
      "* * *\n",
      "*   \n",
      "* * *\n",
      "*   \n",
      "*   \n"
     ]
    }
   ],
   "source": [
    "x=0\n",
    "while x<5:\n",
    "    if x==0 or x==2 :\n",
    "        print(\"* * *\")\n",
    "    else:\n",
    "        print(\"*   \")\n",
    "    \n",
    "    x=x+1    "
   ]
  },
  {
   "cell_type": "code",
   "execution_count": 29,
   "id": "5de24221",
   "metadata": {},
   "outputs": [
    {
     "name": "stdout",
     "output_type": "stream",
     "text": [
      "*  *  *\n",
      "*   \n",
      "*  *  *\n",
      "*     *\n",
      "*  *  *\n"
     ]
    }
   ],
   "source": [
    "x=0\n",
    "while x<5:\n",
    "    if x==0 or x==2 or x==4:\n",
    "        print(\"*  *  *\")\n",
    "    elif x==1:\n",
    "        print(\"*   \")\n",
    "    else:\n",
    "        print(\"*     *\")\n",
    "    \n",
    "    x=x+1    "
   ]
  },
  {
   "cell_type": "code",
   "execution_count": 40,
   "id": "01081576",
   "metadata": {
    "scrolled": false
   },
   "outputs": [
    {
     "name": "stdout",
     "output_type": "stream",
     "text": [
      "*     *\n",
      "*     *\n",
      "*  *  *\n",
      "*     *\n",
      "*     *\n"
     ]
    }
   ],
   "source": [
    "x=0\n",
    "while x<5:\n",
    "    if x==0 or x==1 or x==3 or x==4:\n",
    "        print(\"*     *\")\n",
    "\n",
    "    elif x==2:\n",
    "        print(\"*  *  *\")\n",
    "    \n",
    "    x=x+1    "
   ]
  },
  {
   "cell_type": "code",
   "execution_count": 43,
   "id": "98d2364c",
   "metadata": {},
   "outputs": [
    {
     "name": "stdout",
     "output_type": "stream",
     "text": [
      "* * *\n",
      "  *  \n",
      "  *  \n",
      "  *  \n",
      "* * *\n"
     ]
    }
   ],
   "source": [
    "x=0\n",
    "while x<5:\n",
    "    if x==0 or x==4:\n",
    "        print(\"* * *\")\n",
    "\n",
    "    else:\n",
    "        print(\"  *  \")\n",
    "    \n",
    "    x=x+1    "
   ]
  },
  {
   "cell_type": "code",
   "execution_count": 51,
   "id": "e80f1ea9",
   "metadata": {},
   "outputs": [
    {
     "name": "stdout",
     "output_type": "stream",
     "text": [
      "* * * * *\n",
      "    *  \n",
      "    *  \n",
      "    *  \n",
      "* * *\n"
     ]
    }
   ],
   "source": [
    "x=0\n",
    "while x<5:\n",
    "    if x==0 :\n",
    "        print(\"* * * * *\")\n",
    "    elif  x==4:\n",
    "        print(\"* * *\")\n",
    "\n",
    "    else:\n",
    "        print(\"    *  \")\n",
    "    \n",
    "    x=x+1    "
   ]
  },
  {
   "cell_type": "code",
   "execution_count": 56,
   "id": "2ab971a1",
   "metadata": {},
   "outputs": [
    {
     "name": "stdout",
     "output_type": "stream",
     "text": [
      "*    *\n",
      "*   * \n",
      "* * \n",
      "*   * \n",
      "*    *\n"
     ]
    }
   ],
   "source": [
    "x=0\n",
    "while x<5:\n",
    "    if x==0 or x==4:\n",
    "        print(\"*    *\")\n",
    "    elif  x==1or x==3:\n",
    "        print(\"*   * \")\n",
    "\n",
    "    else:\n",
    "        print(\"* * \")\n",
    "    \n",
    "    x=x+1    "
   ]
  },
  {
   "cell_type": "code",
   "execution_count": 60,
   "id": "f56b270f",
   "metadata": {},
   "outputs": [
    {
     "name": "stdout",
     "output_type": "stream",
     "text": [
      "*   \n",
      "*   \n",
      "*   \n",
      "*   \n",
      "* * * *\n"
     ]
    }
   ],
   "source": [
    "x=0\n",
    "while x<5:\n",
    "    if x==0 or x==1 or x==2 or x==3:\n",
    "        print(\"*   \")\n",
    "    \n",
    "\n",
    "    else:\n",
    "        print(\"* * * *\")\n",
    "    \n",
    "    x=x+1    "
   ]
  },
  {
   "cell_type": "code",
   "execution_count": 70,
   "id": "8a264d63",
   "metadata": {
    "scrolled": true
   },
   "outputs": [
    {
     "name": "stdout",
     "output_type": "stream",
     "text": [
      "*       *\n",
      "*  *  * *\n",
      "*   *   * \n",
      "*       *\n",
      "*       *\n"
     ]
    }
   ],
   "source": [
    "x=0\n",
    "while x<5:\n",
    "    if x==0 or x==3 or x==4 :\n",
    "        print(\"*       *\")\n",
    "\n",
    "    elif x==1:\n",
    "        print(\"*  *  * *\")\n",
    "    else : \n",
    "        print(\"*   *   * \")\n",
    "    \n",
    "    x=x+1    "
   ]
  },
  {
   "cell_type": "code",
   "execution_count": 78,
   "id": "1fbb38af",
   "metadata": {},
   "outputs": [
    {
     "name": "stdout",
     "output_type": "stream",
     "text": [
      "*        *\n",
      "*  *     *\n",
      "*   *    *\n",
      "*    *   * \n",
      "*        *\n"
     ]
    }
   ],
   "source": [
    "x=0\n",
    "while x<5:\n",
    "    if x==0 or x==4 :\n",
    "        print(\"*        *\")\n",
    "\n",
    "    elif x==1:\n",
    "        print(\"*  *     *\")\n",
    "    elif x==2:\n",
    "        print(\"*   *    *\")\n",
    "    else : \n",
    "        print(\"*    *   * \")\n",
    "    \n",
    "    x=x+1    "
   ]
  },
  {
   "cell_type": "code",
   "execution_count": 7,
   "id": "b4a186d6",
   "metadata": {},
   "outputs": [
    {
     "name": "stdout",
     "output_type": "stream",
     "text": [
      " * * * \n",
      "*     *\n",
      "*     *\n",
      " * * * \n"
     ]
    }
   ],
   "source": [
    "x=0\n",
    "while x<5:\n",
    "    if x==0 or x==3:\n",
    "        print(\" * * * \")\n",
    "    elif x==1 or x==2 :\n",
    "        print(\"*     *\")\n",
    "    \n",
    "    x=x+1   "
   ]
  },
  {
   "cell_type": "code",
   "execution_count": 9,
   "id": "a9bae013",
   "metadata": {},
   "outputs": [
    {
     "name": "stdout",
     "output_type": "stream",
     "text": [
      "* * *\n",
      "*    *\n",
      "* * *\n",
      "*   \n",
      "*   \n"
     ]
    }
   ],
   "source": [
    "x=0\n",
    "while x<5:\n",
    "    if x==0 or x==2 :\n",
    "        print(\"* * *\")\n",
    "    elif x==1:\n",
    "        print(\"*    *\")\n",
    "    else:\n",
    "        print(\"*   \")\n",
    "    \n",
    "    x=x+1    "
   ]
  },
  {
   "cell_type": "code",
   "execution_count": 20,
   "id": "12ed0f38",
   "metadata": {},
   "outputs": [
    {
     "name": "stdout",
     "output_type": "stream",
     "text": [
      "* * * * \n",
      "*     *\n",
      "*     *\n",
      "*   \\ *\n",
      "* * *\\*\n"
     ]
    }
   ],
   "source": [
    "x=0\n",
    "while x<5:\n",
    "    if x==0:\n",
    "        print(\"* * * * \")\n",
    "    elif x==3 :\n",
    "        print(\"*   \\ *\")\n",
    "    elif x==4:\n",
    "        print(\"* * *\\*\")\n",
    "    else:\n",
    "         print(\"*     *\")\n",
    "    \n",
    "    x=x+1   "
   ]
  },
  {
   "cell_type": "code",
   "execution_count": 23,
   "id": "fd943f92",
   "metadata": {},
   "outputs": [
    {
     "name": "stdout",
     "output_type": "stream",
     "text": [
      "* * *\n",
      "*    *\n",
      "* * *\n",
      "*   *\n",
      "*    *\n"
     ]
    }
   ],
   "source": [
    "x=0\n",
    "while x<5:\n",
    "    if x==0 or x==2 :\n",
    "        print(\"* * *\")\n",
    "    elif x==1:\n",
    "        print(\"*    *\")\n",
    "    elif x==3:\n",
    "        print(\"*   *\")\n",
    "    elif x==4:\n",
    "        print(\"*    *\")\n",
    "    else:\n",
    "        print(\"*   \")\n",
    "    \n",
    "    x=x+1    "
   ]
  },
  {
   "cell_type": "code",
   "execution_count": 24,
   "id": "766d5d1a",
   "metadata": {},
   "outputs": [
    {
     "name": "stdout",
     "output_type": "stream",
     "text": [
      "* * * *\n",
      "*   \n",
      "* * * *\n",
      "      *\n",
      "* * * *\n"
     ]
    }
   ],
   "source": [
    "x=0\n",
    "while x<5:\n",
    "    if x==0 or x==2 or x==4 :\n",
    "        print(\"* * * *\")\n",
    "    elif x==3:\n",
    "        print(\"      *\")\n",
    "    else:\n",
    "        print(\"*   \")\n",
    "    \n",
    "    x=x+1    "
   ]
  },
  {
   "cell_type": "code",
   "execution_count": 27,
   "id": "56cbc937",
   "metadata": {},
   "outputs": [
    {
     "name": "stdout",
     "output_type": "stream",
     "text": [
      "* * * * *\n",
      "    *  \n",
      "    *  \n",
      "    *  \n",
      "    *  \n"
     ]
    }
   ],
   "source": [
    "x=0\n",
    "while x<5:\n",
    "    if x==0 :\n",
    "        print(\"* * * * *\")\n",
    "    else: \n",
    "        print(\"    *  \")\n",
    "\n",
    "    \n",
    "    x=x+1    "
   ]
  },
  {
   "cell_type": "code",
   "execution_count": 30,
   "id": "88676076",
   "metadata": {},
   "outputs": [
    {
     "name": "stdout",
     "output_type": "stream",
     "text": [
      "*     * \n",
      "*     *\n",
      "*     *\n",
      "*     *\n",
      "* * * *\n"
     ]
    }
   ],
   "source": [
    "x=0\n",
    "while x<5:\n",
    "    if x==0:\n",
    "        print(\"*     * \")\n",
    "    elif x==1 or x==2 or x==3 :\n",
    "        print(\"*     *\")\n",
    "    else: \n",
    "        print(\"* * * *\")\n",
    "\n",
    "    \n",
    "    x=x+1   "
   ]
  },
  {
   "cell_type": "code",
   "execution_count": 35,
   "id": "9c3b738b",
   "metadata": {},
   "outputs": [
    {
     "name": "stdout",
     "output_type": "stream",
     "text": [
      "*     * \n",
      "*     *\n",
      "*     *\n",
      "*     *\n",
      "   * \n"
     ]
    }
   ],
   "source": [
    "x=0\n",
    "while x<5:\n",
    "    if x==0:\n",
    "        print(\"*     * \")\n",
    "    elif x==1 or x==2 or x==3:\n",
    "        print(\"*     *\")\n",
    "    \n",
    "    else: \n",
    "        print(\"   * \")\n",
    "\n",
    "    \n",
    "    x=x+1   "
   ]
  },
  {
   "cell_type": "code",
   "execution_count": 39,
   "id": "04bf0be9",
   "metadata": {},
   "outputs": [
    {
     "name": "stdout",
     "output_type": "stream",
     "text": [
      "*       *\n",
      "*       *\n",
      "*   *   * \n",
      "*  *  * *\n",
      "*       *\n"
     ]
    }
   ],
   "source": [
    "x=0\n",
    "while x<5:\n",
    "    if x==0 or x==1 or x==4 :\n",
    "        print(\"*       *\")\n",
    "\n",
    "    elif x==3:\n",
    "        print(\"*  *  * *\")\n",
    "    else : \n",
    "        print(\"*   *   * \")\n",
    "    \n",
    "    x=x+1    "
   ]
  },
  {
   "cell_type": "code",
   "execution_count": 46,
   "id": "6b2ff455",
   "metadata": {},
   "outputs": [
    {
     "name": "stdout",
     "output_type": "stream",
     "text": [
      "*       *\n",
      "  *   *  \n",
      "    *    \n",
      "  *   *  \n",
      "*       *\n"
     ]
    }
   ],
   "source": [
    "x=0\n",
    "while x<5:\n",
    "    if x==0 or x==4 :\n",
    "        print(\"*       *\")\n",
    "\n",
    "    elif x==1 or x==3 :\n",
    "        print(\"  *   *  \")\n",
    "    else : \n",
    "        print(\"    *    \")\n",
    "    \n",
    "    x=x+1    "
   ]
  },
  {
   "cell_type": "code",
   "execution_count": 48,
   "id": "468af7db",
   "metadata": {},
   "outputs": [
    {
     "name": "stdout",
     "output_type": "stream",
     "text": [
      "*       *\n",
      "  *   *  \n",
      "    *    \n",
      "    *    \n",
      "    *    \n"
     ]
    }
   ],
   "source": [
    "x=0\n",
    "while x<5:\n",
    "    if x==0  :\n",
    "        print(\"*       *\")\n",
    "\n",
    "    elif x==1  :\n",
    "        print(\"  *   *  \")\n",
    "    else : \n",
    "        print(\"    *    \")\n",
    "    \n",
    "    x=x+1    "
   ]
  },
  {
   "cell_type": "code",
   "execution_count": 53,
   "id": "aa014270",
   "metadata": {},
   "outputs": [
    {
     "name": "stdout",
     "output_type": "stream",
     "text": [
      "*  *  * * \n",
      "       *\n",
      "     *\n",
      "  * \n",
      "*  *  * * \n"
     ]
    }
   ],
   "source": [
    "x=0\n",
    "while x<5:\n",
    "    if x==0 or x==4:\n",
    "        print(\"*  *  * * \")\n",
    "    elif x==1:\n",
    "        print(\"       *\")\n",
    "    elif x==2:\n",
    "        print(\"     *\")\n",
    "    else:\n",
    "        print(\"  * \")\n",
    "    x=x+1    "
   ]
  },
  {
   "cell_type": "code",
   "execution_count": null,
   "id": "b9d8639e",
   "metadata": {},
   "outputs": [],
   "source": []
  }
 ],
 "metadata": {
  "kernelspec": {
   "display_name": "Python 3 (ipykernel)",
   "language": "python",
   "name": "python3"
  },
  "language_info": {
   "codemirror_mode": {
    "name": "ipython",
    "version": 3
   },
   "file_extension": ".py",
   "mimetype": "text/x-python",
   "name": "python",
   "nbconvert_exporter": "python",
   "pygments_lexer": "ipython3",
   "version": "3.10.9"
  }
 },
 "nbformat": 4,
 "nbformat_minor": 5
}
