{
 "cells": [
  {
   "cell_type": "code",
   "execution_count": 1,
   "id": "34afb83c",
   "metadata": {},
   "outputs": [
    {
     "name": "stdout",
     "output_type": "stream",
     "text": [
      "0\n",
      "1\n",
      "2\n",
      "4\n",
      "5\n"
     ]
    }
   ],
   "source": [
    "#1 Write a Python program that prints all the numbers from 0 to 6 except 3 and 6\n",
    "\n",
    "\n",
    "\n",
    "for x in range(0,7):\n",
    "    if x%3==0 and x!=0:\n",
    "        continue\n",
    "    else:\n",
    "         print(x)"
   ]
  },
  {
   "cell_type": "code",
   "execution_count": 2,
   "id": "777982d7",
   "metadata": {},
   "outputs": [
    {
     "name": "stdout",
     "output_type": "stream",
     "text": [
      "Enter a number: 20\n",
      "Sum of numbers from 1 to 20 is: 210\n"
     ]
    }
   ],
   "source": [
    "#2 Write a program to accept a number from a user and calculate the sum of all numbers from 1 to a given number\n",
    "\n",
    "\n",
    "\n",
    "num = int(input(\"Enter a number: \"))\n",
    "\n",
    "sum_of_numbers = 0\n",
    "\n",
    "for i in range(1, num + 1):\n",
    "    sum_of_numbers += i\n",
    "\n",
    "print(\"Sum of numbers from 1 to\", num, \"is:\", sum_of_numbers)"
   ]
  },
  {
   "cell_type": "code",
   "execution_count": 3,
   "id": "19bf901e",
   "metadata": {},
   "outputs": [
    {
     "name": "stdout",
     "output_type": "stream",
     "text": [
      "enter the multiplication you want : 7\n",
      "how many values you want to go : 10\n",
      "7*1=7\n",
      "7*2=14\n",
      "7*3=21\n",
      "7*4=28\n",
      "7*5=35\n",
      "7*6=42\n",
      "7*7=49\n",
      "7*8=56\n",
      "7*9=63\n",
      "7*10=70\n"
     ]
    }
   ],
   "source": [
    "#3 Write a program to print multiplication table of a given number(input)\n",
    "\n",
    "table=int(input(\"enter the multiplication you want : \"))\n",
    "value=int(input(\"how many values you want to go : \"))\n",
    "for y in range(1,value+1):\n",
    "    print(\"{}*{}={}\".format(table,y,table*y))"
   ]
  },
  {
   "cell_type": "code",
   "execution_count": 4,
   "id": "3b2fd9b1",
   "metadata": {},
   "outputs": [
    {
     "name": "stdout",
     "output_type": "stream",
     "text": [
      "Enter a digit: 234567\n",
      "Total number of digits: 6\n"
     ]
    }
   ],
   "source": [
    "#4 Write a program to count the total number of digits in a number using a while loop. \n",
    "\n",
    "x=input(\"Enter a digit: \")\n",
    "y=0\n",
    "while y<len(x):\n",
    "    y+=1\n",
    "print(\"Total number of digits: \"+str(y))"
   ]
  },
  {
   "cell_type": "code",
   "execution_count": null,
   "id": "84bb9a3f",
   "metadata": {},
   "outputs": [],
   "source": [
    "#5.Write a Python program to guess a number between 1 to\n",
    "#Example:\n",
    "#User is prompted to enter a guess. If the user guesses wrong then the prompt appears again until the guess\n",
    "#is correct, on successful guess, user will get a \"Well guessed!\" message, and the program will exit.\n"
   ]
  },
  {
   "cell_type": "code",
   "execution_count": 6,
   "id": "08b75d10",
   "metadata": {},
   "outputs": [
    {
     "name": "stdout",
     "output_type": "stream",
     "text": [
      "1\n",
      "2\n",
      "Fizz\n",
      "4\n",
      "Buzz\n",
      "Fizz\n",
      "7\n",
      "8\n",
      "Fizz\n",
      "Buzz\n",
      "11\n",
      "Fizz\n",
      "13\n",
      "14\n",
      "FizzBuzz\n",
      "16\n",
      "17\n",
      "Fizz\n",
      "19\n",
      "Buzz\n",
      "Fizz\n",
      "22\n",
      "23\n",
      "Fizz\n",
      "Buzz\n",
      "26\n",
      "Fizz\n",
      "28\n",
      "29\n",
      "FizzBuzz\n",
      "31\n",
      "32\n",
      "Fizz\n",
      "34\n",
      "Buzz\n",
      "Fizz\n",
      "37\n",
      "38\n",
      "Fizz\n",
      "Buzz\n",
      "41\n",
      "Fizz\n",
      "43\n",
      "44\n",
      "FizzBuzz\n",
      "46\n",
      "47\n",
      "Fizz\n",
      "49\n",
      "Buzz\n",
      "Fizz\n",
      "52\n",
      "53\n",
      "Fizz\n",
      "Buzz\n",
      "56\n",
      "Fizz\n",
      "58\n",
      "59\n",
      "FizzBuzz\n"
     ]
    }
   ],
   "source": [
    "#6 Write a Python program which iterates the integers from 1 to 60. \n",
    "#For multiples of three print \"Fizz\" instead of the number and for the multiples of five print \"Buzz\". \n",
    "#For numbers which are multiples of both three and five print \"FizzBuzz\".\n",
    "\n",
    "\n",
    "for x in range(1,61):\n",
    "    if x%3==0 and x%5==0:\n",
    "        print(\"FizzBuzz\")\n",
    "    elif x%3==0:\n",
    "        print(\"Fizz\")\n",
    "    elif x%5==0:\n",
    "        print(\"Buzz\")\n",
    "    else: \n",
    "        print(x)"
   ]
  },
  {
   "cell_type": "code",
   "execution_count": 8,
   "id": "a449e254",
   "metadata": {},
   "outputs": [
    {
     "name": "stdout",
     "output_type": "stream",
     "text": [
      "Enter a string: apple1234\n",
      "Letters: 5\n",
      "Digits: 4\n"
     ]
    }
   ],
   "source": [
    "#7 Write a Python program that accepts a string and calculate the number of digits and letters\n",
    "\n",
    "y=input(\"Enter a string: \")\n",
    "a=0 \n",
    "b=0\n",
    "for x in range(0,len(y)):\n",
    "    if y[x].isalpha():\n",
    "        a+=1\n",
    "    elif y[x].isdigit():\n",
    "        b+=1\n",
    "    else:\n",
    "        continue\n",
    "print(\"Letters: \"+str(a)+\"\\nDigits: \"+str(b))"
   ]
  },
  {
   "cell_type": "code",
   "execution_count": 1,
   "id": "2a16d232",
   "metadata": {},
   "outputs": [
    {
     "name": "stdout",
     "output_type": "stream",
     "text": [
      "Password: SA@231199\n",
      "Valid Password\n"
     ]
    }
   ],
   "source": [
    "#8 Write a Python program to check the validity of password input by users.\n",
    "#Validation:\n",
    "#At least 1 letter between [a-z] and 1 letter between [A-Z].\n",
    "#At least 1 number between [0-9]. \n",
    "#At least 1 character from [$#@].\n",
    "#Minimum length 6 characters.\n",
    "#Maximum length 16 characters\n",
    "\n",
    "\n",
    "\n",
    "x=input(\"Password: \")\n",
    "a=\"\"\n",
    "for y in range(0,len(x)):\n",
    "    if x[y].isalpha() and x[y].isupper() and x[y].isdigit and x[y]==\"$\" or x[y]==\"#\" or x[y]==\"@\":\n",
    "        a+=1\n",
    "    else:\n",
    "        break\n",
    "if 6<=len(x)<=16:\n",
    "        print(\"Valid Password\")    \n",
    "else:\n",
    "    print(\"Invalid Password\")\n",
    "\n",
    "\n",
    "\n"
   ]
  },
  {
   "cell_type": "code",
   "execution_count": 2,
   "id": "badd06d5",
   "metadata": {},
   "outputs": [
    {
     "name": "stdout",
     "output_type": "stream",
     "text": [
      "enter  a string: tomato\n",
      "otamot\n"
     ]
    }
   ],
   "source": [
    "#9 Write a program in Python to reverse a word by using while loop\n",
    "\n",
    "x=input(\"enter  a string: \")\n",
    "y=\"\"\n",
    "z=1\n",
    "while z<len(x)+1:\n",
    "    y+=x[-z]\n",
    "    z+=1\n",
    "print(y)"
   ]
  },
  {
   "cell_type": "code",
   "execution_count": 3,
   "id": "8f2cfa79",
   "metadata": {},
   "outputs": [
    {
     "name": "stdout",
     "output_type": "stream",
     "text": [
      "enter a Number:2\n",
      "enter a Number:3\n",
      "enter a Number:4\n",
      "enter a Number:5\n",
      "enter a Number:6\n",
      "enter a Number:7\n",
      "enter a Number:8\n",
      "enter a Number:9\n",
      "enter a Number:10\n",
      "enter a Number:11\n",
      "Average:  6.5\n"
     ]
    }
   ],
   "source": [
    "#10 Write a program which takes 10 integers as input using loop and print their average value on the screen\n",
    "\n",
    "a=0\n",
    "for x in range(0,10):\n",
    "    y=int(input(\"enter a Number:\"))\n",
    "    a+=y/10\n",
    "print(\"Average: \",a)"
   ]
  },
  {
   "cell_type": "code",
   "execution_count": 4,
   "id": "c94d0437",
   "metadata": {},
   "outputs": [
    {
     "name": "stdout",
     "output_type": "stream",
     "text": [
      "enter a number: 2\n",
      "enter q to quit or enter n to continue: n\n",
      "enter a number: 3\n",
      "enter q to quit or enter n to continue: q\n",
      "avg: 5 \n",
      " product: 6\n"
     ]
    }
   ],
   "source": [
    "#11 Write a program which takes integer inputs from user until he/she presses “q” (Ask to press q to quit after every integer input). \n",
    "#Print average and product of all numbers.\n",
    "\n",
    "\n",
    "\n",
    "\n",
    "a=0\n",
    "b=1\n",
    "x=0\n",
    "while x>=0:\n",
    "    y=int(input(\"enter a number: \"))\n",
    "    a+=y\n",
    "    b*=y\n",
    "    z=input(\"enter q to quit or enter n to continue: \")\n",
    "    if z==\"q\":\n",
    "        break\n",
    "    else:\n",
    "        continue\n",
    "    x+=1\n",
    "print(\"avg:\",a,\"\\n product:\",b)\n",
    "\n"
   ]
  },
  {
   "cell_type": "code",
   "execution_count": 6,
   "id": "07f26454",
   "metadata": {},
   "outputs": [
    {
     "name": "stdout",
     "output_type": "stream",
     "text": [
      "Enter a string: abcgde@#$%1234\n",
      "abcgde\n"
     ]
    }
   ],
   "source": [
    "#12 Write a Python program which will remove all digits or any other characters from the string except alphabets\n",
    "\n",
    "\n",
    "\n",
    "x=input(\"Enter a string: \")\n",
    "a=\"\"\n",
    "for y in range(0,len(x)):\n",
    "    if x[y].isalpha():\n",
    "        a+=x[y]\n",
    "    else:\n",
    "        continue\n",
    "print(a)"
   ]
  },
  {
   "cell_type": "code",
   "execution_count": 7,
   "id": "58d6d9db",
   "metadata": {},
   "outputs": [
    {
     "name": "stdout",
     "output_type": "stream",
     "text": [
      "20\n"
     ]
    }
   ],
   "source": [
    "#13 Write a python program to find the sum of all even numbers from 0 to 10\n",
    "\n",
    "\n",
    "\n",
    "sum1=0\n",
    "for x in range(0,10):\n",
    "    if x%2==0:\n",
    "        sum1+=x\n",
    "    else:\n",
    "        continue\n",
    "print(sum1)"
   ]
  },
  {
   "cell_type": "code",
   "execution_count": 8,
   "id": "984d4cf9",
   "metadata": {},
   "outputs": [
    {
     "name": "stdout",
     "output_type": "stream",
     "text": [
      "Give a number:23\n",
      "22\n",
      "21\n",
      "20\n",
      "19\n",
      "18\n",
      "17\n",
      "16\n",
      "15\n",
      "14\n",
      "13\n",
      "12\n",
      "11\n",
      "10\n",
      "9\n",
      "8\n",
      "7\n",
      "6\n",
      "5\n",
      "4\n",
      "3\n",
      "2\n",
      "1\n",
      "0\n"
     ]
    }
   ],
   "source": [
    "#14 Write a python program which will accept a digit and print All the numbers before it till 0\n",
    "\n",
    "\n",
    "x=int(input(\"Give a number:\"))\n",
    "for y in range(x-1,-1,-1):\n",
    "    print(y)"
   ]
  }
 ],
 "metadata": {
  "kernelspec": {
   "display_name": "Python 3 (ipykernel)",
   "language": "python",
   "name": "python3"
  },
  "language_info": {
   "codemirror_mode": {
    "name": "ipython",
    "version": 3
   },
   "file_extension": ".py",
   "mimetype": "text/x-python",
   "name": "python",
   "nbconvert_exporter": "python",
   "pygments_lexer": "ipython3",
   "version": "3.10.9"
  }
 },
 "nbformat": 4,
 "nbformat_minor": 5
}
