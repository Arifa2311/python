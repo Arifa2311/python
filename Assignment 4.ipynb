{
 "cells": [
  {
   "cell_type": "code",
   "execution_count": 1,
   "id": "3f6a274b",
   "metadata": {},
   "outputs": [
    {
     "name": "stdout",
     "output_type": "stream",
     "text": [
      "1\n",
      "2\n",
      "3\n",
      "4\n",
      "5\n"
     ]
    }
   ],
   "source": [
    "# 1.Write a Python program to loop through all the elements in a list\n",
    "\n",
    "\n",
    "x=[1,2,3,4,5]\n",
    "for y in x:\n",
    "    print(y)"
   ]
  },
  {
   "cell_type": "code",
   "execution_count": 2,
   "id": "bcf14ef8",
   "metadata": {},
   "outputs": [
    {
     "name": "stdout",
     "output_type": "stream",
     "text": [
      "enter the length of the list : 4\n",
      "enter element : 2\n",
      "enter element : 3\n",
      "enter element : 4\n",
      "enter element : 5\n",
      "['2', '3', '4', '5']\n"
     ]
    }
   ],
   "source": [
    "# 2.Write a Python program where you will ask the users to insert elements in a list\n",
    "\n",
    "\n",
    "l=[]\n",
    "x=int(input(\"enter the length of the list : \"))\n",
    "for y in range(x):\n",
    "    \n",
    "    i=input(\"enter element : \".format(x+1))\n",
    "    l.insert(x,i)\n",
    "print(l)      \n",
    "            \n",
    "           "
   ]
  },
  {
   "cell_type": "code",
   "execution_count": 8,
   "id": "d57cbcbd",
   "metadata": {},
   "outputs": [
    {
     "data": {
      "text/plain": [
       "[1, 3, 5, 7]"
      ]
     },
     "execution_count": 8,
     "metadata": {},
     "output_type": "execute_result"
    }
   ],
   "source": [
    "#3 Write a Python program to remove all the odd index value from a list and only even index elements should remain\n",
    "\n",
    "l=[1,2,3,4,5,6,7]\n",
    "l[::2]"
   ]
  },
  {
   "cell_type": "code",
   "execution_count": 4,
   "id": "5674b3df",
   "metadata": {},
   "outputs": [
    {
     "name": "stdout",
     "output_type": "stream",
     "text": [
      "[1, 3, 5, 7]\n"
     ]
    }
   ],
   "source": [
    "l=[]\n",
    "x=[1,2,3,4,5,6,7]\n",
    "for y in range (0,len(x)):\n",
    "    if y%2==0:\n",
    "        l.append(x[y])\n",
    "print(l)   "
   ]
  },
  {
   "cell_type": "code",
   "execution_count": 12,
   "id": "1d6ac13d",
   "metadata": {},
   "outputs": [
    {
     "name": "stdout",
     "output_type": "stream",
     "text": [
      "sum= 28\n",
      "product= 5040\n"
     ]
    }
   ],
   "source": [
    "#4. Write a Python program to sum and multiply all the items in a list\n",
    "\n",
    "l=[1,2,3,4,5,6,7]\n",
    "sum1=0\n",
    "product=1\n",
    "for x in l:\n",
    "    sum1+=x\n",
    "    product*=x\n",
    "print(\"sum=\",sum1)\n",
    "print(\"product=\",product)\n",
    "\n"
   ]
  },
  {
   "cell_type": "code",
   "execution_count": 5,
   "id": "5ff8a6c2",
   "metadata": {},
   "outputs": [
    {
     "name": "stdout",
     "output_type": "stream",
     "text": [
      "max_num =  56\n",
      "min_num =  2\n"
     ]
    }
   ],
   "source": [
    "#5 Write a Python program to get the maximum and minimum numbers from a list\n",
    "\n",
    "l=[10,20,34,56,2]\n",
    "max_num=l[0]\n",
    "min_num=l[0]\n",
    "for x in l:\n",
    "    if x>max_num:\n",
    "        max_num=x\n",
    "    if x<min_num:\n",
    "        min_num=x\n",
    "print(\"max_num = \" ,max_num) \n",
    "print(\"min_num = \",min_num)"
   ]
  },
  {
   "cell_type": "code",
   "execution_count": 5,
   "id": "8e8002f5",
   "metadata": {},
   "outputs": [
    {
     "name": "stdout",
     "output_type": "stream",
     "text": [
      "['Green', 'White', 'Black']\n"
     ]
    }
   ],
   "source": [
    "#6.Write a Python program to print a specified list after removing the 0th, 4th and 5th elements.\n",
    "#Ex:\n",
    "#Input: ['Red', 'Green', 'White', 'Black', 'Pink', 'Yellow']\n",
    "#Output: ['Green', 'White', 'Black']\n",
    "\n",
    "\n",
    "l=[]\n",
    "x=['Red', 'Green', 'White', 'Black', 'Pink', 'Yellow']\n",
    "\n",
    "for y in range(0,len(x)):\n",
    "    if y!=0 and y!=4 and y!=5:\n",
    "        l.append(x[y])\n",
    "print(l)\n"
   ]
  },
  {
   "cell_type": "code",
   "execution_count": 2,
   "id": "b2945bd0",
   "metadata": {},
   "outputs": [
    {
     "name": "stdout",
     "output_type": "stream",
     "text": [
      "1 2 3 4 "
     ]
    }
   ],
   "source": [
    "#7.. Write a Python program to convert a list of characters into a string\n",
    "\n",
    "x=[1,2,3,4]\n",
    "for y in x:\n",
    "    print(y,end=\" \")\n",
    "    y=str(y)"
   ]
  },
  {
   "cell_type": "code",
   "execution_count": 3,
   "id": "4d5bdfc2",
   "metadata": {},
   "outputs": [
    {
     "data": {
      "text/plain": [
       "str"
      ]
     },
     "execution_count": 3,
     "metadata": {},
     "output_type": "execute_result"
    }
   ],
   "source": [
    "type(y)"
   ]
  },
  {
   "cell_type": "code",
   "execution_count": 6,
   "id": "d2d4aeb7",
   "metadata": {},
   "outputs": [
    {
     "name": "stdout",
     "output_type": "stream",
     "text": [
      "average:  3.0\n"
     ]
    }
   ],
   "source": [
    "#8.Write a Python program to compute average of given lists.\n",
    "\n",
    "l=[1,2,3,4,5]\n",
    "average=0\n",
    "num=len(l)\n",
    "for x in l:\n",
    "    average+=x/num\n",
    "print(\"average: \",average)    "
   ]
  },
  {
   "cell_type": "code",
   "execution_count": 2,
   "id": "8acbce0d",
   "metadata": {},
   "outputs": [
    {
     "name": "stdout",
     "output_type": "stream",
     "text": [
      "enter the length of the list:  4\n",
      "int,float , complex ,string choose from this : int\n",
      "enter the data : 1\n",
      "int,float , complex ,string choose from this : float\n",
      "enter the data : 1.1\n",
      "int,float , complex ,string choose from this : int\n",
      "enter the data : 2\n",
      "int,float , complex ,string choose from this : string\n",
      "enter the data: \"a\"\n",
      "[1, 1.1, 2, '\"a\"']\n",
      "Number of integers :  2\n"
     ]
    }
   ],
   "source": [
    "#9.  Write a Python program to count integer in a given mixed list.\n",
    "a=0\n",
    "l=[]\n",
    "x=int(input(\"enter the length of the list:  \"))\n",
    "for y in range(0,x):\n",
    "    data_type=input(\"int,float , complex ,string choose from this : \")\n",
    "    if data_type==\"int\":\n",
    "        l.append(int(input(\"enter the data : \")))\n",
    "        a+=1\n",
    "    elif data_type==\"float\":\n",
    "        l.append(float(input(\"enter the data : \")))\n",
    "    elif data_type==\"complex\":\n",
    "        l.append(complex(input(\"enter the data : \")))\n",
    "    else:\n",
    "        l.append(input(\"enter the data: \"))\n",
    "print(l)  \n",
    "\n",
    "print(\"Number of integers : \",a)"
   ]
  },
  {
   "cell_type": "code",
   "execution_count": 8,
   "id": "1afc85a1",
   "metadata": {},
   "outputs": [
    {
     "data": {
      "text/plain": [
       "[5, 4, 3, 2, 1]"
      ]
     },
     "execution_count": 8,
     "metadata": {},
     "output_type": "execute_result"
    }
   ],
   "source": [
    "#10.Write a Python program to reverse the list\n",
    "\n",
    "l=[1,2,3,4,5]\n",
    "l[::-1]"
   ]
  },
  {
   "cell_type": "code",
   "execution_count": 9,
   "id": "125140d3",
   "metadata": {},
   "outputs": [
    {
     "name": "stdout",
     "output_type": "stream",
     "text": [
      "[5, 4, 3, 2, 1]\n"
     ]
    }
   ],
   "source": [
    "l=[1,2,3,4,5]\n",
    "l.reverse()\n",
    "print(l)"
   ]
  },
  {
   "cell_type": "code",
   "execution_count": 6,
   "id": "f09ee115",
   "metadata": {},
   "outputs": [
    {
     "name": "stdout",
     "output_type": "stream",
     "text": [
      "('a', 'r', 'i', 'f', 'a')\n"
     ]
    }
   ],
   "source": [
    "#11. Write a Python program convert a given string to a tuple\n",
    "\n",
    "\n",
    "x=\"arifa\"\n",
    "l=[]\n",
    "for y in x:\n",
    "    l.append(y)\n",
    "z=tuple(l)\n",
    "print(z)"
   ]
  }
 ],
 "metadata": {
  "kernelspec": {
   "display_name": "Python 3 (ipykernel)",
   "language": "python",
   "name": "python3"
  },
  "language_info": {
   "codemirror_mode": {
    "name": "ipython",
    "version": 3
   },
   "file_extension": ".py",
   "mimetype": "text/x-python",
   "name": "python",
   "nbconvert_exporter": "python",
   "pygments_lexer": "ipython3",
   "version": "3.10.9"
  }
 },
 "nbformat": 4,
 "nbformat_minor": 5
}
