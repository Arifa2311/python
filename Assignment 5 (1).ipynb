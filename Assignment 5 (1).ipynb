{
 "cells": [
  {
   "cell_type": "code",
   "execution_count": 2,
   "id": "92751bdf",
   "metadata": {},
   "outputs": [
    {
     "name": "stdout",
     "output_type": "stream",
     "text": [
      "the list :  [2, 7, 4, 5, 6, 1, 1, 9, 9, 8, 7, 7, 3]\n",
      "new list after removing duplicates :  [2, 7, 4, 5, 6, 1, 9, 8, 3]\n",
      "[1, 2, 3, 4, 5, 6, 7, 8, 9]\n"
     ]
    }
   ],
   "source": [
    "#1. Given a list of numbers, write a python program that returns a new list which Has all \n",
    "#duplicate elements removed. And is sorted in an increasing order.\n",
    "\n",
    "l=[2,7,4,5,6,1,1,9,9,8,7,7,3]\n",
    "print(\"the list : \",l)\n",
    "new_list=[]\n",
    "for x in l:\n",
    "    if x not in new_list:\n",
    "        new_list.append(x)\n",
    "print(\"new list after removing duplicates : \",new_list)\n",
    "new_list.sort()\n",
    "print(new_list)\n",
    "\n",
    "\n"
   ]
  },
  {
   "cell_type": "code",
   "execution_count": 3,
   "id": "f975e12d",
   "metadata": {},
   "outputs": [
    {
     "name": "stdout",
     "output_type": "stream",
     "text": [
      "1 a\n",
      "2 b\n",
      "3 c\n"
     ]
    }
   ],
   "source": [
    "#2. Write a Python program where you will iterate over both keys and values in dictionaries\n",
    "\n",
    "\n",
    "x={1:\"a\",2:\"b\",3:\"c\"}\n",
    "for y,z in x.items():\n",
    "    print(y,z)\n"
   ]
  },
  {
   "cell_type": "code",
   "execution_count": 14,
   "id": "453f43d5",
   "metadata": {},
   "outputs": [
    {
     "name": "stdout",
     "output_type": "stream",
     "text": [
      "['Gephi', 'Manoj', 'Tarun']\n"
     ]
    }
   ],
   "source": [
    "#3.Write a Python program that takes a dictionary of student names and returns a list of student names in alphabetical order\n",
    "\n",
    "a=[]\n",
    "x={\"Student 1\": \"Tarun\", \"Student 2\": \"Manoj\", \"Student 3\": \"Gephi\"}\n",
    "a+=x.values()\n",
    "a.sort()\n",
    "print(a)"
   ]
  },
  {
   "cell_type": "code",
   "execution_count": 11,
   "id": "d609f2c4",
   "metadata": {},
   "outputs": [
    {
     "name": "stdout",
     "output_type": "stream",
     "text": [
      "[False, True, False, False, True]\n"
     ]
    }
   ],
   "source": [
    "#4.Write a Python which returns a new list of Booleans, from a given number. Iterating \n",
    "#through the number one digit at a time, append True if the digit is 1 and False if it is 0.\n",
    "a=[]\n",
    "x=\"01001\"\n",
    "z=list(x)\n",
    "for y in range(len(z)):\n",
    "    if z[y]==\"0\":\n",
    "        a+=[False]\n",
    "    else:\n",
    "        a+=[True]\n",
    "print(a)"
   ]
  },
  {
   "cell_type": "code",
   "execution_count": null,
   "id": "a85b5682",
   "metadata": {},
   "outputs": [],
   "source": [
    "#5.Write a Python program where you will return a dictionary where the keys will be the \n",
    "#character and the values will be the occurrence of the character in the string, and it \n",
    "#should for any string inputs (dynamic)\n"
   ]
  },
  {
   "cell_type": "code",
   "execution_count": 32,
   "id": "9b7b860d",
   "metadata": {},
   "outputs": [
    {
     "name": "stdout",
     "output_type": "stream",
     "text": [
      "oldest_person :  meghana\n"
     ]
    }
   ],
   "source": [
    "#6. Given a dictionary containing the names and ages of a group of people, return the name of the oldest person\n",
    "\n",
    "x={\"arifa\":23,\"meghana\":24,\"jasmi\":17,\"divya\":21}\n",
    "oldest_age=0\n",
    "oldest_person=\"\"\n",
    "for name,age in x.items():\n",
    "    if age>oldest_age:\n",
    "        oldest_person=name\n",
    "        oldest_age=age\n",
    "print(\"oldest_person : \",oldest_person)"
   ]
  },
  {
   "cell_type": "code",
   "execution_count": 27,
   "id": "294fbae7",
   "metadata": {},
   "outputs": [
    {
     "name": "stdout",
     "output_type": "stream",
     "text": [
      "Please choose between 'Rock', 'Paper', and 'Scissors' : scissors\n",
      "Please choose between 'Rock', 'Paper', and 'Scissors' : paper\n",
      "player 1 wins\n",
      "('scissors', 'paper')\n"
     ]
    }
   ],
   "source": [
    "#7.Write a Python program to create a Rock, Paper, Scissor game, use two inputs for two players:\n",
    "#Conditions: -Rock beats Scissors, Scissors beats Paper, Paper beats Rock\n",
    "\n",
    "\n",
    "\n",
    "\n",
    "player1= input(\"Please choose between 'Rock', 'Paper', and 'Scissors' : \")\n",
    "player2= input(\"Please choose between 'Rock', 'Paper', and 'Scissors' : \")\n",
    "\n",
    "if player1 == player2:\n",
    "        print (\"It's a tie\")\n",
    "elif player1==\"rock\" or \"Rock\" and player2==\"scissors\" or \"Scissors\":\n",
    "    print(\"player 1 wins\")\n",
    "else:\n",
    "    print(\"player 2 wins\")\n",
    "        \n",
    "        \n",
    "winner =player1,player2 \n",
    "print(winner)\n",
    "\n"
   ]
  },
  {
   "cell_type": "code",
   "execution_count": 12,
   "id": "eaf42dd0",
   "metadata": {},
   "outputs": [
    {
     "name": "stdout",
     "output_type": "stream",
     "text": [
      "Enter Your Wallet Balance: 30\n",
      "Items you can buy: ['water bottles', 'chips']\n",
      "Your remaining balance will be:  0\n"
     ]
    }
   ],
   "source": [
    "#8.Create a program that returns a list of items that you can afford in the store with the money you have in your wallet.\n",
    "#Create a dictionary with items as key and price as values\n",
    "\n",
    "\n",
    "store_items={\"water bottles\": 20, \"chips\":10, \"pens\":50}\n",
    "a=0;b=0;l=[]\n",
    "x=int(input(\"Enter Your Wallet Balance: \"))\n",
    "for y,z in store_items.items():\n",
    "    if z<=x and z<=x:\n",
    "        a+=z\n",
    "        b=y\n",
    "        l.append(b)\n",
    "    else:\n",
    "        continue\n",
    "print(\"Items you can buy:\",l)\n",
    "if a>x:\n",
    "    print(\"Your remaining balance will be: \",a-x)\n",
    "else:\n",
    "    print(\"Your remaining balance will be: \",x-a)"
   ]
  },
  {
   "cell_type": "code",
   "execution_count": 31,
   "id": "0332578f",
   "metadata": {},
   "outputs": [
    {
     "data": {
      "text/plain": [
       "{1, 2, 3, 4, 5, 6, 7, 8}"
      ]
     },
     "execution_count": 31,
     "metadata": {},
     "output_type": "execute_result"
    }
   ],
   "source": [
    "#9.Write a Python program to create a union of sets\n",
    "\n",
    "set1={1,2,3,4}\n",
    "set2={5,6,7,8}\n",
    "set3=set1.union(set2)\n",
    "set3"
   ]
  },
  {
   "cell_type": "code",
   "execution_count": 10,
   "id": "48a3782d",
   "metadata": {},
   "outputs": [
    {
     "name": "stdout",
     "output_type": "stream",
     "text": [
      "Enter values to add to the set (enter 'done' to stop):\n",
      "3\n",
      "4\n",
      "5\n",
      "6\n",
      "7\n",
      "done\n",
      "Enter a value to check: 6\n",
      "The value '{check_value}' is present in the set.\n"
     ]
    }
   ],
   "source": [
    "#10.Write a Python program to check if a given value is present in a set or not (Dynamic)\n",
    "\n",
    "my_set = set()\n",
    "print(\"Enter values to add to the set (enter 'done' to stop):\")\n",
    "while True:\n",
    "        value = input()\n",
    "        if value == \"done\":\n",
    "            break\n",
    "        my_set.add(value)\n",
    "check_value = input(\"Enter a value to check: \")\n",
    "if check_value in my_set:\n",
    "        print(\"The value '{check_value}' is present in the set.\")\n",
    "else:\n",
    "        print(\"The value '{check_value}' is not present in the set.\")\n",
    "    "
   ]
  },
  {
   "cell_type": "code",
   "execution_count": null,
   "id": "f3c14d28",
   "metadata": {},
   "outputs": [],
   "source": [
    "#11.Write a Python program to find the occurrences of 3 most common words in a given text. And make it as a dictionaries"
   ]
  },
  {
   "cell_type": "code",
   "execution_count": null,
   "id": "259eb769",
   "metadata": {},
   "outputs": [],
   "source": [
    "#12. Write a Python program that accepts name of given subject and mark, and make subjects as keys in dictionaries \n",
    "#and marks as values and print the final dictionary with subjects and marks"
   ]
  }
 ],
 "metadata": {
  "kernelspec": {
   "display_name": "Python 3 (ipykernel)",
   "language": "python",
   "name": "python3"
  },
  "language_info": {
   "codemirror_mode": {
    "name": "ipython",
    "version": 3
   },
   "file_extension": ".py",
   "mimetype": "text/x-python",
   "name": "python",
   "nbconvert_exporter": "python",
   "pygments_lexer": "ipython3",
   "version": "3.10.9"
  }
 },
 "nbformat": 4,
 "nbformat_minor": 5
}
