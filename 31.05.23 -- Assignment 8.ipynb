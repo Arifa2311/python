{
 "cells": [
  {
   "cell_type": "code",
   "execution_count": 1,
   "id": "19c367a6",
   "metadata": {},
   "outputs": [],
   "source": [
    "#1 Create a function that takes a boolean variable flag and returns it as a string.\n",
    "#Examples\n",
    "#bool_to_string(True) ➞ \"True\"\n",
    "#bool_to_string(False) ➞ \"False\"\n",
    "\n",
    "\n",
    "def bool_to_string(flag):\n",
    "    if flag==False:\n",
    "        return \"False\"\n",
    "    elif flag==True:\n",
    "        return \"True\"\n",
    "    else:\n",
    "        return none\n"
   ]
  },
  {
   "cell_type": "code",
   "execution_count": 2,
   "id": "4eeebdb8",
   "metadata": {},
   "outputs": [
    {
     "data": {
      "text/plain": [
       "'True'"
      ]
     },
     "execution_count": 2,
     "metadata": {},
     "output_type": "execute_result"
    }
   ],
   "source": [
    "bool_to_string(True)"
   ]
  },
  {
   "cell_type": "code",
   "execution_count": 3,
   "id": "2354a4c1",
   "metadata": {},
   "outputs": [
    {
     "data": {
      "text/plain": [
       "'False'"
      ]
     },
     "execution_count": 3,
     "metadata": {},
     "output_type": "execute_result"
    }
   ],
   "source": [
    "bool_to_string(False)"
   ]
  },
  {
   "cell_type": "code",
   "execution_count": 5,
   "id": "ef14f550",
   "metadata": {},
   "outputs": [],
   "source": [
    "#2 Create a function that returns True when num1 is equal to num2; otherwise return False.\n",
    "\n",
    "def f1(num1,num2):\n",
    "    if num1==num2:\n",
    "        return True\n",
    "    else:\n",
    "        return False"
   ]
  },
  {
   "cell_type": "code",
   "execution_count": 6,
   "id": "b9c62fc3",
   "metadata": {},
   "outputs": [
    {
     "data": {
      "text/plain": [
       "False"
      ]
     },
     "execution_count": 6,
     "metadata": {},
     "output_type": "execute_result"
    }
   ],
   "source": [
    "f1(10,20)"
   ]
  },
  {
   "cell_type": "code",
   "execution_count": 8,
   "id": "3782bc8c",
   "metadata": {},
   "outputs": [
    {
     "data": {
      "text/plain": [
       "True"
      ]
     },
     "execution_count": 8,
     "metadata": {},
     "output_type": "execute_result"
    }
   ],
   "source": [
    "f1(2,2)"
   ]
  },
  {
   "cell_type": "code",
   "execution_count": 9,
   "id": "fa4383f6",
   "metadata": {},
   "outputs": [],
   "source": [
    "#3 Create a function that takes a number as its only argument and returns True if it's less than or equal to zero, otherwise return False.\n",
    "\n",
    "\n",
    "def f1(num1):\n",
    "    if num1<=0:\n",
    "        return True\n",
    "    else:\n",
    "        return False"
   ]
  },
  {
   "cell_type": "code",
   "execution_count": 10,
   "id": "2b2c71d0",
   "metadata": {},
   "outputs": [
    {
     "data": {
      "text/plain": [
       "False"
      ]
     },
     "execution_count": 10,
     "metadata": {},
     "output_type": "execute_result"
    }
   ],
   "source": [
    "f1(1)"
   ]
  },
  {
   "cell_type": "code",
   "execution_count": 11,
   "id": "8f211b78",
   "metadata": {},
   "outputs": [
    {
     "data": {
      "text/plain": [
       "True"
      ]
     },
     "execution_count": 11,
     "metadata": {},
     "output_type": "execute_result"
    }
   ],
   "source": [
    "f1(0)"
   ]
  },
  {
   "cell_type": "code",
   "execution_count": 12,
   "id": "ccb02e04",
   "metadata": {},
   "outputs": [
    {
     "data": {
      "text/plain": [
       "True"
      ]
     },
     "execution_count": 12,
     "metadata": {},
     "output_type": "execute_result"
    }
   ],
   "source": [
    "f1(-2)"
   ]
  },
  {
   "cell_type": "code",
   "execution_count": 16,
   "id": "2f58c650",
   "metadata": {},
   "outputs": [],
   "source": [
    "#4 Emmy has written a function that returns a greeting to users.\n",
    "#However, she's in love with Mubashir, and would like to greet him slightly differently.\n",
    "#She added a special case in her function, but she made a mistake.\n",
    "#Can you help her?\n",
    "\n",
    "\n",
    "\n",
    "def greeting(var):\n",
    "    if var==\"mubashir\":\n",
    "        return\"Hello, My Love!\"\n",
    "    else:\n",
    "        return \"Hello\",var"
   ]
  },
  {
   "cell_type": "code",
   "execution_count": 17,
   "id": "ad44b7d3",
   "metadata": {},
   "outputs": [
    {
     "data": {
      "text/plain": [
       "('Hello', 'mati')"
      ]
     },
     "execution_count": 17,
     "metadata": {},
     "output_type": "execute_result"
    }
   ],
   "source": [
    "greeting(\"mati\")"
   ]
  },
  {
   "cell_type": "code",
   "execution_count": 18,
   "id": "442191dd",
   "metadata": {},
   "outputs": [
    {
     "data": {
      "text/plain": [
       "'Hello, My Love!'"
      ]
     },
     "execution_count": 18,
     "metadata": {},
     "output_type": "execute_result"
    }
   ],
   "source": [
    "greeting(\"mubashir\")"
   ]
  },
  {
   "cell_type": "code",
   "execution_count": 20,
   "id": "50c06f87",
   "metadata": {},
   "outputs": [],
   "source": [
    "#5 Create a function that takes two arguments. Both arguments are integers, a and b. Return True if one of them is 10 or if their sum is 10.\n",
    "\n",
    "def ifsum(a,b):\n",
    "    if a==10 or b==10 or a+b==10:\n",
    "        return True\n",
    "    else:\n",
    "        return False"
   ]
  },
  {
   "cell_type": "code",
   "execution_count": 21,
   "id": "321c9244",
   "metadata": {},
   "outputs": [
    {
     "data": {
      "text/plain": [
       "False"
      ]
     },
     "execution_count": 21,
     "metadata": {},
     "output_type": "execute_result"
    }
   ],
   "source": [
    "ifsum(2,3)"
   ]
  },
  {
   "cell_type": "code",
   "execution_count": 22,
   "id": "6b549794",
   "metadata": {},
   "outputs": [
    {
     "data": {
      "text/plain": [
       "True"
      ]
     },
     "execution_count": 22,
     "metadata": {},
     "output_type": "execute_result"
    }
   ],
   "source": [
    "ifsum(10,3)"
   ]
  },
  {
   "cell_type": "code",
   "execution_count": 23,
   "id": "c5c0d9dc",
   "metadata": {},
   "outputs": [
    {
     "data": {
      "text/plain": [
       "True"
      ]
     },
     "execution_count": 23,
     "metadata": {},
     "output_type": "execute_result"
    }
   ],
   "source": [
    "ifsum(5,5)"
   ]
  },
  {
   "cell_type": "code",
   "execution_count": 24,
   "id": "64f180c0",
   "metadata": {},
   "outputs": [],
   "source": [
    "#6 Create a function that takes three arguments prob, prize, pay and returns True if prob * prize > pay; otherwise return False.\n",
    "\n",
    "def ppp(prob, prize, pay):\n",
    "    if prob * prize > pay:\n",
    "        return True\n",
    "    else:\n",
    "        return False"
   ]
  },
  {
   "cell_type": "code",
   "execution_count": 25,
   "id": "1c0ee470",
   "metadata": {},
   "outputs": [
    {
     "data": {
      "text/plain": [
       "True"
      ]
     },
     "execution_count": 25,
     "metadata": {},
     "output_type": "execute_result"
    }
   ],
   "source": [
    "ppp(2,3,1)"
   ]
  },
  {
   "cell_type": "code",
   "execution_count": 26,
   "id": "76f2ceb4",
   "metadata": {},
   "outputs": [
    {
     "data": {
      "text/plain": [
       "True"
      ]
     },
     "execution_count": 26,
     "metadata": {},
     "output_type": "execute_result"
    }
   ],
   "source": [
    "ppp(0.2,50,9)"
   ]
  },
  {
   "cell_type": "code",
   "execution_count": 27,
   "id": "2f192b8e",
   "metadata": {},
   "outputs": [],
   "source": [
    "#7 Create a function that takes an integer and returns True if it's divisible by 100, otherwise return False.\n",
    "\n",
    "def div(num1):\n",
    "    if num1%100==0:\n",
    "        return True\n",
    "    else:\n",
    "        return False"
   ]
  },
  {
   "cell_type": "code",
   "execution_count": 28,
   "id": "68abd9e8",
   "metadata": {},
   "outputs": [
    {
     "data": {
      "text/plain": [
       "False"
      ]
     },
     "execution_count": 28,
     "metadata": {},
     "output_type": "execute_result"
    }
   ],
   "source": [
    "div(10)"
   ]
  },
  {
   "cell_type": "code",
   "execution_count": 30,
   "id": "ae08bd22",
   "metadata": {},
   "outputs": [
    {
     "data": {
      "text/plain": [
       "True"
      ]
     },
     "execution_count": 30,
     "metadata": {},
     "output_type": "execute_result"
    }
   ],
   "source": [
    "div(100)"
   ]
  },
  {
   "cell_type": "code",
   "execution_count": 31,
   "id": "88f4d10f",
   "metadata": {},
   "outputs": [
    {
     "data": {
      "text/plain": [
       "True"
      ]
     },
     "execution_count": 31,
     "metadata": {},
     "output_type": "execute_result"
    }
   ],
   "source": [
    "div(1000)"
   ]
  },
  {
   "cell_type": "code",
   "execution_count": 32,
   "id": "10a2552a",
   "metadata": {},
   "outputs": [],
   "source": [
    "#8  Create a function that takes two strings as arguments and return either True or False depending on whether the \n",
    "# total number of characters in the first string is equal to the total number of characters in the second string.\n",
    "\n",
    "def equal_string(a,b):\n",
    "    if len(a)==len(b):\n",
    "        return True\n",
    "    else:\n",
    "        return False"
   ]
  },
  {
   "cell_type": "code",
   "execution_count": 33,
   "id": "d9dc120f",
   "metadata": {},
   "outputs": [
    {
     "data": {
      "text/plain": [
       "True"
      ]
     },
     "execution_count": 33,
     "metadata": {},
     "output_type": "execute_result"
    }
   ],
   "source": [
    "equal_string(\"apple\",\"grape\")"
   ]
  },
  {
   "cell_type": "code",
   "execution_count": 34,
   "id": "46959c54",
   "metadata": {},
   "outputs": [
    {
     "data": {
      "text/plain": [
       "False"
      ]
     },
     "execution_count": 34,
     "metadata": {},
     "output_type": "execute_result"
    }
   ],
   "source": [
    "equal_string(\"apple\",\"grapes\")"
   ]
  },
  {
   "cell_type": "code",
   "execution_count": 36,
   "id": "09c66504",
   "metadata": {},
   "outputs": [],
   "source": [
    "#9 Given a string, return True if its length is even or False if the length is odd.\n",
    "\n",
    "\n",
    "def even_len(a):\n",
    "    if len(a)%2==0:\n",
    "        return True\n",
    "    else:\n",
    "        return False"
   ]
  },
  {
   "cell_type": "code",
   "execution_count": 37,
   "id": "254310c2",
   "metadata": {},
   "outputs": [
    {
     "data": {
      "text/plain": [
       "True"
      ]
     },
     "execution_count": 37,
     "metadata": {},
     "output_type": "execute_result"
    }
   ],
   "source": [
    "even_len(\"even\")"
   ]
  },
  {
   "cell_type": "code",
   "execution_count": 38,
   "id": "1af34944",
   "metadata": {},
   "outputs": [
    {
     "data": {
      "text/plain": [
       "False"
      ]
     },
     "execution_count": 38,
     "metadata": {},
     "output_type": "execute_result"
    }
   ],
   "source": [
    "even_len(\"odd\")"
   ]
  },
  {
   "cell_type": "code",
   "execution_count": 39,
   "id": "1bc5a9c8",
   "metadata": {},
   "outputs": [],
   "source": [
    "#10 Create a function that takes a string; we'll say that the front is the first three characters of the string. \n",
    "#If the string length is less than three characters, the front is whatever is there. \n",
    "#Return a new string, which is three copies of the front.\n",
    "\n",
    "\n",
    "def front_times(a):\n",
    "    if len(a)<3:\n",
    "        return a\n",
    "    else:\n",
    "        return a[:3]*3\n"
   ]
  },
  {
   "cell_type": "code",
   "execution_count": 40,
   "id": "1ef25b3f",
   "metadata": {},
   "outputs": [
    {
     "data": {
      "text/plain": [
       "'appappapp'"
      ]
     },
     "execution_count": 40,
     "metadata": {},
     "output_type": "execute_result"
    }
   ],
   "source": [
    "front_times(\"apple\")"
   ]
  },
  {
   "cell_type": "code",
   "execution_count": 41,
   "id": "29e5dd7a",
   "metadata": {},
   "outputs": [
    {
     "data": {
      "text/plain": [
       "'eyeeyeeye'"
      ]
     },
     "execution_count": 41,
     "metadata": {},
     "output_type": "execute_result"
    }
   ],
   "source": [
    "front_times(\"eyes\")"
   ]
  },
  {
   "cell_type": "code",
   "execution_count": 42,
   "id": "be2cdfab",
   "metadata": {},
   "outputs": [],
   "source": [
    "#11 Darts is a target game played by throwing feathered darts at a circular board with numbered spaces.\n",
    "# Our darts game is the simplest of all games. The score of a single turn is calculated based on the distance from the middle.\n",
    "# You need to create a function that takes the dart location as two cartesian coordinates (x, y) and returns a score based \n",
    "# on the distance from the middle, aka Bullseye (x=0, y=0).\n",
    "\n",
    "\n",
    "\n",
    "def calculate_dart_score(x, y):\n",
    "    distance = (x ** 2 + y ** 2) ** 0.5  \n",
    "    if distance <= 1:  \n",
    "        return 10\n",
    "    elif distance <= 5:  \n",
    "        return 5\n",
    "    elif distance <= 10: \n",
    "        return 1\n",
    "    else:  \n",
    "        return 0\n",
    "\n"
   ]
  },
  {
   "cell_type": "code",
   "execution_count": 43,
   "id": "636ea938",
   "metadata": {},
   "outputs": [
    {
     "data": {
      "text/plain": [
       "10"
      ]
     },
     "execution_count": 43,
     "metadata": {},
     "output_type": "execute_result"
    }
   ],
   "source": [
    "calculate_dart_score(0,0)"
   ]
  },
  {
   "cell_type": "code",
   "execution_count": 44,
   "id": "623072e4",
   "metadata": {},
   "outputs": [
    {
     "data": {
      "text/plain": [
       "0"
      ]
     },
     "execution_count": 44,
     "metadata": {},
     "output_type": "execute_result"
    }
   ],
   "source": [
    "calculate_dart_score(15,15)"
   ]
  },
  {
   "cell_type": "code",
   "execution_count": 45,
   "id": "d4fca746",
   "metadata": {},
   "outputs": [
    {
     "data": {
      "text/plain": [
       "5"
      ]
     },
     "execution_count": 45,
     "metadata": {},
     "output_type": "execute_result"
    }
   ],
   "source": [
    "calculate_dart_score(2,3)"
   ]
  },
  {
   "cell_type": "code",
   "execution_count": 52,
   "id": "0df6d698",
   "metadata": {},
   "outputs": [],
   "source": [
    "#12 Write a function that returns True if a year is a leap, otherwise return False.\n",
    "#A year is a \"leap year\" if it lasts 366 days, instead of 365 in a typical year. \n",
    "#That extra day is added to the end of the shortest month, creating February 29.\n",
    "#A leap year occurs every four years, and will take place if the year is a multiple of four. \n",
    "#The exception to this is a year at the beginning of a century (for example, 1900 or 2000), where the year must be divisible by 400 to be a leap year.\n",
    "\n",
    "\n",
    "def leap_year(a):\n",
    "    if a%4==0:\n",
    "        return True\n",
    "    else:\n",
    "        return False"
   ]
  },
  {
   "cell_type": "code",
   "execution_count": 53,
   "id": "e2c935dd",
   "metadata": {},
   "outputs": [
    {
     "data": {
      "text/plain": [
       "False"
      ]
     },
     "execution_count": 53,
     "metadata": {},
     "output_type": "execute_result"
    }
   ],
   "source": [
    "leap_year(1999)"
   ]
  },
  {
   "cell_type": "code",
   "execution_count": 54,
   "id": "6b50459a",
   "metadata": {},
   "outputs": [
    {
     "data": {
      "text/plain": [
       "True"
      ]
     },
     "execution_count": 54,
     "metadata": {},
     "output_type": "execute_result"
    }
   ],
   "source": [
    "leap_year(2016)"
   ]
  },
  {
   "cell_type": "code",
   "execution_count": 10,
   "id": "700671ca",
   "metadata": {},
   "outputs": [],
   "source": [
    "#13 Create a function that takes an array of hurdle heights and a jumper's jump height, and determine whether or not the hurdler can clear all the hurdles.\n",
    "# A hurdler can clear a hurdle if their jump height is greater than or equal to the hurdle height.\n",
    "\n",
    "def hurdle_jump(jumpers_height,hurdle_jump):\n",
    "    for x in hurdle_jump:\n",
    "        if jumpers_height> x:\n",
    "            return True\n",
    "        else:\n",
    "            return False"
   ]
  },
  {
   "cell_type": "code",
   "execution_count": 11,
   "id": "b9f7927d",
   "metadata": {},
   "outputs": [
    {
     "data": {
      "text/plain": [
       "False"
      ]
     },
     "execution_count": 11,
     "metadata": {},
     "output_type": "execute_result"
    }
   ],
   "source": [
    "hurdle_jump(1,[1,2,1])"
   ]
  },
  {
   "cell_type": "code",
   "execution_count": 22,
   "id": "6da5ebf7",
   "metadata": {},
   "outputs": [],
   "source": [
    "#14 Create a function that takes a number (from 1 to 12) and returns its corresponding month name as a string.\n",
    "#For example, if you're given 3 as input, your function should return \"March\", because March is the 3rd month.\n",
    "\n",
    "def months(x):\n",
    "    months =[\"january\",\"february\",\"march\",\"april\",\"may\",\"june\",\"july\",\"august\",\"september\",\"october\",\"november\",\"december\"]\n",
    "    if x<1 or x>12:\n",
    "        return \"invalid month entered\"\n",
    "\n",
    "    else:\n",
    "        return months[x-1]"
   ]
  },
  {
   "cell_type": "code",
   "execution_count": 23,
   "id": "d19fbf02",
   "metadata": {},
   "outputs": [
    {
     "data": {
      "text/plain": [
       "'march'"
      ]
     },
     "execution_count": 23,
     "metadata": {},
     "output_type": "execute_result"
    }
   ],
   "source": [
    "months(3)"
   ]
  },
  {
   "cell_type": "code",
   "execution_count": 1,
   "id": "811a6ced",
   "metadata": {},
   "outputs": [],
   "source": [
    "#15 Create a function that takes in a two-dimensional list and returns the number of sub-lists with only identical elements.\n",
    "\n",
    "def count_identical_lists(lst):\n",
    "    count = 0\n",
    "    for sub_list in lst:\n",
    "        if len(set(sub_list)) == 1:\n",
    "            count += 1\n",
    "    return count\n",
    "\n"
   ]
  },
  {
   "cell_type": "code",
   "execution_count": 3,
   "id": "3dd2a651",
   "metadata": {},
   "outputs": [
    {
     "data": {
      "text/plain": [
       "3"
      ]
     },
     "execution_count": 3,
     "metadata": {},
     "output_type": "execute_result"
    }
   ],
   "source": [
    "count_identical_lists([[1,1,1],[2,2,2],[3,3,3]])"
   ]
  },
  {
   "cell_type": "code",
   "execution_count": 1,
   "id": "60e9940c",
   "metadata": {},
   "outputs": [],
   "source": [
    "#16 A bartender is writing a simple program to determine whether he should serve drinks to someone.\n",
    "#He only serves drinks to people 18 and older and when he's not on break.\n",
    "#Given the person's age, and whether break time is in session, create a function which returns whether he should serve drinks.\n",
    "\n",
    "\n",
    "\n",
    "def bartender(age,break_time=\"yes\"or\"no\"):\n",
    "    if age>=18 and break_time==\"yes\":\n",
    "        return \"serve\"\n",
    "    else:\n",
    "        return \"no_serving\""
   ]
  },
  {
   "cell_type": "code",
   "execution_count": 3,
   "id": "cfe1fb2a",
   "metadata": {},
   "outputs": [
    {
     "data": {
      "text/plain": [
       "'no_serving'"
      ]
     },
     "execution_count": 3,
     "metadata": {},
     "output_type": "execute_result"
    }
   ],
   "source": [
    "bartender(15,\"yes\")"
   ]
  },
  {
   "cell_type": "code",
   "execution_count": 4,
   "id": "ebcff3dd",
   "metadata": {},
   "outputs": [
    {
     "data": {
      "text/plain": [
       "'serve'"
      ]
     },
     "execution_count": 4,
     "metadata": {},
     "output_type": "execute_result"
    }
   ],
   "source": [
    "bartender(21,\"yes\")"
   ]
  },
  {
   "cell_type": "code",
   "execution_count": null,
   "id": "906aa7cd",
   "metadata": {},
   "outputs": [],
   "source": []
  },
  {
   "cell_type": "code",
   "execution_count": 5,
   "id": "f4b6475f",
   "metadata": {},
   "outputs": [
    {
     "name": "stdout",
     "output_type": "stream",
     "text": [
      "type 1 or 0 :1\n",
      "type 1 or 0 :1\n",
      "AND gate output : 1\n",
      "OR agte output : 1\n",
      "NOT gate output : 1\n"
     ]
    }
   ],
   "source": [
    "#17 #You will need to write three unfinished logic gates. Continue to write the three logic gates: AND, OR, and NOT.\n",
    "\n",
    "\n",
    "\n",
    "def AND_gate(a,b):\n",
    "    return a and b\n",
    "def OR_gate(a,b):\n",
    "    return a and b\n",
    "def NOT_gate (a,b):\n",
    "    return a and b\n",
    "a=input(\"type 1 or 0 :\")\n",
    "b=input(\"type 1 or 0 :\")\n",
    "\n",
    "output_AND=AND_gate(a,b)\n",
    "print(\"AND gate output :\",output_AND)\n",
    "\n",
    "output_OR=OR_gate(a,b)\n",
    "print(\"OR agte output :\",output_OR)\n",
    "\n",
    "output_NOT=NOT_gate(a,b)\n",
    "print(\"NOT gate output :\",output_NOT)\n"
   ]
  },
  {
   "cell_type": "code",
   "execution_count": null,
   "id": "40e0b61a",
   "metadata": {},
   "outputs": [],
   "source": []
  },
  {
   "cell_type": "code",
   "execution_count": 6,
   "id": "2b786327",
   "metadata": {},
   "outputs": [],
   "source": [
    "#18    #Write a function that accepts base (decimal), height (decimal) and \n",
    "#shape (\"triangle\", \"parallelogram\") as input and calculates the area of that shape.\n",
    "\n",
    "def  shapes(base,height,shape=\"triangle\"or \"parallelogram\"):\n",
    "    if shapes==\"triangle\":\n",
    "        area_of_triangle=0.5*base*height\n",
    "        return area_of_triangle\n",
    "    else:\n",
    "        area_of_parallelogram=base*height\n",
    "        return area_of_parallelogram"
   ]
  },
  {
   "cell_type": "code",
   "execution_count": 7,
   "id": "bdda7589",
   "metadata": {},
   "outputs": [
    {
     "data": {
      "text/plain": [
       "30"
      ]
     },
     "execution_count": 7,
     "metadata": {},
     "output_type": "execute_result"
    }
   ],
   "source": [
    "shapes(5,6,\"triangle\")"
   ]
  },
  {
   "cell_type": "code",
   "execution_count": 9,
   "id": "91b1e0b9",
   "metadata": {},
   "outputs": [
    {
     "data": {
      "text/plain": [
       "54"
      ]
     },
     "execution_count": 9,
     "metadata": {},
     "output_type": "execute_result"
    }
   ],
   "source": [
    "shapes(9,6,\"parallelogram\")"
   ]
  },
  {
   "cell_type": "code",
   "execution_count": 10,
   "id": "100e1108",
   "metadata": {},
   "outputs": [],
   "source": [
    "#19   Create a function that takes a string (a random name). If the last character of the name is an \"n\", return True, \n",
    "#otherwise return False.\n",
    "\n",
    "def last_character(a):\n",
    "    if a[-1]==\"n\" :\n",
    "        return \"True\"\n",
    "    else:\n",
    "        return \"False\""
   ]
  },
  {
   "cell_type": "code",
   "execution_count": 11,
   "id": "fe369691",
   "metadata": {},
   "outputs": [
    {
     "data": {
      "text/plain": [
       "'True'"
      ]
     },
     "execution_count": 11,
     "metadata": {},
     "output_type": "execute_result"
    }
   ],
   "source": [
    "last_character(\"pen\")"
   ]
  },
  {
   "cell_type": "code",
   "execution_count": 12,
   "id": "901d386c",
   "metadata": {},
   "outputs": [
    {
     "data": {
      "text/plain": [
       "'False'"
      ]
     },
     "execution_count": 12,
     "metadata": {},
     "output_type": "execute_result"
    }
   ],
   "source": [
    "last_character(\"name\")"
   ]
  },
  {
   "cell_type": "code",
   "execution_count": 1,
   "id": "83c36574",
   "metadata": {},
   "outputs": [],
   "source": [
    "#20 Create a function that takes in a word and determines whether or not it is plural. \n",
    "#A plural word is one that ends in \"s\".\n",
    "\n",
    "def singular_plural(a):\n",
    "    if a[-1]==\"s\" :\n",
    "        return \"plural\"\n",
    "    else:\n",
    "        return \"singular\""
   ]
  },
  {
   "cell_type": "code",
   "execution_count": 2,
   "id": "ad55b645",
   "metadata": {},
   "outputs": [
    {
     "data": {
      "text/plain": [
       "'plural'"
      ]
     },
     "execution_count": 2,
     "metadata": {},
     "output_type": "execute_result"
    }
   ],
   "source": [
    "singular_plural(\"eyes\")"
   ]
  },
  {
   "cell_type": "code",
   "execution_count": 3,
   "id": "390fc19a",
   "metadata": {},
   "outputs": [
    {
     "data": {
      "text/plain": [
       "'singular'"
      ]
     },
     "execution_count": 3,
     "metadata": {},
     "output_type": "execute_result"
    }
   ],
   "source": [
    "singular_plural(\"eye\")"
   ]
  },
  {
   "cell_type": "code",
   "execution_count": 4,
   "id": "2f251076",
   "metadata": {},
   "outputs": [],
   "source": [
    "#21 Create a function that takes a number as an argument and returns \"even\" for even numbers and \"odd\" for odd numbers\n",
    "\n",
    "\n",
    "def even_odd_num(a):\n",
    "    if a%2==0:\n",
    "        return \"even\"\n",
    "    else:\n",
    "        return \"odd\""
   ]
  },
  {
   "cell_type": "code",
   "execution_count": 6,
   "id": "973f0efb",
   "metadata": {},
   "outputs": [
    {
     "data": {
      "text/plain": [
       "'odd'"
      ]
     },
     "execution_count": 6,
     "metadata": {},
     "output_type": "execute_result"
    }
   ],
   "source": [
    "even_odd_num(3)"
   ]
  },
  {
   "cell_type": "code",
   "execution_count": 7,
   "id": "cc6581c1",
   "metadata": {},
   "outputs": [
    {
     "data": {
      "text/plain": [
       "'even'"
      ]
     },
     "execution_count": 7,
     "metadata": {},
     "output_type": "execute_result"
    }
   ],
   "source": [
    "even_odd_num(4)"
   ]
  }
 ],
 "metadata": {
  "kernelspec": {
   "display_name": "Python 3 (ipykernel)",
   "language": "python",
   "name": "python3"
  },
  "language_info": {
   "codemirror_mode": {
    "name": "ipython",
    "version": 3
   },
   "file_extension": ".py",
   "mimetype": "text/x-python",
   "name": "python",
   "nbconvert_exporter": "python",
   "pygments_lexer": "ipython3",
   "version": "3.10.9"
  }
 },
 "nbformat": 4,
 "nbformat_minor": 5
}
