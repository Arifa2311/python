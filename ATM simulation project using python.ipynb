{
 "cells": [
  {
   "cell_type": "code",
   "execution_count": 1,
   "id": "520cb19c",
   "metadata": {},
   "outputs": [],
   "source": [
    " class ATM():\n",
    "    def __init__(self):\n",
    "        self.balance=0\n",
    "        self.__pin=0\n",
    "        self.info()\n",
    "        \n",
    "        \n",
    "    def info(self):\n",
    "        input_value=int(input(\"\"\"1:- create your pin \n",
    "                         2:- withdrawl\\n\n",
    "                         3:- deposit\\n\n",
    "                         4:- check balance\\n\n",
    "                         5:- Exit\\n \n",
    "                         6:- change pin\"\"\"))\n",
    "                \n",
    "        def create_pin():\n",
    "            new_pin1=int(input(\"enter your 4 digit \"))\n",
    "            new_pin2=int(input(\"enter your 4 digit \"))\n",
    "            if new_pin1==new_pin2:\n",
    "                print(\" pin successful\")\n",
    "                self.__pin=new_pin1\n",
    "            else:\n",
    "                print(\"pin dismatch\")\n",
    "            if input(\"type b to go back to main menu or e to end\")==\"b\":\n",
    "                self.info()\n",
    "            else:\n",
    "                pass\n",
    "                \n",
    "                \n",
    "                \n",
    "        def balance():\n",
    "            check=int(input(\"enter pin\"))\n",
    "            if check==self.__pin:\n",
    "                print(\"your current balance is{}\".format(self.balance))\n",
    "            else:\n",
    "                print(\"pin mismatch\")\n",
    "            \n",
    "            if input(\"type b to go back to main menu or e to end\")==\"b\":\n",
    "                self.info()\n",
    "            else:\n",
    "                pass\n",
    "            \n",
    "                \n",
    "                \n",
    "                \n",
    "                \n",
    "        def change_pin():\n",
    "            check=int(input(\"enter pin\"))\n",
    "            if check==self.__pin:\n",
    "                new_pin1=int(input(\"enter your new 4 digit \"))\n",
    "                new_pin2=int(input(\"enter your new 4 digit \"))\n",
    "                if new_pin1==new_pin2:\n",
    "                    print(\"pin reset successful\")\n",
    "                    self.__pin=new_pin1\n",
    "                else:\n",
    "                    print(\"new pin dismatch\")\n",
    "            if input(\"type b to go back to main menu or e to end\")==\"b\":\n",
    "                self.info()\n",
    "            else:\n",
    "                pass   \n",
    "                        \n",
    "        def deposit():\n",
    "            check=int(input(\"enter pin\"))\n",
    "            if check==self.__pin:\n",
    "                how_much=int(input(\"enter the amount you want to deposit\"))\n",
    "                notes_100=int(input(\"enter no.of 100 notes\"))\n",
    "                notes_200=int(input(\"enter no.of 200 notes\"))\n",
    "                notes_500=int(input(\"enter no.of 500 notes\"))\n",
    "                notes_2000=int(input(\"enter no.of 2000 notes\"))\n",
    "                if how_much==100*notes_100+200*notes_200+500*notes_500+2000*notes_2000:\n",
    "                        print(\"successful deposit\")\n",
    "                        self.balance=how_much+self.balance\n",
    "                else:\n",
    "                       print(\"notes mis-match\")\n",
    "                            \n",
    "                            \n",
    "        def withdrawl():\n",
    "            check=int(input(\"enter pin\"))\n",
    "            how_much_withdrawl=int(input(\"enter the amount for withdrawl\"))\n",
    "            if how_much_withdrawl<=self.balance:\n",
    "                print(\"withdrawl successful\")\n",
    "                self.balance=self.balance-how_much_withdrawl\n",
    "            else:\n",
    "                print(\"insufficient amount\")\n",
    "                    \n",
    "                    \n",
    "        if input_value==1:\n",
    "            create_pin()\n",
    "        elif input_value==2:\n",
    "            withdrawl()\n",
    "        elif input_value==3:\n",
    "            deposit()\n",
    "        elif input_value==4:\n",
    "            balance()\n",
    "        elif input_value==5:\n",
    "            change_pin()\n",
    "        else:\n",
    "            pass\n",
    "                        \n",
    "                        \n",
    "                        \n",
    "                        \n",
    "            \n",
    "               \n",
    "                \n",
    "            "
   ]
  },
  {
   "cell_type": "code",
   "execution_count": 2,
   "id": "fb1de17c",
   "metadata": {},
   "outputs": [
    {
     "name": "stdout",
     "output_type": "stream",
     "text": [
      "1:- create your pin \n",
      "                        2:- withdrawl\n",
      "\n",
      "                        3:- deposit\n",
      "\n",
      "                        4:- check balance\n",
      "\n",
      "                        5:- Exit\n",
      " \n",
      "                        6:- change pin1\n",
      "enter your 4 digit 1055\n",
      "enter your 4 digit 1055\n",
      " pin successful\n",
      "type b to go back to main menu or e to endb\n",
      "1:- create your pin \n",
      "                        2:- withdrawl\n",
      "\n",
      "                        3:- deposit\n",
      "\n",
      "                        4:- check balance\n",
      "\n",
      "                        5:- Exit\n",
      " \n",
      "                        6:- change pin3\n",
      "enter pin1055\n",
      "enter the amount you want to deposit200\n",
      "enter no.of 100 notes2\n",
      "enter no.of 200 notes0\n",
      "enter no.of 500 notes0\n",
      "enter no.of 2000 notes0\n",
      "successful deposit\n"
     ]
    }
   ],
   "source": [
    "ob1=ATM()"
   ]
  },
  {
   "cell_type": "code",
   "execution_count": 3,
   "id": "2f177a8b",
   "metadata": {},
   "outputs": [
    {
     "name": "stdout",
     "output_type": "stream",
     "text": [
      "1:- create your pin \n",
      "                        2:- withdrawl\n",
      "\n",
      "                        3:- deposit\n",
      "\n",
      "                        4:- check balance\n",
      "\n",
      "                        5:- Exit\n",
      " \n",
      "                        6:- change pin4\n",
      "enter pin1055\n",
      "your current balance is200\n",
      "type b to go back to main menu or e to endb\n",
      "1:- create your pin \n",
      "                        2:- withdrawl\n",
      "\n",
      "                        3:- deposit\n",
      "\n",
      "                        4:- check balance\n",
      "\n",
      "                        5:- Exit\n",
      " \n",
      "                        6:- change pin2\n",
      "enter pin1055\n",
      "enter the amount for withdrawl100\n",
      "withdrawl successful\n"
     ]
    }
   ],
   "source": [
    "ob1.info()"
   ]
  },
  {
   "cell_type": "code",
   "execution_count": 4,
   "id": "e4b2a004",
   "metadata": {},
   "outputs": [
    {
     "name": "stdout",
     "output_type": "stream",
     "text": [
      "1:- create your pin \n",
      "                        2:- withdrawl\n",
      "\n",
      "                        3:- deposit\n",
      "\n",
      "                        4:- check balance\n",
      "\n",
      "                        5:- Exit\n",
      " \n",
      "                        6:- change pin4\n",
      "enter pin1055\n",
      "your current balance is100\n",
      "type b to go back to main menu or e to end6\n"
     ]
    }
   ],
   "source": [
    "ob1.info()"
   ]
  },
  {
   "cell_type": "code",
   "execution_count": 5,
   "id": "5bbbf1bf",
   "metadata": {},
   "outputs": [
    {
     "name": "stdout",
     "output_type": "stream",
     "text": [
      "1:- create your pin \n",
      "                        2:- withdrawl\n",
      "\n",
      "                        3:- deposit\n",
      "\n",
      "                        4:- check balance\n",
      "\n",
      "                        5:- Exit\n",
      " \n",
      "                        6:- change pin6\n"
     ]
    }
   ],
   "source": [
    "ob1.info()"
   ]
  },
  {
   "cell_type": "code",
   "execution_count": null,
   "id": "cb105e8e",
   "metadata": {},
   "outputs": [],
   "source": []
  }
 ],
 "metadata": {
  "kernelspec": {
   "display_name": "Python 3 (ipykernel)",
   "language": "python",
   "name": "python3"
  },
  "language_info": {
   "codemirror_mode": {
    "name": "ipython",
    "version": 3
   },
   "file_extension": ".py",
   "mimetype": "text/x-python",
   "name": "python",
   "nbconvert_exporter": "python",
   "pygments_lexer": "ipython3",
   "version": "3.11.5"
  }
 },
 "nbformat": 4,
 "nbformat_minor": 5
}
