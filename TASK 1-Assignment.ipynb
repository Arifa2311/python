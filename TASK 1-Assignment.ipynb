{
 "cells": [
  {
   "cell_type": "code",
   "execution_count": 1,
   "id": "5867c30a",
   "metadata": {},
   "outputs": [],
   "source": [
    "# write a python program to convert a string to lower case."
   ]
  },
  {
   "cell_type": "code",
   "execution_count": 2,
   "id": "e585ae19",
   "metadata": {},
   "outputs": [
    {
     "name": "stdout",
     "output_type": "stream",
     "text": [
      "enter a string: ABCDE\n",
      "abcde\n"
     ]
    }
   ],
   "source": [
    "x=input(\"enter a string: \")\n",
    "for y in x:\n",
    "    x=x.lower()\n",
    "print(x)   \n",
    " \n"
   ]
  },
  {
   "cell_type": "code",
   "execution_count": 3,
   "id": "238a9c3c",
   "metadata": {},
   "outputs": [],
   "source": [
    "# write a python program to convert only odd indexed character to lower case."
   ]
  },
  {
   "cell_type": "code",
   "execution_count": 7,
   "id": "d35f791c",
   "metadata": {},
   "outputs": [
    {
     "name": "stdout",
     "output_type": "stream",
     "text": [
      "enter a word to convert odd index letters to lower case : APPLE\n",
      "ApPlE\n"
     ]
    }
   ],
   "source": [
    "a=input(\"enter a word to convert odd index letters to lower case : \")\n",
    "y=list(a)\n",
    "b=\"\"\n",
    "for x in range(0,len(a)):\n",
    "    if x%2==0:\n",
    "        b+=str(a[x])\n",
    "    else :\n",
    "            b+=str(a[x]).lower()\n",
    "print (b)       "
   ]
  },
  {
   "cell_type": "code",
   "execution_count": 8,
   "id": "4dcb2b69",
   "metadata": {},
   "outputs": [],
   "source": [
    "# write a python program to convert only even index characters to lower case"
   ]
  },
  {
   "cell_type": "code",
   "execution_count": 9,
   "id": "1c6144c1",
   "metadata": {},
   "outputs": [
    {
     "name": "stdout",
     "output_type": "stream",
     "text": [
      "enter a word to convert even index letters to lower case : ABCDE\n",
      "aBcDe\n"
     ]
    }
   ],
   "source": [
    "a=input(\"enter a word to convert even index letters to lower case : \")\n",
    "y=list(a)\n",
    "b=\"\"\n",
    "for x in range(0,len(a)):\n",
    "    if x%2==0:\n",
    "        b+=str(a[x]).lower()\n",
    "    else :\n",
    "            b+=str(a[x])\n",
    "print (b)       "
   ]
  },
  {
   "cell_type": "code",
   "execution_count": 10,
   "id": "0fd4d262",
   "metadata": {},
   "outputs": [],
   "source": [
    "# write a python program to convert only odd index characters to upper case"
   ]
  },
  {
   "cell_type": "code",
   "execution_count": 11,
   "id": "a08fad64",
   "metadata": {},
   "outputs": [
    {
     "name": "stdout",
     "output_type": "stream",
     "text": [
      "enter a word to convert odd index letters to upper case : abcde\n",
      "aBcDe\n"
     ]
    }
   ],
   "source": [
    "a=input(\"enter a word to convert odd index letters to upper case : \")\n",
    "y=list(a)\n",
    "b=\"\"\n",
    "for x in range(0,len(a)):\n",
    "    if x%2==0:\n",
    "        b+=str(a[x])\n",
    "    else :\n",
    "            b+=str(a[x]).upper()\n",
    "print (b)       "
   ]
  },
  {
   "cell_type": "code",
   "execution_count": 12,
   "id": "1986c609",
   "metadata": {},
   "outputs": [],
   "source": [
    "# write a python program to convert only even index characters to upper case"
   ]
  },
  {
   "cell_type": "code",
   "execution_count": 13,
   "id": "d37822ae",
   "metadata": {},
   "outputs": [
    {
     "name": "stdout",
     "output_type": "stream",
     "text": [
      "enter a word to convert even index letters to upper case : abcde\n",
      "AbCdE\n"
     ]
    }
   ],
   "source": [
    "a=input(\"enter a word to convert even index letters to upper case : \")\n",
    "y=list(a)\n",
    "b=\"\"\n",
    "for x in range(0,len(a)):\n",
    "    if x%2==0:\n",
    "        b+=str(a[x]).upper()\n",
    "    else :\n",
    "            b+=str(a[x])\n",
    "print (b)       "
   ]
  },
  {
   "cell_type": "code",
   "execution_count": 14,
   "id": "32651edb",
   "metadata": {},
   "outputs": [],
   "source": [
    "# Write a python program where you have different variable which contains your name, gender,age, phone no ,fathers name and mothers name.And by using this variable create a variable named bio-data where you will use all this variable \n"
   ]
  },
  {
   "cell_type": "code",
   "execution_count": 21,
   "id": "6ebda7af",
   "metadata": {},
   "outputs": [
    {
     "name": "stdout",
     "output_type": "stream",
     "text": [
      "enter your name : Shaik Arifa\n",
      "enter your gender : female\n",
      "enter your age : 21\n",
      "enter your phone no. : 7842146004\n",
      "enter your father name : Shaik khadar basha\n",
      "enter your mother name : Shaik Asia begum\n",
      "my full name is Shaik Arifa \n",
      " my age is 21\n",
      " my gender isfemale \n",
      " my height is 7842146004 \n",
      " my weight is Shaik khadar basha \n",
      " my phone is Shaik Asia begum  "
     ]
    }
   ],
   "source": [
    "name = input (\"enter your name : \")\n",
    "gender = input(\"enter your gender : \")\n",
    "age = input(\"enter your age : \")\n",
    "phone_no = input(\"enter your phone no. : \")\n",
    "father_name = input(\"enter your father name : \")\n",
    "mother_name = input(\"enter your mother name : \")\n",
    "\n",
    "bio_data = \"\"\n",
    "variables = [name, gender, age, phone_no, father_name, mother_name]\n",
    "\n",
    "for variable in variables:\n",
    "    bio_data += str(variable) + \" \"\n",
    "    bio_data=\"my full name is {} \\n my age is {}\\n my gender is{} \\n my height is {} \\n my weight is {} \\n my phone is {} \"\n",
    "print(bio_data.format(name ,age ,gender,phone_no,father_name,mother_name))\n",
    "\n",
    "\n",
    "\n",
    "\n",
    "\n",
    "\n",
    "\n"
   ]
  },
  {
   "cell_type": "code",
   "execution_count": 22,
   "id": "50d22d24",
   "metadata": {},
   "outputs": [],
   "source": [
    "# Write a python program to count how many times “@” occurred"
   ]
  },
  {
   "cell_type": "code",
   "execution_count": 24,
   "id": "26a66e91",
   "metadata": {},
   "outputs": [
    {
     "name": "stdout",
     "output_type": "stream",
     "text": [
      "enter string : asd@@gh@@345@@@\n",
      "7\n"
     ]
    }
   ],
   "source": [
    "x=input(\"enter string : \")\n",
    "print(x.count(\"@\"))"
   ]
  },
  {
   "cell_type": "code",
   "execution_count": 25,
   "id": "8b388c3f",
   "metadata": {},
   "outputs": [],
   "source": [
    "# Write a python program to get only names from the string"
   ]
  },
  {
   "cell_type": "code",
   "execution_count": 28,
   "id": "e0d65179",
   "metadata": {},
   "outputs": [
    {
     "name": "stdout",
     "output_type": "stream",
     "text": [
      "robert,philip,ruby\n"
     ]
    }
   ],
   "source": [
    "x=\"robert.@gmail.com,philip.@gmail.com,ruby.@gmail.com\"\n",
    "y= x.split(\".@gmail.com\")\n",
    "a=\"\"\n",
    "for z in range(0,len(y)):\n",
    "    a+=y[z]\n",
    "print(a)      \n"
   ]
  },
  {
   "cell_type": "code",
   "execution_count": 30,
   "id": "30368241",
   "metadata": {},
   "outputs": [],
   "source": [
    "# Given a string of odd length greater that 9, return a new string made of the middle three characters of a given String\n",
    "#Ex:- “mynameissan"
   ]
  },
  {
   "cell_type": "code",
   "execution_count": 31,
   "id": "da54a1a4",
   "metadata": {},
   "outputs": [
    {
     "name": "stdout",
     "output_type": "stream",
     "text": [
      "Give a string with odd length: APPLE\n",
      "2\n",
      "PPL\n"
     ]
    }
   ],
   "source": [
    "x=input(\"Give a string with odd length: \")\n",
    "y=len(x)//2                                        # len(x)=5\n",
    "print(y)                                           #5//2=2\n",
    "print(x[y-1:y+2])"
   ]
  },
  {
   "cell_type": "code",
   "execution_count": 34,
   "id": "1bbe5cc5",
   "metadata": {},
   "outputs": [],
   "source": [
    "# Write a python program to insert a 2 string in the middle of 1 string"
   ]
  },
  {
   "cell_type": "code",
   "execution_count": 35,
   "id": "441fbfd9",
   "metadata": {},
   "outputs": [
    {
     "name": "stdout",
     "output_type": "stream",
     "text": [
      "Give a string: APPLE\n",
      "Give the string that is to be inserted: **\n",
      "AP**PLE\n"
     ]
    }
   ],
   "source": [
    "x=input(\"Give a string: \")\n",
    "y=input(\"Give the string that is to be inserted: \")\n",
    "a=len(x)//2\n",
    "print(x[:a]+y+x[a:])"
   ]
  },
  {
   "cell_type": "code",
   "execution_count": 36,
   "id": "5d89b9ab",
   "metadata": {},
   "outputs": [],
   "source": [
    "# Write a program to remove vowels from the entire alphabets "
   ]
  },
  {
   "cell_type": "code",
   "execution_count": 37,
   "id": "7bc4e89d",
   "metadata": {},
   "outputs": [
    {
     "name": "stdout",
     "output_type": "stream",
     "text": [
      "give a string: unequivocally\n",
      "nqvclly\n"
     ]
    }
   ],
   "source": [
    "x=input(\"give a string: \")\n",
    "a=\"\"\n",
    "for y in range(0,len(x)):\n",
    "    \n",
    "    if x[y]==\"a\" or x[y]==\"e\" or x[y]==\"i\" or x[y]==\"o\" or x[y]==\"u\" or x[y]==\"A\" or x[y]==\"E\" or x[y]==\"I\" or x[y]==\"O\" or x[y]==\"U\":\n",
    "        a+=\"\"\n",
    "    else:\n",
    "        a+=x[y]\n",
    "print(a)"
   ]
  }
 ],
 "metadata": {
  "kernelspec": {
   "display_name": "Python 3 (ipykernel)",
   "language": "python",
   "name": "python3"
  },
  "language_info": {
   "codemirror_mode": {
    "name": "ipython",
    "version": 3
   },
   "file_extension": ".py",
   "mimetype": "text/x-python",
   "name": "python",
   "nbconvert_exporter": "python",
   "pygments_lexer": "ipython3",
   "version": "3.10.9"
  }
 },
 "nbformat": 4,
 "nbformat_minor": 5
}
