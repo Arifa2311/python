{
 "cells": [
  {
   "cell_type": "code",
   "execution_count": 1,
   "id": "cdbe76e1",
   "metadata": {},
   "outputs": [],
   "source": [
    "# 1.Luke Skywalker has family and friends. Help him remind them who is who. Given a string with a name, return the relation of that person to Luke.\n",
    "\n",
    "# Person          Relation\n",
    "# Darth Vader      father\n",
    "# Leia             sister\n",
    "# Han            brother in law\n",
    "# R2D2            droid\n",
    "\n",
    "\n",
    "\n",
    "def relation_to_luke(name):\n",
    "    if name==\"Darth Vader\":\n",
    "        print(\"Luke , I am your father\")\n",
    "    elif name==\"Leia\":\n",
    "        print(\"Luke , I am your sister\")\n",
    "    elif name==\"Han\":\n",
    "        print(\"Luke, I am your brother in law\")\n",
    "    elif  name==\"R2D2\":\n",
    "        print(\"Luke , I am your Droid\")\n",
    "    else:\n",
    "        print(\"no relation found\")\n",
    "    "
   ]
  },
  {
   "cell_type": "code",
   "execution_count": 3,
   "id": "7af9bca9",
   "metadata": {},
   "outputs": [
    {
     "name": "stdout",
     "output_type": "stream",
     "text": [
      "Luke , I am your father\n"
     ]
    }
   ],
   "source": [
    "relation_to_luke(\"Darth Vader\")"
   ]
  },
  {
   "cell_type": "code",
   "execution_count": 18,
   "id": "f244be4f",
   "metadata": {},
   "outputs": [],
   "source": [
    "#2.Create a function that takes damage and speed (attacks per second) and returns the amount of damage after a given time.\n",
    "\n",
    "\n",
    "def damage(damage,speed,time):\n",
    "      if time==\"seconds\":\n",
    "        time=1\n",
    "        amount_of_damage=damage*speed*time\n",
    "        return  amount_of_damage\n",
    "      elif time_type==\"minutes\":\n",
    "        time=60\n",
    "        amount_of_damage==damage*speed*time\n",
    "        return  amount_of_damage\n",
    "      else:\n",
    "        time=3600\n",
    "        amount_of_damage==damage*speed*time\n",
    "        return  amount_of_damage"
   ]
  },
  {
   "cell_type": "code",
   "execution_count": 19,
   "id": "1fcc276e",
   "metadata": {},
   "outputs": [
    {
     "data": {
      "text/plain": [
       "200"
      ]
     },
     "execution_count": 19,
     "metadata": {},
     "output_type": "execute_result"
    }
   ],
   "source": [
    "damage(40,5,\"seconds\")"
   ]
  },
  {
   "cell_type": "code",
   "execution_count": 24,
   "id": "3af6a427",
   "metadata": {},
   "outputs": [],
   "source": [
    "#3.Create a function that takes a number as input and returns True if the sum of its digits has the same parity as the entire number. Otherwise, return False.\n",
    "\n",
    "def parity_analysis(num):\n",
    "    num_1=str(num)\n",
    "    n=0\n",
    "    for x in num_1:\n",
    "        n+=int(x)\n",
    "        if n%2==0 and num%2==0:\n",
    "            return False\n",
    "        else:\n",
    "            return True"
   ]
  },
  {
   "cell_type": "code",
   "execution_count": 25,
   "id": "94134f27",
   "metadata": {},
   "outputs": [
    {
     "data": {
      "text/plain": [
       "True"
      ]
     },
     "execution_count": 25,
     "metadata": {},
     "output_type": "execute_result"
    }
   ],
   "source": [
    "parity_analysis(243)"
   ]
  },
  {
   "cell_type": "code",
   "execution_count": 3,
   "id": "1e7c267e",
   "metadata": {},
   "outputs": [],
   "source": [
    "#4.Create a function that takes a string, checks if it has the same number of \"x\"s and \"o\"s and returns either True or False.\n",
    "\n",
    "\n",
    "\n",
    "def XO(txt):\n",
    "    if txt.count(\"x\")==txt.count(\"o\"):\n",
    "    \n",
    "        return True\n",
    "    else:\n",
    "        return False"
   ]
  },
  {
   "cell_type": "code",
   "execution_count": 4,
   "id": "46c3db51",
   "metadata": {},
   "outputs": [
    {
     "data": {
      "text/plain": [
       "True"
      ]
     },
     "execution_count": 4,
     "metadata": {},
     "output_type": "execute_result"
    }
   ],
   "source": [
    "XO(\"ooxx\")"
   ]
  },
  {
   "cell_type": "code",
   "execution_count": 5,
   "id": "6452c277",
   "metadata": {},
   "outputs": [
    {
     "data": {
      "text/plain": [
       "False"
      ]
     },
     "execution_count": 5,
     "metadata": {},
     "output_type": "execute_result"
    }
   ],
   "source": [
    "XO(\"oooxx\")"
   ]
  },
  {
   "cell_type": "code",
   "execution_count": 6,
   "id": "ebf289cb",
   "metadata": {},
   "outputs": [],
   "source": [
    "#5.Create a function that reverses a boolean value and returns the string \"boolean expected\" if another variable type is given.\n",
    "\n",
    "def reverse(arg):\n",
    "    if arg==True :\n",
    "        return False\n",
    "    elif arg==False:\n",
    "        return True\n",
    "    else:\n",
    "        return \"boolean expected\"\n",
    "    "
   ]
  },
  {
   "cell_type": "code",
   "execution_count": 7,
   "id": "ee6db430",
   "metadata": {},
   "outputs": [
    {
     "data": {
      "text/plain": [
       "False"
      ]
     },
     "execution_count": 7,
     "metadata": {},
     "output_type": "execute_result"
    }
   ],
   "source": [
    "reverse(True)"
   ]
  },
  {
   "cell_type": "code",
   "execution_count": 8,
   "id": "d409e04d",
   "metadata": {},
   "outputs": [
    {
     "data": {
      "text/plain": [
       "True"
      ]
     },
     "execution_count": 8,
     "metadata": {},
     "output_type": "execute_result"
    }
   ],
   "source": [
    "reverse(False)"
   ]
  },
  {
   "cell_type": "code",
   "execution_count": 10,
   "id": "def97fc2",
   "metadata": {},
   "outputs": [
    {
     "data": {
      "text/plain": [
       "'boolean expected'"
      ]
     },
     "execution_count": 10,
     "metadata": {},
     "output_type": "execute_result"
    }
   ],
   "source": [
    "reverse(None)"
   ]
  },
  {
   "cell_type": "code",
   "execution_count": 13,
   "id": "684598f8",
   "metadata": {},
   "outputs": [],
   "source": [
    "#6. Using list comprehensions, create a function that finds all even numbers from 1 to the given number.\n",
    "\n",
    "def find_even_nums(num):\n",
    "    even_numbers=[num for num in range (1,num+1) if num%2==0]\n",
    "    return even_numbers\n",
    "    \n",
    "    "
   ]
  },
  {
   "cell_type": "code",
   "execution_count": 14,
   "id": "434dca0b",
   "metadata": {},
   "outputs": [
    {
     "data": {
      "text/plain": [
       "[2, 4, 6, 8]"
      ]
     },
     "execution_count": 14,
     "metadata": {},
     "output_type": "execute_result"
    }
   ],
   "source": [
    "find_even_nums(8)"
   ]
  },
  {
   "cell_type": "code",
   "execution_count": 20,
   "id": "a1d6d426",
   "metadata": {},
   "outputs": [],
   "source": [
    "#7. Create a function that takes a list of strings and integers, and filters out the list so that it returns a list of integers only\n",
    "\n",
    "def filter_integers(lst):\n",
    "\n",
    "    integers = [x for x in lst if isinstance(x, int)]\n",
    "    \n",
    "    return integers\n"
   ]
  },
  {
   "cell_type": "code",
   "execution_count": 21,
   "id": "1556e2fe",
   "metadata": {},
   "outputs": [
    {
     "data": {
      "text/plain": [
       "[3, 5, 7, 9]"
      ]
     },
     "execution_count": 21,
     "metadata": {},
     "output_type": "execute_result"
    }
   ],
   "source": [
    "filter_list(['apple', 3, 'banana', 5, 'cherry', 7, 9])"
   ]
  },
  {
   "cell_type": "code",
   "execution_count": 57,
   "id": "8b3a81c1",
   "metadata": {},
   "outputs": [],
   "source": [
    "#8. Write a function that takes a list and a number as arguments. Add the number to the end of the list, then remove the first element of the list. The function should then return the updated list.\n",
    "\n",
    "def next_in_line(lst,num):\n",
    "    lst.append(num)\n",
    "    lst.pop(0)\n",
    "    return lst"
   ]
  },
  {
   "cell_type": "code",
   "execution_count": 58,
   "id": "c97f73b8",
   "metadata": {},
   "outputs": [
    {
     "data": {
      "text/plain": [
       "[6, 7, 8, 9, 1]"
      ]
     },
     "execution_count": 58,
     "metadata": {},
     "output_type": "execute_result"
    }
   ],
   "source": [
    "next_in_line([5,6,7,8,9],1)"
   ]
  },
  {
   "cell_type": "code",
   "execution_count": 60,
   "id": "a21cad57",
   "metadata": {},
   "outputs": [],
   "source": [
    "#9.In BlackJack, cards are counted with -1, 0, 1 values:\n",
    "\n",
    "# 2, 3, 4, 5, 6 are counted as +1\n",
    "# 7, 8, 9 are counted as 0\n",
    "# 10, J, Q, K, A are counted as -1\n",
    "# Create a function that counts the number and returns it from the list of cards provided.\n",
    "\n",
    "def count(cards):\n",
    "    count = 0\n",
    "    for card in cards:\n",
    "        if card in [2, 3, 4, 5, 6]:\n",
    "            count += 1\n",
    "        elif card in [10, 'J', 'Q', 'K', 'A']:\n",
    "            count -= 1\n",
    "    return count\n",
    "     "
   ]
  },
  {
   "cell_type": "code",
   "execution_count": 62,
   "id": "d83aa92e",
   "metadata": {},
   "outputs": [
    {
     "data": {
      "text/plain": [
       "1"
      ]
     },
     "execution_count": 62,
     "metadata": {},
     "output_type": "execute_result"
    }
   ],
   "source": [
    "count([5,9,10,3,\"j\",\"A\",4,8])"
   ]
  },
  {
   "cell_type": "code",
   "execution_count": 68,
   "id": "35d8ec32",
   "metadata": {},
   "outputs": [],
   "source": [
    "#10. Wild Roger is participating in a Western Showdown, meaning he has to draw (pull out and shoot) his gun faster than his opponent in a gun standoff.\n",
    "\n",
    "#Given two strings,p1 and p2, return which person drew their gun the fastest. If both are drawn at the same time, return \"tie\".\n",
    "\n",
    "def showdown(p1,p2):\n",
    "    if p1==p2:\n",
    "        return \"Tie\"\n",
    "    elif p1>p2:\n",
    "        return \"P1 wins\"\n",
    "    else:\n",
    "        return \"p2 Wins\""
   ]
  },
  {
   "cell_type": "code",
   "execution_count": 69,
   "id": "71cd899b",
   "metadata": {},
   "outputs": [
    {
     "data": {
      "text/plain": [
       "'p2 Wins'"
      ]
     },
     "execution_count": 69,
     "metadata": {},
     "output_type": "execute_result"
    }
   ],
   "source": [
    "showdown(5,10)"
   ]
  },
  {
   "cell_type": "code",
   "execution_count": 70,
   "id": "b8b8d288",
   "metadata": {},
   "outputs": [
    {
     "data": {
      "text/plain": [
       "'Tie'"
      ]
     },
     "execution_count": 70,
     "metadata": {},
     "output_type": "execute_result"
    }
   ],
   "source": [
    "showdown(10,10)"
   ]
  },
  {
   "cell_type": "code",
   "execution_count": 71,
   "id": "02de16d3",
   "metadata": {},
   "outputs": [],
   "source": [
    "#11. Create a function that takes a number as an argument and returns True or False depending on whether the number is symmetrical or not. A number is symmetrical when it is the same as its reverse.\n",
    "\n",
    "\n",
    "def is_symmetrical(num):\n",
    "\n",
    "    num_str=str(num)\n",
    "    return num_str==num_str[::-1]"
   ]
  },
  {
   "cell_type": "code",
   "execution_count": 72,
   "id": "62d6736c",
   "metadata": {},
   "outputs": [
    {
     "data": {
      "text/plain": [
       "True"
      ]
     },
     "execution_count": 72,
     "metadata": {},
     "output_type": "execute_result"
    }
   ],
   "source": [
    "is_symmetrical(1221)"
   ]
  },
  {
   "cell_type": "code",
   "execution_count": 73,
   "id": "f1171db6",
   "metadata": {},
   "outputs": [
    {
     "data": {
      "text/plain": [
       "False"
      ]
     },
     "execution_count": 73,
     "metadata": {},
     "output_type": "execute_result"
    }
   ],
   "source": [
    "is_symmetrical(1234)"
   ]
  },
  {
   "cell_type": "code",
   "execution_count": 75,
   "id": "8357f23f",
   "metadata": {},
   "outputs": [],
   "source": [
    "#12.Write a function that returns the strings:\n",
    "def get_string(condition):\n",
    "    return \"Yes\" if condition else \"No\"\n",
    "\n"
   ]
  },
  {
   "cell_type": "code",
   "execution_count": 77,
   "id": "07a91252",
   "metadata": {},
   "outputs": [
    {
     "data": {
      "text/plain": [
       "'Yes'"
      ]
     },
     "execution_count": 77,
     "metadata": {},
     "output_type": "execute_result"
    }
   ],
   "source": [
    "get_string(True)"
   ]
  },
  {
   "cell_type": "code",
   "execution_count": 88,
   "id": "e7834da4",
   "metadata": {},
   "outputs": [],
   "source": [
    "#13.I'm trying to watch some lectures to study for my next exam but I keep getting distracted by meme compilations, vine compilations, anime, and more on my favorite video platform.\n",
    "\n",
    "#Your job is to help me create a function that takes a string and checks to see if it contains the following words or phrases:\n",
    "\n",
    "#\"anime\"\n",
    "#\"meme\"\n",
    "#\"vines\"\n",
    "#\"roasts\"\n",
    "#\"Danny DeVito\"\n",
    "#If it does, return \"NO!\". Otherwise, return \"Safe watching!\".\n",
    "\n",
    "\n",
    "def prevent_distractions(string):\n",
    "    words = [\"anime\", \"meme\", \"vines\", \"roasts\", \"Danny DeVito\"]\n",
    "    \n",
    "    for word in words:\n",
    "        if word.lower() in string.lower():\n",
    "            return \"NO!\"\n",
    "    \n",
    "    return \"Safe watching!\"\n"
   ]
  },
  {
   "cell_type": "code",
   "execution_count": 90,
   "id": "04978c9b",
   "metadata": {},
   "outputs": [
    {
     "data": {
      "text/plain": [
       "'NO!'"
      ]
     },
     "execution_count": 90,
     "metadata": {},
     "output_type": "execute_result"
    }
   ],
   "source": [
    "prevent_distractions(\"i love watching meme\")"
   ]
  },
  {
   "cell_type": "code",
   "execution_count": 91,
   "id": "b18b80c8",
   "metadata": {},
   "outputs": [
    {
     "data": {
      "text/plain": [
       "'Safe watching!'"
      ]
     },
     "execution_count": 91,
     "metadata": {},
     "output_type": "execute_result"
    }
   ],
   "source": [
    "prevent_distractions(\"i love watching educational lectures \")"
   ]
  },
  {
   "cell_type": "code",
   "execution_count": 85,
   "id": "b0423d62",
   "metadata": {},
   "outputs": [],
   "source": [
    "#14. Create a function that takes three integer arguments (a, b, c) and returns the amount of integers which are of equal value.\n",
    "\n",
    "def equal_values (a,b,c):\n",
    "    count = 0\n",
    "    \n",
    "    if a == b == c:\n",
    "        count = 3\n",
    "    elif a == b or a == c or b == c:\n",
    "        count = 2\n",
    "    \n",
    "    return count"
   ]
  },
  {
   "cell_type": "code",
   "execution_count": 86,
   "id": "5183810f",
   "metadata": {},
   "outputs": [
    {
     "data": {
      "text/plain": [
       "0"
      ]
     },
     "execution_count": 86,
     "metadata": {},
     "output_type": "execute_result"
    }
   ],
   "source": [
    "equal_values(1,2,3)"
   ]
  },
  {
   "cell_type": "code",
   "execution_count": 87,
   "id": "e01e40ac",
   "metadata": {},
   "outputs": [
    {
     "data": {
      "text/plain": [
       "2"
      ]
     },
     "execution_count": 87,
     "metadata": {},
     "output_type": "execute_result"
    }
   ],
   "source": [
    "equal_values(1,2,1)"
   ]
  },
  {
   "cell_type": "code",
   "execution_count": 1,
   "id": "fb1109cd",
   "metadata": {},
   "outputs": [],
   "source": [
    "#15.Create a function which validates whether a 3 character string is a vowel sandwich. In order to have a valid sandwich, the string must satisfy the following rules:\n",
    "\n",
    "#The first and last characters must be a consonant.\n",
    "#The character in the middle must be a vowel.\n",
    "\n",
    "def is_vowel_sandwich(string):\n",
    "    vowels = ['a', 'e', 'i', 'o', 'u']\n",
    "    \n",
    "    if len(string) == 3:\n",
    "        if string[0].lower() not in vowels and string[1].lower() in vowels and string[2].lower() not in vowels:\n",
    "            return True\n",
    "        else:\n",
    "            return False\n",
    "\n",
    "    \n",
    "    "
   ]
  },
  {
   "cell_type": "code",
   "execution_count": 2,
   "id": "b0f112d3",
   "metadata": {},
   "outputs": [
    {
     "data": {
      "text/plain": [
       "True"
      ]
     },
     "execution_count": 2,
     "metadata": {},
     "output_type": "execute_result"
    }
   ],
   "source": [
    "is_vowel_sandwich(\"cat\")"
   ]
  },
  {
   "cell_type": "code",
   "execution_count": 3,
   "id": "e7763c25",
   "metadata": {},
   "outputs": [
    {
     "data": {
      "text/plain": [
       "False"
      ]
     },
     "execution_count": 3,
     "metadata": {},
     "output_type": "execute_result"
    }
   ],
   "source": [
    "is_vowel_sandwich(\"xyz\")"
   ]
  },
  {
   "cell_type": "code",
   "execution_count": 4,
   "id": "aa7e848f",
   "metadata": {},
   "outputs": [],
   "source": [
    "#16.Write a function that takes a string, breaks it up and returns it with vowels first, consonants second. For any character that's not a vowel (like special characters or spaces), treat them like consonants.\n",
    "\n",
    "\n",
    "def split(string):\n",
    "    vowels = \"\"\n",
    "    consonants = \"\"\n",
    "    \n",
    "    for char in string:\n",
    "        if char.lower() in \"aeiou\":\n",
    "            vowels += char\n",
    "        else:\n",
    "            consonants += char\n",
    "    \n",
    "    return vowels + consonants"
   ]
  },
  {
   "cell_type": "code",
   "execution_count": 5,
   "id": "83032217",
   "metadata": {},
   "outputs": [
    {
     "data": {
      "text/plain": [
       "'aebcd'"
      ]
     },
     "execution_count": 5,
     "metadata": {},
     "output_type": "execute_result"
    }
   ],
   "source": [
    "split(\"abcde\")"
   ]
  },
  {
   "cell_type": "code",
   "execution_count": 6,
   "id": "c40dc28d",
   "metadata": {},
   "outputs": [],
   "source": [
    "#17. Write a function that takes a string and calculates the number of letters and digits within it. Return the result in a dictionary.\n",
    "\n",
    "def count_letters_digits(string):\n",
    "    count_dict = {'letters': 0, 'digits': 0}\n",
    "    \n",
    "    for char in string:\n",
    "        if char.isalpha():\n",
    "            count_dict['letters'] += 1\n",
    "        elif char.isdigit():\n",
    "            count_dict['digits'] += 1\n",
    "    \n",
    "    return count_dict\n",
    "\n",
    "    \n",
    "    "
   ]
  },
  {
   "cell_type": "code",
   "execution_count": 7,
   "id": "b5f28b65",
   "metadata": {},
   "outputs": [
    {
     "data": {
      "text/plain": [
       "{'letters': 5, 'digits': 3}"
      ]
     },
     "execution_count": 7,
     "metadata": {},
     "output_type": "execute_result"
    }
   ],
   "source": [
    "count_letters_digits(\"hello 123\")"
   ]
  },
  {
   "cell_type": "code",
   "execution_count": 8,
   "id": "6719131d",
   "metadata": {},
   "outputs": [],
   "source": [
    "#18.Lists can be mixed with various types. Your task for this challenge is to sum all the number elements in the given list. Create a function that takes a list and returns the sum of all numbers in the list.\n",
    "\n",
    "def numbers_sum(lst):\n",
    "    total = 0\n",
    "    \n",
    "    for element in lst:\n",
    "        if isinstance(element, (int, float)):\n",
    "            total += element\n",
    "    \n",
    "    return total\n",
    "\n",
    "            "
   ]
  },
  {
   "cell_type": "code",
   "execution_count": 9,
   "id": "dda40318",
   "metadata": {},
   "outputs": [
    {
     "data": {
      "text/plain": [
       "3"
      ]
     },
     "execution_count": 9,
     "metadata": {},
     "output_type": "execute_result"
    }
   ],
   "source": [
    "numbers_sum([1,2,\"a\",\"b\"])"
   ]
  },
  {
   "cell_type": "code",
   "execution_count": 34,
   "id": "83e76169",
   "metadata": {},
   "outputs": [],
   "source": [
    "#19. Create a method in the Person class which returns how another person's age compares. Given the objects p1, p2 and p3, which will be initialised with the attributes name and age, return a sentence in the following format:\n",
    "Write a function that returns the boolean True if the given two lists do not share any numbers, and False otherwise.\n",
    "#{other_person} is {older than / younger than / the same age as} me\n",
    "\n"
   ]
  },
  {
   "cell_type": "code",
   "execution_count": null,
   "id": "767d5fc5",
   "metadata": {},
   "outputs": [],
   "source": []
  },
  {
   "cell_type": "code",
   "execution_count": 13,
   "id": "821b1b7d",
   "metadata": {},
   "outputs": [],
   "source": [
    "#20,. Write a function that returns the boolean True if the given two lists do not share any numbers, and False otherwise.\n",
    "\n",
    "def not_share(list1, list2):\n",
    "    return not any(num in list2 for num in list1)\n"
   ]
  },
  {
   "cell_type": "code",
   "execution_count": 14,
   "id": "27eeb59b",
   "metadata": {},
   "outputs": [
    {
     "data": {
      "text/plain": [
       "True"
      ]
     },
     "execution_count": 14,
     "metadata": {},
     "output_type": "execute_result"
    }
   ],
   "source": [
    "not_share([1,2,3],[4,5,6])"
   ]
  },
  {
   "cell_type": "code",
   "execution_count": 15,
   "id": "6d58318e",
   "metadata": {},
   "outputs": [
    {
     "data": {
      "text/plain": [
       "False"
      ]
     },
     "execution_count": 15,
     "metadata": {},
     "output_type": "execute_result"
    }
   ],
   "source": [
    "not_share([1,2,3],[1,2,3])"
   ]
  },
  {
   "cell_type": "code",
   "execution_count": 16,
   "id": "5d889f70",
   "metadata": {},
   "outputs": [],
   "source": [
    "#21. Create a function that takes a string as an argument and returns a coded (h4ck3r 5p34k) version of the string.\n",
    "\n",
    "def hacker_speak(string):\n",
    "    hacker_alphabets = {'a': '4', 'e': '3', 'i': '1', 'o': '0', 's': '5'}\n",
    "    \n",
    "    coded_string = \"\"\n",
    "    \n",
    "    for char in string:\n",
    "        if char.lower() in hacker_alphabets:\n",
    "            coded_string += hacker_alphabets[char.lower()]\n",
    "        else:\n",
    "            coded_string += char\n",
    "    \n",
    "    return coded_string\n",
    "\n",
    "    "
   ]
  },
  {
   "cell_type": "code",
   "execution_count": 17,
   "id": "999afede",
   "metadata": {},
   "outputs": [
    {
     "data": {
      "text/plain": [
       "'j4v45cr1pt 15 c00l'"
      ]
     },
     "execution_count": 17,
     "metadata": {},
     "output_type": "execute_result"
    }
   ],
   "source": [
    "hacker_speak(\"javascript is cool\")"
   ]
  },
  {
   "cell_type": "code",
   "execution_count": 21,
   "id": "8193e779",
   "metadata": {},
   "outputs": [],
   "source": [
    "#22. Create a function that takes a list of positive and negative numbers. Return a list where the first element is the count of positive numbers and the second element is the sum of negative numbers.\n",
    "\n",
    "def sum_neg(lst):\n",
    "    count_positive = sum_negative = 0\n",
    "    \n",
    "    for num in lst:\n",
    "        if num > 0:\n",
    "            count_positive += 1\n",
    "        elif num < 0:\n",
    "            sum_negative += num\n",
    "    \n",
    "    return [count_positive, sum_negative]"
   ]
  },
  {
   "cell_type": "code",
   "execution_count": 22,
   "id": "a301ef3a",
   "metadata": {},
   "outputs": [
    {
     "data": {
      "text/plain": [
       "[4, -16]"
      ]
     },
     "execution_count": 22,
     "metadata": {},
     "output_type": "execute_result"
    }
   ],
   "source": [
    "sum_neg([1,2,3,4,-1,-15])"
   ]
  },
  {
   "cell_type": "code",
   "execution_count": 23,
   "id": "40da4b85",
   "metadata": {},
   "outputs": [],
   "source": [
    "#23. Create a function that takes a string and returns a new string with its first and last characters swapped, except under three conditions:\n",
    "\n",
    "# If the length of the string is less than two, return \"Incompatible.\".\n",
    "# If the argument is not a string, return \"Incompatible.\".\n",
    "# If the first and last characters are the same, return \"Two's a pair.\".\n",
    "\n",
    "\n",
    "def swap_first_last(string):\n",
    "    if not isinstance(string, str) or len(string) < 2:\n",
    "        return \"Incompatible.\"\n",
    "    elif string[0] == string[-1]:\n",
    "        return \"Two's a pair.\"\n",
    "    else:\n",
    "        return string[-1] + string[1:-1] + string[0]\n"
   ]
  },
  {
   "cell_type": "code",
   "execution_count": 24,
   "id": "2846998e",
   "metadata": {},
   "outputs": [
    {
     "data": {
      "text/plain": [
       "'oellh'"
      ]
     },
     "execution_count": 24,
     "metadata": {},
     "output_type": "execute_result"
    }
   ],
   "source": [
    "swap_first_last(\"hello\")"
   ]
  },
  {
   "cell_type": "code",
   "execution_count": 25,
   "id": "66516a68",
   "metadata": {},
   "outputs": [
    {
     "data": {
      "text/plain": [
       "'Incompatible.'"
      ]
     },
     "execution_count": 25,
     "metadata": {},
     "output_type": "execute_result"
    }
   ],
   "source": [
    "swap_first_last(123)"
   ]
  },
  {
   "cell_type": "code",
   "execution_count": 26,
   "id": "4f08272c",
   "metadata": {},
   "outputs": [],
   "source": [
    "#24. Create a function that takes a number as an argument and returns the appropriate error message. You should do this without using the switch or if statements.\n",
    "\n",
    "def get_error_message(error_code):\n",
    "    error_messages = {\n",
    "        0: \"Unknown error\",\n",
    "        1: \"File not found\",\n",
    "        2: \"Permission denied\",\n",
    "        3: \"Invalid input\",\n",
    "        }\n",
    "    \n",
    "    return error_messages.get(error_code, \"Invalid error code\")\n"
   ]
  },
  {
   "cell_type": "code",
   "execution_count": 27,
   "id": "e707bff7",
   "metadata": {},
   "outputs": [
    {
     "data": {
      "text/plain": [
       "'File not found'"
      ]
     },
     "execution_count": 27,
     "metadata": {},
     "output_type": "execute_result"
    }
   ],
   "source": [
    "get_error_message(1)"
   ]
  },
  {
   "cell_type": "code",
   "execution_count": 28,
   "id": "4b311710",
   "metadata": {},
   "outputs": [
    {
     "data": {
      "text/plain": [
       "'Invalid error code'"
      ]
     },
     "execution_count": 28,
     "metadata": {},
     "output_type": "execute_result"
    }
   ],
   "source": [
    "get_error_message(10)"
   ]
  },
  {
   "cell_type": "code",
   "execution_count": 29,
   "id": "d7e792cc",
   "metadata": {},
   "outputs": [],
   "source": [
    "#25. Given a list with an odd number of elements, return whether the scale will tip \"left\" or \"right\" based on the sum of the numbers. The scale will tip on the direction of the largest total. If both sides are equal, return \"balanced\".\n",
    "\n",
    "def scale_tip(lst):\n",
    "    left_sum = sum(lst[:len(lst)//2])\n",
    "    right_sum = sum(lst[len(lst)//2 + 1:])\n",
    "    \n",
    "    if left_sum > right_sum:\n",
    "        return \"left\"\n",
    "    elif right_sum > left_sum:\n",
    "        return \"right\"\n",
    "    else:\n",
    "        return \"balanced\"\n",
    "\n",
    "    \n"
   ]
  },
  {
   "cell_type": "code",
   "execution_count": 30,
   "id": "24c9dcee",
   "metadata": {},
   "outputs": [
    {
     "data": {
      "text/plain": [
       "'right'"
      ]
     },
     "execution_count": 30,
     "metadata": {},
     "output_type": "execute_result"
    }
   ],
   "source": [
    "scale_tip([1,2,3,4,5,6,7]) "
   ]
  },
  {
   "cell_type": "code",
   "execution_count": 33,
   "id": "73ca2313",
   "metadata": {},
   "outputs": [
    {
     "data": {
      "text/plain": [
       "'left'"
      ]
     },
     "execution_count": 33,
     "metadata": {},
     "output_type": "execute_result"
    }
   ],
   "source": [
    "scale_tip([1,2])"
   ]
  },
  {
   "cell_type": "code",
   "execution_count": 37,
   "id": "a87d92ab",
   "metadata": {},
   "outputs": [
    {
     "data": {
      "text/plain": [
       "'balanced'"
      ]
     },
     "execution_count": 37,
     "metadata": {},
     "output_type": "execute_result"
    }
   ],
   "source": [
    "scale_tip([])"
   ]
  },
  {
   "cell_type": "code",
   "execution_count": 38,
   "id": "c6726091",
   "metadata": {},
   "outputs": [],
   "source": [
    "#26. Create a function that changes specific words into emoticons. Given a sentence as a string, replace the words smile, grin, sad and mad with their corresponding emoticons.\n",
    "\n",
    "#word\temoticon\n",
    "#smile : :D\n",
    "#grin : :)\n",
    "#sad  : :(\n",
    "#mad : :P\n",
    " \n",
    "    \n",
    "def emotify(txt):\n",
    "    word={\"smile\" : \":D\" ,\"grin\" : \":)\" , \"sad\"  : \":(\" ,\"mad\" : \":P\"}\n",
    "    words = txt.split()\n",
    "    \n",
    "    for i in range(len(words)):\n",
    "        if words[i] in word:\n",
    "            words[i] = word[words[i]]\n",
    "    \n",
    "    return ' '.join(words)"
   ]
  },
  {
   "cell_type": "code",
   "execution_count": 39,
   "id": "81aa9aef",
   "metadata": {},
   "outputs": [
    {
     "data": {
      "text/plain": [
       "':D'"
      ]
     },
     "execution_count": 39,
     "metadata": {},
     "output_type": "execute_result"
    }
   ],
   "source": [
    "emotify (\"smile\")"
   ]
  },
  {
   "cell_type": "code",
   "execution_count": 40,
   "id": "22bfc8eb",
   "metadata": {},
   "outputs": [],
   "source": [
    "#27. Create a function that takes the month and year (as integers) and returns the number of days in that month.\n",
    "\n",
    "def day_amount(month , year):\n",
    "    days_in_month = {\n",
    "        1: 31,  # January\n",
    "        2: 28,  # February \n",
    "        3: 31,  # March\n",
    "        4: 30,  # April\n",
    "        5: 31,  # May\n",
    "        6: 30,  # June\n",
    "        7: 31,  # July\n",
    "        8: 31,  # August\n",
    "        9: 30,  # September\n",
    "        10: 31,  # October\n",
    "        11: 30,  # November\n",
    "        12: 31   # December\n",
    "    }\n",
    "    \n",
    "    if month == 2 and (year % 4 == 0 and year % 100 != 0 or year % 400 == 0):\n",
    "        \n",
    "        return 29\n",
    "    \n",
    "    else:\n",
    "        return days_in_month.get(month, 0)"
   ]
  },
  {
   "cell_type": "code",
   "execution_count": 41,
   "id": "8e98ccfa",
   "metadata": {},
   "outputs": [
    {
     "data": {
      "text/plain": [
       "28"
      ]
     },
     "execution_count": 41,
     "metadata": {},
     "output_type": "execute_result"
    }
   ],
   "source": [
    "day_amount(2,2018)"
   ]
  },
  {
   "cell_type": "code",
   "execution_count": 42,
   "id": "a75601fd",
   "metadata": {},
   "outputs": [
    {
     "data": {
      "text/plain": [
       "29"
      ]
     },
     "execution_count": 42,
     "metadata": {},
     "output_type": "execute_result"
    }
   ],
   "source": [
    "day_amount(2,2024)"
   ]
  },
  {
   "cell_type": "code",
   "execution_count": 43,
   "id": "b22e68be",
   "metadata": {},
   "outputs": [
    {
     "data": {
      "text/plain": [
       "30"
      ]
     },
     "execution_count": 43,
     "metadata": {},
     "output_type": "execute_result"
    }
   ],
   "source": [
    "day_amount(6,2023)"
   ]
  },
  {
   "cell_type": "code",
   "execution_count": 50,
   "id": "5e9fb310",
   "metadata": {},
   "outputs": [],
   "source": [
    "#28. Create a function that changes all the elements in a list as follows:\n",
    "\n",
    "#Add 1 to all even integers, nothing to odd integers.\n",
    "\n",
    "#Concatenates \"!\" to all strings and make the first letter of the word a capital letter.\n",
    "\n",
    "#Changes all boolean values to its opposite.\n",
    "\n",
    "\n",
    "def modify_list(lst):\n",
    "    modified_list = []\n",
    "    \n",
    "    for item in lst:\n",
    "        if isinstance(item, int):\n",
    "            modified_list.append(item + 1 if item % 2 == 0 else item)\n",
    "        elif isinstance(item, str):\n",
    "            modified_list.append(item.capitalize() + \"!\")\n",
    "        elif isinstance(item, bool):\n",
    "            modified_list.append(not item)\n",
    "    \n",
    "    return modified_list\n"
   ]
  },
  {
   "cell_type": "code",
   "execution_count": 52,
   "id": "29de65ba",
   "metadata": {},
   "outputs": [
    {
     "data": {
      "text/plain": [
       "[1, 3, 3, 'Hello!', True, 1, 'World!']"
      ]
     },
     "execution_count": 52,
     "metadata": {},
     "output_type": "execute_result"
    }
   ],
   "source": [
    "modify_list( [1, 2, 3, \"hello\", True, False, \"world\"])"
   ]
  },
  {
   "cell_type": "code",
   "execution_count": 53,
   "id": "848ee70a",
   "metadata": {},
   "outputs": [],
   "source": [
    "#29. Write a function that returns the third character of the third string in a given list of strings. Return False if it can't be found.\n",
    "\n",
    "\n",
    "def get_third_char(lst):\n",
    "    if len(lst) >= 3 and isinstance(lst[2], str) and len(lst[2]) >= 3:\n",
    "        return lst[2][2]\n",
    "    else:\n",
    "        return False\n",
    "\n"
   ]
  },
  {
   "cell_type": "code",
   "execution_count": 54,
   "id": "ab255ab2",
   "metadata": {},
   "outputs": [
    {
     "data": {
      "text/plain": [
       "False"
      ]
     },
     "execution_count": 54,
     "metadata": {},
     "output_type": "execute_result"
    }
   ],
   "source": [
    "get_third_char(\"apple\")"
   ]
  },
  {
   "cell_type": "code",
   "execution_count": 66,
   "id": "b68629a6",
   "metadata": {},
   "outputs": [],
   "source": [
    "#30. A man named Thomas Malthus described what is now called a Malthusian Catastrophe. According to him, food production grows by a fixed amount, but population grows by a percentage. So, the food supply would soon be insufficient for the population.\n",
    "\n",
    "# Your job is to find out when that will occur. For this challenge, assume 1 population needs 1 unit of food production. Food production and population both start at 100. The year starts at 0.\n",
    "\n",
    "# The catastrophe happens when the population is larger than food production.\n",
    "\n",
    "# The function will pass:\n",
    "\n",
    "# food_growth ⁠— an integer ⁠— food production increase per year.\n",
    "\n",
    "# pop_mult ⁠— a floating-point number ⁠— population growth multiplier per year.\n",
    "\n",
    "\n",
    "def malthusian_catastrophe(food_growth, pop_mult):\n",
    "    food_production = 100\n",
    "    population = 100\n",
    "    year = 0\n",
    "    \n",
    "    while population <= food_production:\n",
    "        food_production += food_growth\n",
    "        population *= pop_mult\n",
    "        year += 1\n",
    "    \n",
    "    return year\n"
   ]
  },
  {
   "cell_type": "code",
   "execution_count": 67,
   "id": "f321a8ea",
   "metadata": {},
   "outputs": [
    {
     "data": {
      "text/plain": [
       "20"
      ]
     },
     "execution_count": 67,
     "metadata": {},
     "output_type": "execute_result"
    }
   ],
   "source": [
    "malthusian_catastrophe(4255,1.41)\n"
   ]
  },
  {
   "cell_type": "code",
   "execution_count": 68,
   "id": "0b39a06f",
   "metadata": {},
   "outputs": [],
   "source": [
    "#31. A list is special if every even index contains an even number and every odd index contains an odd number. Create a function that returns True if an array is special, and False otherwise\n",
    "\n",
    "def is_special(lst):\n",
    "    for i in range(len(lst)):\n",
    "        if i % 2 == 0 and lst[i] % 2 != 0:\n",
    "            return False\n",
    "        elif i % 2 != 0 and lst[i] % 2 == 0:\n",
    "            return False\n",
    "        else:\n",
    "            return True\n"
   ]
  },
  {
   "cell_type": "code",
   "execution_count": 69,
   "id": "2d7359db",
   "metadata": {},
   "outputs": [
    {
     "data": {
      "text/plain": [
       "False"
      ]
     },
     "execution_count": 69,
     "metadata": {},
     "output_type": "execute_result"
    }
   ],
   "source": [
    "is_special([1,2,3,1,2,4,5,6])"
   ]
  },
  {
   "cell_type": "code",
   "execution_count": 70,
   "id": "2ab017e5",
   "metadata": {},
   "outputs": [
    {
     "data": {
      "text/plain": [
       "True"
      ]
     },
     "execution_count": 70,
     "metadata": {},
     "output_type": "execute_result"
    }
   ],
   "source": [
    "is_special([2, 1, 4, 3, 6, 5])"
   ]
  },
  {
   "cell_type": "code",
   "execution_count": 75,
   "id": "28975eaf",
   "metadata": {},
   "outputs": [],
   "source": [
    "#32. Write a function that returns True if the given positive integer is a prime number and False if it's not.\n",
    "\n",
    "def is_prime(num):\n",
    "    if num < 2:\n",
    "        return False\n",
    "    \n",
    "    for i in range(2, int(num ** 0.5) + 1):\n",
    "        if num % i == 0:\n",
    "            return False\n",
    "    \n",
    "    return True\n"
   ]
  },
  {
   "cell_type": "code",
   "execution_count": 76,
   "id": "dab7a422",
   "metadata": {},
   "outputs": [
    {
     "data": {
      "text/plain": [
       "True"
      ]
     },
     "execution_count": 76,
     "metadata": {},
     "output_type": "execute_result"
    }
   ],
   "source": [
    "is_prime(2)"
   ]
  },
  {
   "cell_type": "code",
   "execution_count": 77,
   "id": "714ed42e",
   "metadata": {},
   "outputs": [
    {
     "data": {
      "text/plain": [
       "False"
      ]
     },
     "execution_count": 77,
     "metadata": {},
     "output_type": "execute_result"
    }
   ],
   "source": [
    "is_prime(9)"
   ]
  },
  {
   "cell_type": "code",
   "execution_count": 78,
   "id": "81a5157e",
   "metadata": {},
   "outputs": [],
   "source": [
    "#33. Create a function that takes a string s and returns a list of two-paired characters. If the string has an odd number of characters, add an asterisk * in the final pair\n",
    "\n",
    "def string_pairs(txt):\n",
    "    pairs = []\n",
    "    for i in range(0, len(txt), 2):\n",
    "        if i == len(txt) - 1:\n",
    "            pairs.append(txt[i] + '*')\n",
    "        else:\n",
    "            pairs.append(txt[i] + txt[i+1])\n",
    "    return pairs\n"
   ]
  },
  {
   "cell_type": "code",
   "execution_count": 79,
   "id": "e9831c20",
   "metadata": {},
   "outputs": [
    {
     "data": {
      "text/plain": [
       "['ab', 'cd', 'ef']"
      ]
     },
     "execution_count": 79,
     "metadata": {},
     "output_type": "execute_result"
    }
   ],
   "source": [
    "string_pairs(\"abcdef\")"
   ]
  },
  {
   "cell_type": "code",
   "execution_count": 80,
   "id": "fbc9c130",
   "metadata": {},
   "outputs": [
    {
     "data": {
      "text/plain": [
       "['ab', 'cd', 'e*']"
      ]
     },
     "execution_count": 80,
     "metadata": {},
     "output_type": "execute_result"
    }
   ],
   "source": [
    "string_pairs(\"abcde\")"
   ]
  },
  {
   "cell_type": "markdown",
   "id": "146d50b0",
   "metadata": {},
   "source": [
    "# control flow (easy)"
   ]
  },
  {
   "cell_type": "code",
   "execution_count": 2,
   "id": "67a17cc6",
   "metadata": {},
   "outputs": [],
   "source": [
    "#34 Write a function that returns the number of users in a chatroom based on the following rules:\n",
    "\n",
    "# If there is no one, return \"no one online\".\n",
    "# If there is 1 person, return \"user1 online\".\n",
    "# If there are 2 people, return \"user1 and user2 online\".\n",
    "# If there are n>2 people, return the first two names and add \"and n-2 more online\".\n",
    "\n",
    "\n",
    "def count_users(names):\n",
    "    if len(names) == 0:\n",
    "        return \"no one online\"\n",
    "    elif len(names) == 1:\n",
    "        return f\"{names[0]} online\"\n",
    "    elif len(names) == 2:\n",
    "        return f\"{names[0]} and {names[1]} online\"\n",
    "    else:\n",
    "        return f\"{names[0]}, {names[1]} and {len(names) - 2} more online\"\n"
   ]
  },
  {
   "cell_type": "code",
   "execution_count": 6,
   "id": "20e31361",
   "metadata": {},
   "outputs": [
    {
     "data": {
      "text/plain": [
       "'user1 online'"
      ]
     },
     "execution_count": 6,
     "metadata": {},
     "output_type": "execute_result"
    }
   ],
   "source": [
    "count_users([\"user1\"])"
   ]
  },
  {
   "cell_type": "code",
   "execution_count": 7,
   "id": "6f581fe4",
   "metadata": {},
   "outputs": [
    {
     "data": {
      "text/plain": [
       "'no one online'"
      ]
     },
     "execution_count": 7,
     "metadata": {},
     "output_type": "execute_result"
    }
   ],
   "source": [
    "count_users([])"
   ]
  },
  {
   "cell_type": "code",
   "execution_count": 8,
   "id": "b79a5378",
   "metadata": {},
   "outputs": [
    {
     "data": {
      "text/plain": [
       "'user1 and user2 online'"
      ]
     },
     "execution_count": 8,
     "metadata": {},
     "output_type": "execute_result"
    }
   ],
   "source": [
    "count_users([\"user1\",\"user2\"])"
   ]
  },
  {
   "cell_type": "code",
   "execution_count": 10,
   "id": "c187925c",
   "metadata": {},
   "outputs": [
    {
     "data": {
      "text/plain": [
       "'user1, user2 and 1 more online'"
      ]
     },
     "execution_count": 10,
     "metadata": {},
     "output_type": "execute_result"
    }
   ],
   "source": [
    "count_users([\"user1\",\"user2\",\"user3\"])"
   ]
  },
  {
   "cell_type": "code",
   "execution_count": 11,
   "id": "9da800d9",
   "metadata": {},
   "outputs": [],
   "source": [
    "#35 Create a function that returns the number of palindrome numbers in a specified range (inclusive).\n",
    "\n",
    "def count_palindromes(start, end):\n",
    "    count = 0\n",
    "    for num in range(start, end + 1):\n",
    "        if str(num) == str(num)[::-1]:\n",
    "            count += 1\n",
    "    return count\n"
   ]
  },
  {
   "cell_type": "code",
   "execution_count": 12,
   "id": "f3b5f33e",
   "metadata": {},
   "outputs": [
    {
     "data": {
      "text/plain": [
       "9"
      ]
     },
     "execution_count": 12,
     "metadata": {},
     "output_type": "execute_result"
    }
   ],
   "source": [
    "count_palindromes(1,10)"
   ]
  },
  {
   "cell_type": "code",
   "execution_count": 15,
   "id": "d206b7ca",
   "metadata": {},
   "outputs": [],
   "source": [
    "#36  Create a function that returns the sum of all even elements in a 2D matrix.\n",
    "\n",
    "\n",
    "def sum_even_elements(matrix):\n",
    "    total_sum = 0\n",
    "    for row in matrix:\n",
    "        for num in row:\n",
    "            if num % 2 == 0:\n",
    "                total_sum += num\n",
    "    return total_sum\n"
   ]
  },
  {
   "cell_type": "code",
   "execution_count": 16,
   "id": "4293cef8",
   "metadata": {},
   "outputs": [
    {
     "data": {
      "text/plain": [
       "22"
      ]
     },
     "execution_count": 16,
     "metadata": {},
     "output_type": "execute_result"
    }
   ],
   "source": [
    "sum_even_elements([[1,2,3,4],\n",
    "                   [2,3,4,1],\n",
    "                   [9,4,3,7],\n",
    "                   [5,5,7,6]])"
   ]
  },
  {
   "cell_type": "code",
   "execution_count": 13,
   "id": "41948fd3",
   "metadata": {},
   "outputs": [],
   "source": [
    "#37.Write a function that takes a string, breaks it up and returns it with vowels first, consonants second. For any character that's not a vowel (like special characters or spaces), treat them like consonants.\n",
    "\n",
    "\n",
    "def split(string):\n",
    "    vowels = \"\"\n",
    "    consonants = \"\"\n",
    "    \n",
    "    for char in string:\n",
    "        if char.lower() in \"aeiou\":\n",
    "            vowels += char\n",
    "        else:\n",
    "            consonants += char\n",
    "    \n",
    "    return vowels + consonants"
   ]
  },
  {
   "cell_type": "code",
   "execution_count": 14,
   "id": "5902d6c9",
   "metadata": {},
   "outputs": [
    {
     "data": {
      "text/plain": [
       "'aebcd'"
      ]
     },
     "execution_count": 14,
     "metadata": {},
     "output_type": "execute_result"
    }
   ],
   "source": [
    "split(\"abcde\")"
   ]
  },
  {
   "cell_type": "code",
   "execution_count": 81,
   "id": "6661ffc9",
   "metadata": {},
   "outputs": [],
   "source": [
    "#38 Create a function that takes a string as an argument and returns a coded (h4ck3r 5p34k) version of the string.\n",
    "\n",
    "def hacker_speak(string):\n",
    "    hacker_alphabets = {'a': '4', 'e': '3', 'i': '1', 'o': '0', 's': '5'}\n",
    "    \n",
    "    coded_string = \"\"\n",
    "    \n",
    "    for char in string:\n",
    "        if char.lower() in hacker_alphabets:\n",
    "            coded_string += hacker_alphabets[char.lower()]\n",
    "        else:\n",
    "            coded_string += char\n",
    "    \n",
    "    return coded_string\n",
    "\n",
    "    "
   ]
  },
  {
   "cell_type": "code",
   "execution_count": 82,
   "id": "ddd63f56",
   "metadata": {},
   "outputs": [
    {
     "data": {
      "text/plain": [
       "'j4v45cr1pt 15 c00l'"
      ]
     },
     "execution_count": 82,
     "metadata": {},
     "output_type": "execute_result"
    }
   ],
   "source": [
    "hacker_speak(\"javascript is cool\")"
   ]
  },
  {
   "cell_type": "code",
   "execution_count": 17,
   "id": "5a546bcc",
   "metadata": {},
   "outputs": [],
   "source": [
    "#39 Create a function that takes in a year and returns the correct century.\n",
    "\n",
    "def calculate_century(year):\n",
    "    if year <= 0:\n",
    "        return \"Invalid year\"\n",
    "    elif year <= 100:\n",
    "        return \"1st century\"\n",
    "    elif year % 100 == 0:\n",
    "        return f\"{year // 100}th century\"\n",
    "    else:\n",
    "        return f\"{(year // 100) + 1}th century\"\n"
   ]
  },
  {
   "cell_type": "code",
   "execution_count": 18,
   "id": "d8babdf4",
   "metadata": {},
   "outputs": [
    {
     "data": {
      "text/plain": [
       "'21th century'"
      ]
     },
     "execution_count": 18,
     "metadata": {},
     "output_type": "execute_result"
    }
   ],
   "source": [
    "\n",
    "calculate_century (2023)"
   ]
  },
  {
   "cell_type": "code",
   "execution_count": 19,
   "id": "87aef1b9",
   "metadata": {},
   "outputs": [
    {
     "data": {
      "text/plain": [
       "'20th century'"
      ]
     },
     "execution_count": 19,
     "metadata": {},
     "output_type": "execute_result"
    }
   ],
   "source": [
    "calculate_century(1999)"
   ]
  },
  {
   "cell_type": "code",
   "execution_count": 21,
   "id": "2b5f7fcf",
   "metadata": {},
   "outputs": [
    {
     "data": {
      "text/plain": [
       "'19th century'"
      ]
     },
     "execution_count": 21,
     "metadata": {},
     "output_type": "execute_result"
    }
   ],
   "source": [
    "calculate_century(1860)"
   ]
  },
  {
   "cell_type": "code",
   "execution_count": null,
   "id": "4d2a12c0",
   "metadata": {},
   "outputs": [],
   "source": []
  }
 ],
 "metadata": {
  "kernelspec": {
   "display_name": "Python 3 (ipykernel)",
   "language": "python",
   "name": "python3"
  },
  "language_info": {
   "codemirror_mode": {
    "name": "ipython",
    "version": 3
   },
   "file_extension": ".py",
   "mimetype": "text/x-python",
   "name": "python",
   "nbconvert_exporter": "python",
   "pygments_lexer": "ipython3",
   "version": "3.10.9"
  }
 },
 "nbformat": 4,
 "nbformat_minor": 5
}
