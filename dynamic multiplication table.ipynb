{
 "cells": [
  {
   "cell_type": "code",
   "execution_count": 1,
   "id": "61ba8198",
   "metadata": {},
   "outputs": [
    {
     "name": "stdout",
     "output_type": "stream",
     "text": [
      "enter the multiplication you want : 6\n",
      "how many values you want to go : 30\n",
      "6*1=6\n",
      "6*2=12\n",
      "6*3=18\n",
      "6*4=24\n",
      "6*5=30\n",
      "6*6=36\n",
      "6*7=42\n",
      "6*8=48\n",
      "6*9=54\n",
      "6*10=60\n",
      "6*11=66\n",
      "6*12=72\n",
      "6*13=78\n",
      "6*14=84\n",
      "6*15=90\n",
      "6*16=96\n",
      "6*17=102\n",
      "6*18=108\n",
      "6*19=114\n",
      "6*20=120\n",
      "6*21=126\n",
      "6*22=132\n",
      "6*23=138\n",
      "6*24=144\n",
      "6*25=150\n",
      "6*26=156\n",
      "6*27=162\n",
      "6*28=168\n",
      "6*29=174\n",
      "6*30=180\n"
     ]
    }
   ],
   "source": [
    "table=int(input(\"enter the multiplication you want : \"))\n",
    "value=int(input(\"how many values you want to go : \"))\n",
    "for y in range(1,value+1):\n",
    "    print(\"{}*{}={}\".format(table,y,table*y))"
   ]
  },
  {
   "cell_type": "code",
   "execution_count": null,
   "id": "149e5711",
   "metadata": {},
   "outputs": [],
   "source": []
  }
 ],
 "metadata": {
  "kernelspec": {
   "display_name": "Python 3 (ipykernel)",
   "language": "python",
   "name": "python3"
  },
  "language_info": {
   "codemirror_mode": {
    "name": "ipython",
    "version": 3
   },
   "file_extension": ".py",
   "mimetype": "text/x-python",
   "name": "python",
   "nbconvert_exporter": "python",
   "pygments_lexer": "ipython3",
   "version": "3.10.9"
  }
 },
 "nbformat": 4,
 "nbformat_minor": 5
}
