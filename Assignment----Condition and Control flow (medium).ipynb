{
 "cells": [
  {
   "cell_type": "code",
   "execution_count": 2,
   "id": "54d6140c",
   "metadata": {},
   "outputs": [],
   "source": [
    "#1. Create a function that takes two number strings and returns their sum as a string.\n",
    "\n",
    "\n",
    "def add(n1,n2):\n",
    "    int1=int(n1)\n",
    "    int2=int(n2)\n",
    "    sum1=int1+int2\n",
    "    st=str(sum1)\n",
    "    return  st"
   ]
  },
  {
   "cell_type": "code",
   "execution_count": 3,
   "id": "82972b89",
   "metadata": {},
   "outputs": [
    {
     "data": {
      "text/plain": [
       "'222'"
      ]
     },
     "execution_count": 3,
     "metadata": {},
     "output_type": "execute_result"
    }
   ],
   "source": [
    "add(\"111\",\"111\")"
   ]
  },
  {
   "cell_type": "code",
   "execution_count": 4,
   "id": "abf580b7",
   "metadata": {},
   "outputs": [
    {
     "data": {
      "text/plain": [
       "'30'"
      ]
     },
     "execution_count": 4,
     "metadata": {},
     "output_type": "execute_result"
    }
   ],
   "source": [
    "add(\"10\",\"20\")"
   ]
  },
  {
   "cell_type": "code",
   "execution_count": 1,
   "id": "31255c97",
   "metadata": {},
   "outputs": [],
   "source": [
    "#2.Create a function to find only the root value of x in any quadratic equation ax^2 + bx + c. The function will take three arguments:\n",
    "\n",
    "# a as the coefficient of x^2\n",
    "# b as the coefficient of x\n",
    "# c as the constant term\n",
    "\n",
    "\n",
    "\n",
    "def quadratic_equation(a,b,c):\n",
    "    dis=b**2-4*a*c\n",
    "    root=(-b+(dis**0.5))/ (2*a)\n",
    "    return root\n"
   ]
  },
  {
   "cell_type": "code",
   "execution_count": 2,
   "id": "c19b5927",
   "metadata": {},
   "outputs": [
    {
     "data": {
      "text/plain": [
       "1.0"
      ]
     },
     "execution_count": 2,
     "metadata": {},
     "output_type": "execute_result"
    }
   ],
   "source": [
    "quadratic_equation(1,2,-3)"
   ]
  },
  {
   "cell_type": "code",
   "execution_count": 11,
   "id": "8561c812",
   "metadata": {},
   "outputs": [],
   "source": [
    "#3. In each input list, every number repeats at least once, except for two. Write a function that returns the two unique numbers.\n",
    "\n",
    "def return_unique(nums):\n",
    "    unique_numbers = []\n",
    "    for num in nums:\n",
    "        if nums.count(num) == 1:\n",
    "            unique_numbers.append(num)\n",
    "    return unique_numbers\n"
   ]
  },
  {
   "cell_type": "code",
   "execution_count": 12,
   "id": "f0fbd187",
   "metadata": {},
   "outputs": [
    {
     "data": {
      "text/plain": [
       "[9, 7]"
      ]
     },
     "execution_count": 12,
     "metadata": {},
     "output_type": "execute_result"
    }
   ],
   "source": [
    "return_unique([1, 9, 8, 8, 7, 6, 1, 6])"
   ]
  },
  {
   "cell_type": "markdown",
   "id": "89744e67",
   "metadata": {},
   "source": [
    "#4. Create a function that takes two parameters and, if both parameters are strings, add them as if they were integers or if the two parameters are integers, concatenate them.\n",
    "\n",
    "Examples\n",
    "stupid_addition(1, 2) ➞ \"12\"\n",
    "\n",
    "stupid_addition(\"1\", \"2\") ➞ 3\n",
    "\n",
    "stupid_addition(\"1\", 2) ➞ None"
   ]
  },
  {
   "cell_type": "code",
   "execution_count": 27,
   "id": "a1a47be4",
   "metadata": {},
   "outputs": [],
   "source": [
    "def stupid_add(p1,p2):\n",
    "    if type (p1)== str and type(p2)==str:\n",
    "        return int(p1)+int(p2)\n",
    "    elif type(p1)==int and type(p2)==int:\n",
    "         return str(p1)+str(p2)\n",
    "    else:\n",
    "        return \"None\""
   ]
  },
  {
   "cell_type": "code",
   "execution_count": 28,
   "id": "fb3ffd2d",
   "metadata": {},
   "outputs": [
    {
     "data": {
      "text/plain": [
       "3"
      ]
     },
     "execution_count": 28,
     "metadata": {},
     "output_type": "execute_result"
    }
   ],
   "source": [
    "stupid_add(\"1\",\"2\")"
   ]
  },
  {
   "cell_type": "code",
   "execution_count": 29,
   "id": "6aa6c010",
   "metadata": {},
   "outputs": [
    {
     "data": {
      "text/plain": [
       "'12'"
      ]
     },
     "execution_count": 29,
     "metadata": {},
     "output_type": "execute_result"
    }
   ],
   "source": [
    "stupid_add(1,2)"
   ]
  },
  {
   "cell_type": "code",
   "execution_count": 30,
   "id": "1fe7ab96",
   "metadata": {},
   "outputs": [
    {
     "data": {
      "text/plain": [
       "'None'"
      ]
     },
     "execution_count": 30,
     "metadata": {},
     "output_type": "execute_result"
    }
   ],
   "source": [
    "stupid_add(\"1\",2)"
   ]
  },
  {
   "cell_type": "markdown",
   "id": "1fd376c0",
   "metadata": {},
   "source": [
    "#5.Transcribe the given DNA strand into corresponding mRNA - a type of RNA, that will be formed from it after transcription. DNA has the bases A, T, G and C, while RNA converts to U, A, C and G respectively.\n",
    "\n",
    "Examples\n",
    "dna_to_rna(\"ATTAGCGCGATATACGCGTAC\") ➞ \"UAAUCGCGCUAUAUGCGCAUG\"\n",
    "\n",
    "dna_to_rna(\"CGATATA\") ➞ \"GCUAUAU\"\n",
    "\n",
    "dna_to_rna(\"GTCATACGACGTA\") ➞ \"CAGUAUGCUGCAU\"\n",
    "Notes\n",
    "Transcription is the process of making complementary strand.\n",
    "A, T, G and C in DNA converts to U, A, C and G respectively, when in mRNA."
   ]
  },
  {
   "cell_type": "code",
   "execution_count": 31,
   "id": "df44c862",
   "metadata": {},
   "outputs": [],
   "source": [
    "def dna_to_rna(dna):\n",
    "    rna = \"\"\n",
    "    for base in dna:\n",
    "        if base == \"A\":\n",
    "            rna += \"U\"\n",
    "        elif base == \"T\":\n",
    "            rna += \"A\"\n",
    "        elif base == \"G\":\n",
    "            rna += \"C\"\n",
    "        elif base == \"C\":\n",
    "            rna += \"G\"\n",
    "    return rna"
   ]
  },
  {
   "cell_type": "code",
   "execution_count": 32,
   "id": "13d02666",
   "metadata": {},
   "outputs": [
    {
     "data": {
      "text/plain": [
       "'UAAUCGCGCUAUAUGCGCAUG'"
      ]
     },
     "execution_count": 32,
     "metadata": {},
     "output_type": "execute_result"
    }
   ],
   "source": [
    "dna_to_rna(\"ATTAGCGCGATATACGCGTAC\")"
   ]
  },
  {
   "cell_type": "markdown",
   "id": "2b2b4b19",
   "metadata": {},
   "source": [
    "#6.Create a function that takes three values:\n",
    "\n",
    "h hours\n",
    "m minutes\n",
    "s seconds\n",
    "Return the value that's the longest duration."
   ]
  },
  {
   "cell_type": "code",
   "execution_count": 3,
   "id": "d14afc1e",
   "metadata": {},
   "outputs": [],
   "source": [
    "def longest_time(h,m,s):\n",
    "    H=h*3600\n",
    "    M=h*60\n",
    "    S=s*1\n",
    "    if H>M and H>S:\n",
    "        return h\n",
    "    elif M>H  and M>S:\n",
    "        return m\n",
    "    else:\n",
    "        return s\n",
    "    "
   ]
  },
  {
   "cell_type": "code",
   "execution_count": 4,
   "id": "d2d6b8a7",
   "metadata": {},
   "outputs": [
    {
     "data": {
      "text/plain": [
       "1"
      ]
     },
     "execution_count": 4,
     "metadata": {},
     "output_type": "execute_result"
    }
   ],
   "source": [
    "longest_time(1, 59, 3598)"
   ]
  },
  {
   "cell_type": "markdown",
   "id": "e8c10b63",
   "metadata": {},
   "source": [
    "7.YouTube currently displays a like and a dislike button, allowing you to express your opinions about particular content. It's set up in such a way that you cannot like and dislike a video at the same time.\n",
    "\n",
    "There are two other interesting rules to be noted about the interface:\n",
    "\n",
    "Pressing a button, which is already active, will undo your press.\n",
    "If you press the like button after pressing the dislike button, the like button overwrites the previous \"dislike\" state. The same is true for the other way round.\n",
    "\n",
    "\n",
    "Create a function that takes in a list of button inputs and returns the final state.\n",
    "\n",
    "Examples\n",
    "like_or_dislike([\"Dislike\"]) ➞ \"Dislike\"\n",
    "\n",
    "like_or_dislike([\"Like\", \"Like\"]) ➞ \"Nothing\"\n",
    "\n",
    "like_or_dislike([\"Dislike\", \"Like\"]) ➞ \"Like\"\n",
    "\n",
    "like_or_dislike([\"Like\", \"Dislike\", \"Dislike\"]) ➞ \"Nothing\"\n",
    "Notes\n",
    "If no button is currently active, return \"Nothing\".\n",
    "If the list is empty, return \"Nothing\"."
   ]
  },
  {
   "cell_type": "code",
   "execution_count": 11,
   "id": "d2e53fe9",
   "metadata": {},
   "outputs": [],
   "source": [
    "def like_or_dislike(buttons):\n",
    "    if not buttons:\n",
    "        return \"Nothing\"\n",
    "    elif \"like\" in buttons and\"dislike\" in buttons:\n",
    "        return \"like\"\n",
    "    elif \"like\" in buttons:\n",
    "        return \"like\"\n",
    "    elif \"dislike\" in buttons:\n",
    "        return \"dislike\"\n",
    "    else:\n",
    "        return \"Nothing\""
   ]
  },
  {
   "cell_type": "code",
   "execution_count": 12,
   "id": "dda4a561",
   "metadata": {},
   "outputs": [
    {
     "data": {
      "text/plain": [
       "'dislike'"
      ]
     },
     "execution_count": 12,
     "metadata": {},
     "output_type": "execute_result"
    }
   ],
   "source": [
    "like_or_dislike([\"dislike\"])"
   ]
  },
  {
   "cell_type": "code",
   "execution_count": 13,
   "id": "0f15c07a",
   "metadata": {},
   "outputs": [
    {
     "data": {
      "text/plain": [
       "'Nothing'"
      ]
     },
     "execution_count": 13,
     "metadata": {},
     "output_type": "execute_result"
    }
   ],
   "source": [
    "like_or_dislike([\"Like\", \"Like\"])"
   ]
  },
  {
   "cell_type": "code",
   "execution_count": 16,
   "id": "14cc225a",
   "metadata": {},
   "outputs": [
    {
     "data": {
      "text/plain": [
       "'like'"
      ]
     },
     "execution_count": 16,
     "metadata": {},
     "output_type": "execute_result"
    }
   ],
   "source": [
    "like_or_dislike([\"like\", \"dislike\"])"
   ]
  },
  {
   "cell_type": "code",
   "execution_count": 17,
   "id": "16abb7c7",
   "metadata": {},
   "outputs": [
    {
     "data": {
      "text/plain": [
       "'Nothing'"
      ]
     },
     "execution_count": 17,
     "metadata": {},
     "output_type": "execute_result"
    }
   ],
   "source": [
    "like_or_dislike([\"Like\", \"Dislike\", \"Dislike\"])"
   ]
  },
  {
   "cell_type": "markdown",
   "id": "ade3b0af",
   "metadata": {},
   "source": [
    "8. Create a function that determines whether a number is Oddish or Evenish. A number is Oddish if the sum of all of its digits is odd, and a number is Evenish if the sum of all of its digits is even. If a number is Oddish, return \"Oddish\". Otherwise, return \"Evenish\".\n",
    "\n",
    "   For example, oddish_or_evenish(121) should return \"Evenish\", since 1 + 2 + 1 = 4. oddish_or_evenish(41) should return \"Oddish\", since 4 + 1 = 5."
   ]
  },
  {
   "cell_type": "code",
   "execution_count": 29,
   "id": "9cc16dfe",
   "metadata": {},
   "outputs": [],
   "source": [
    "def oddish_or_evenish(num):\n",
    "    digit_sum = sum(int(digit) for digit in str(num))\n",
    "    if digit_sum % 2 == 0:\n",
    "        return \"Evenish\"\n",
    "    else:\n",
    "        return \"Oddish\"\n"
   ]
  },
  {
   "cell_type": "code",
   "execution_count": 31,
   "id": "07851d40",
   "metadata": {},
   "outputs": [
    {
     "data": {
      "text/plain": [
       "'Oddish'"
      ]
     },
     "execution_count": 31,
     "metadata": {},
     "output_type": "execute_result"
    }
   ],
   "source": [
    "oddish_or_evenish(43)"
   ]
  },
  {
   "cell_type": "code",
   "execution_count": 32,
   "id": "b226c213",
   "metadata": {},
   "outputs": [
    {
     "data": {
      "text/plain": [
       "'Evenish'"
      ]
     },
     "execution_count": 32,
     "metadata": {},
     "output_type": "execute_result"
    }
   ],
   "source": [
    "oddish_or_evenish(4433)"
   ]
  },
  {
   "cell_type": "markdown",
   "id": "da023733",
   "metadata": {},
   "source": [
    "9. Create a function (named fifth) that takes some arguments and returns the type of the fifth argument. In case the arguments were less than 5, return \"Not enough arguments\"."
   ]
  },
  {
   "cell_type": "code",
   "execution_count": 33,
   "id": "d262dcd5",
   "metadata": {},
   "outputs": [],
   "source": [
    "def fifth(*args):\n",
    "    if len(args) < 5:\n",
    "        return \"Not enough arguments\"\n",
    "    else:\n",
    "        return type(args[4])\n"
   ]
  },
  {
   "cell_type": "code",
   "execution_count": 34,
   "id": "b81945d4",
   "metadata": {},
   "outputs": [
    {
     "data": {
      "text/plain": [
       "int"
      ]
     },
     "execution_count": 34,
     "metadata": {},
     "output_type": "execute_result"
    }
   ],
   "source": [
    "fifth(1,2,3,4,5)"
   ]
  },
  {
   "cell_type": "code",
   "execution_count": 35,
   "id": "069766c6",
   "metadata": {},
   "outputs": [
    {
     "data": {
      "text/plain": [
       "str"
      ]
     },
     "execution_count": 35,
     "metadata": {},
     "output_type": "execute_result"
    }
   ],
   "source": [
    "fifth(\"a\", 2, 3, [1, 2, 3], \"five\")"
   ]
  },
  {
   "cell_type": "code",
   "execution_count": 36,
   "id": "bc3266d7",
   "metadata": {},
   "outputs": [
    {
     "data": {
      "text/plain": [
       "'Not enough arguments'"
      ]
     },
     "execution_count": 36,
     "metadata": {},
     "output_type": "execute_result"
    }
   ],
   "source": [
    "fifth()"
   ]
  },
  {
   "cell_type": "markdown",
   "id": "1598de01",
   "metadata": {},
   "source": [
    "10. Create a function that takes a string and censors words over four characters with *."
   ]
  },
  {
   "cell_type": "code",
   "execution_count": 39,
   "id": "6a5cd48f",
   "metadata": {},
   "outputs": [],
   "source": [
    "def censor(sentence):\n",
    "    words = sentence.split()\n",
    "    censored_words = []\n",
    "    for word in words:\n",
    "        if len(word) > 4:\n",
    "            censored_words.append(\"*\" * len(word))\n",
    "        else:\n",
    "            censored_words.append(word)\n",
    "    censored_sentence = \" \".join(censored_words)\n",
    "    return censored_sentence\n",
    "\n",
    "    "
   ]
  },
  {
   "cell_type": "code",
   "execution_count": 40,
   "id": "ceb6275e",
   "metadata": {},
   "outputs": [
    {
     "data": {
      "text/plain": [
       "'The code is ******'"
      ]
     },
     "execution_count": 40,
     "metadata": {},
     "output_type": "execute_result"
    }
   ],
   "source": [
    "censor(\"The code is fourty\")"
   ]
  },
  {
   "cell_type": "code",
   "execution_count": 41,
   "id": "887863da",
   "metadata": {},
   "outputs": [
    {
     "data": {
      "text/plain": [
       "'Two plus ***** is five'"
      ]
     },
     "execution_count": 41,
     "metadata": {},
     "output_type": "execute_result"
    }
   ],
   "source": [
    "censor(\"Two plus three is five\")"
   ]
  },
  {
   "cell_type": "markdown",
   "id": "0464a798",
   "metadata": {},
   "source": [
    "11. Given two strings comprised of + and -, return a new string which shows how the two strings interact in the following way:\n",
    "\n",
    "    When positives and positives interact, they remain positive.\n",
    "    When negatives and negatives interact, they remain negative.\n",
    "    But when negatives and positives interact, they become neutral, and are shown as the number 0."
   ]
  },
  {
   "cell_type": "code",
   "execution_count": 42,
   "id": "eaaff610",
   "metadata": {},
   "outputs": [],
   "source": [
    "def neutralise(a,b):\n",
    "    result = \"\"\n",
    "    for ch1, ch2 in zip(a, b):\n",
    "        if ch1 == \"+\" and ch2 == \"+\":\n",
    "            result += \"+\"\n",
    "        elif ch1 == \"-\" and ch2 == \"-\":\n",
    "            result += \"-\"\n",
    "        else:\n",
    "            result += \"0\"\n",
    "    return result\n"
   ]
  },
  {
   "cell_type": "code",
   "execution_count": 43,
   "id": "ef5f12c2",
   "metadata": {},
   "outputs": [
    {
     "data": {
      "text/plain": [
       "'000000'"
      ]
     },
     "execution_count": 43,
     "metadata": {},
     "output_type": "execute_result"
    }
   ],
   "source": [
    "neutralise(\"--++--\", \"++--++\")"
   ]
  },
  {
   "cell_type": "code",
   "execution_count": 44,
   "id": "d4ef221e",
   "metadata": {},
   "outputs": [
    {
     "data": {
      "text/plain": [
       "'-+-+-+'"
      ]
     },
     "execution_count": 44,
     "metadata": {},
     "output_type": "execute_result"
    }
   ],
   "source": [
    "neutralise(\"-+-+-+\", \"-+-+-+\")"
   ]
  },
  {
   "cell_type": "code",
   "execution_count": 45,
   "id": "3ed9ceef",
   "metadata": {},
   "outputs": [
    {
     "data": {
      "text/plain": [
       "'-+00'"
      ]
     },
     "execution_count": 45,
     "metadata": {},
     "output_type": "execute_result"
    }
   ],
   "source": [
    "neutralise(\"-++-\", \"-+-+\")"
   ]
  },
  {
   "cell_type": "markdown",
   "id": "5b6fd8b1",
   "metadata": {},
   "source": [
    "12. Write a function that takes a list of two numbers and determines if the sum of the digits in each number are equal to each other."
   ]
  },
  {
   "cell_type": "code",
   "execution_count": 49,
   "id": "3074b541",
   "metadata": {},
   "outputs": [],
   "source": [
    "def equal_digit_sum(numbers):\n",
    "    num1, num2 = numbers\n",
    "    sum1 = sum(int(digit) for digit in str(num1))\n",
    "    sum2 = sum(int(digit) for digit in str(num2))\n",
    "    return sum1 == sum2\n"
   ]
  },
  {
   "cell_type": "code",
   "execution_count": 51,
   "id": "c195673e",
   "metadata": {},
   "outputs": [
    {
     "data": {
      "text/plain": [
       "True"
      ]
     },
     "execution_count": 51,
     "metadata": {},
     "output_type": "execute_result"
    }
   ],
   "source": [
    "equal_digit_sum([45,63])"
   ]
  },
  {
   "cell_type": "code",
   "execution_count": 52,
   "id": "eb017fbb",
   "metadata": {},
   "outputs": [
    {
     "data": {
      "text/plain": [
       "False"
      ]
     },
     "execution_count": 52,
     "metadata": {},
     "output_type": "execute_result"
    }
   ],
   "source": [
    "equal_digit_sum([45,61])"
   ]
  },
  {
   "cell_type": "markdown",
   "id": "d180ddb5",
   "metadata": {},
   "source": [
    "13. You will be given a list of numbers which represent your character's altitude above sea level at regular intervals:\n",
    "\n",
    "   Positive numbers represent height above the water.\n",
    "   0 is sea level.\n",
    "   Negative numbers represent depth below the water's surface.\n",
    "\n",
    "   Create a function which returns whether your character survives their    unsupervised diving experience, given a list of integers.\n",
    "\n",
    "    Your character starts with a breath meter of 10, which is the         maximum. When diving underwater, your breath meter decreases by 2 per item in the array. Watch out! If your breath diminishes to 0, your character dies!\n",
    "\n",
    "    To prevent this, you can replenish your breath by 4 (up to the maximum of 10) for each item in the array where you are at or above sea level.\n",
    "\n",
    "    Your function should return True if your character survives, and False if not."
   ]
  },
  {
   "cell_type": "code",
   "execution_count": 53,
   "id": "9b4d0ca6",
   "metadata": {},
   "outputs": [],
   "source": [
    "def diving_minigame(altitudes):\n",
    "    breath_meter = 10\n",
    "\n",
    "    for altitude in altitudes:\n",
    "        if altitude < 0:\n",
    "            breath_meter -= 2\n",
    "        else:\n",
    "            breath_meter += 4\n",
    "            if breath_meter > 10:\n",
    "                breath_meter = 10\n",
    "\n",
    "        if breath_meter <= 0:\n",
    "            return False\n",
    "\n",
    "    return True"
   ]
  },
  {
   "cell_type": "code",
   "execution_count": 54,
   "id": "8b1147e9",
   "metadata": {},
   "outputs": [
    {
     "data": {
      "text/plain": [
       "True"
      ]
     },
     "execution_count": 54,
     "metadata": {},
     "output_type": "execute_result"
    }
   ],
   "source": [
    "diving_minigame([-5, -15, -4, 0, 5])"
   ]
  },
  {
   "cell_type": "code",
   "execution_count": 55,
   "id": "44e88fe2",
   "metadata": {},
   "outputs": [
    {
     "data": {
      "text/plain": [
       "False"
      ]
     },
     "execution_count": 55,
     "metadata": {},
     "output_type": "execute_result"
    }
   ],
   "source": [
    "diving_minigame([-3, -6, -2, -6, -2])"
   ]
  },
  {
   "cell_type": "markdown",
   "id": "5daa9d85",
   "metadata": {},
   "source": [
    "14.  Write a function that does the following operations: adding,    subtracting, dividing, or multiplying values. It is simply referred to as variable operation variable. Of course, the variables have to be defined, but in this challenge the variables will be defined for you. All you have to do is look at the variables, do some string to integer conversions, use some if conditionals, and combine them based on the operation.\n",
    "\n",
    "     The numbers and operation will be given as strings, and you should return the value as a string as well. "
   ]
  },
  {
   "cell_type": "code",
   "execution_count": 1,
   "id": "37989bcf",
   "metadata": {},
   "outputs": [],
   "source": [
    "def operation(a, b, op):\n",
    "    a=int(a)\n",
    "    b=int(b)\n",
    "    \n",
    "    if op==\"add\":\n",
    "        result= a+b\n",
    "    elif op==\"sub\":\n",
    "        result= a-b\n",
    "    elif op==\"div\":\n",
    "        result= a/b\n",
    "        \n",
    "    return str(result)"
   ]
  },
  {
   "cell_type": "code",
   "execution_count": 2,
   "id": "6fc5f988",
   "metadata": {},
   "outputs": [
    {
     "data": {
      "text/plain": [
       "'3'"
      ]
     },
     "execution_count": 2,
     "metadata": {},
     "output_type": "execute_result"
    }
   ],
   "source": [
    "operation(\"1\", \"2\", \"add\" )"
   ]
  },
  {
   "cell_type": "code",
   "execution_count": 4,
   "id": "1b7799f7",
   "metadata": {},
   "outputs": [
    {
     "data": {
      "text/plain": [
       "'-1'"
      ]
     },
     "execution_count": 4,
     "metadata": {},
     "output_type": "execute_result"
    }
   ],
   "source": [
    "operation(\"4\", \"5\", \"sub\")"
   ]
  },
  {
   "cell_type": "code",
   "execution_count": 5,
   "id": "5b2b23b3",
   "metadata": {},
   "outputs": [
    {
     "data": {
      "text/plain": [
       "'2.0'"
      ]
     },
     "execution_count": 5,
     "metadata": {},
     "output_type": "execute_result"
    }
   ],
   "source": [
    "operation(\"6\", \"3\", \"div\")"
   ]
  },
  {
   "cell_type": "markdown",
   "id": "430db87d",
   "metadata": {},
   "source": [
    "15. Given a list of even length, copy the half with the higher sum of      numbers to the other half of the list. If the sum of the first half equals the sum of the second half, return the original list."
   ]
  },
  {
   "cell_type": "code",
   "execution_count": 2,
   "id": "d42166c9",
   "metadata": {},
   "outputs": [],
   "source": [
    "def balanced(lst):\n",
    "    half_length = len(lst) // 2\n",
    "    first_half = lst[:half_length]\n",
    "    second_half = lst[half_length:]\n",
    "    \n",
    "    sum_first_half = sum(first_half)\n",
    "    sum_second_half = sum(second_half)\n",
    "    \n",
    "    if sum_first_half == sum_second_half:\n",
    "        return lst\n",
    "    elif sum_first_half > sum_second_half:\n",
    "        lst[half_length:] = first_half\n",
    "    else:\n",
    "        lst[:half_length] = second_half\n",
    "    \n",
    "    return lst\n"
   ]
  },
  {
   "cell_type": "code",
   "execution_count": 4,
   "id": "bde8b1d8",
   "metadata": {},
   "outputs": [
    {
     "data": {
      "text/plain": [
       "[6, 3, 1, 6, 3, 1]"
      ]
     },
     "execution_count": 4,
     "metadata": {},
     "output_type": "execute_result"
    }
   ],
   "source": [
    "balanced([1, 2, 4, 6, 3, 1])"
   ]
  },
  {
   "cell_type": "markdown",
   "id": "27a44190",
   "metadata": {},
   "source": [
    "16. Create a function which takes two strings (p1 and p2 ⁠— which represent player 1 and 2) as arguments and returns a string stating the winner in a game of Rock, Paper, Scissors.\n",
    "\n",
    "    Each argument will contain a single string: \"Rock\", \"Paper\", or \"Scissors\". Return the winner according to the following rules:\n",
    "\n",
    "    Rock beats Scissors\n",
    "    Scissors beats Paper\n",
    "    Paper beats Rock\n",
    "    If p1 wins, return the string \"The winner is p1\". If p2 wins, return the string \"The winner is p2\" and if p1 and p2 are the same, return \"It's a draw\"."
   ]
  },
  {
   "cell_type": "code",
   "execution_count": 1,
   "id": "47633523",
   "metadata": {},
   "outputs": [],
   "source": [
    "def rps(p1, p2):\n",
    "    if p1 == p2:\n",
    "        return \"It's a draw\"\n",
    "    elif (p1 == \"Rock\" and p2 == \"Scissors\") or (p1 == \"Scissors\" and p2 == \"Paper\") or (p1 == \"Paper\" and p2 == \"Rock\"):\n",
    "        return \"The winner is p1\"\n",
    "    else:\n",
    "        return \"The winner is p2\"\n"
   ]
  },
  {
   "cell_type": "code",
   "execution_count": 2,
   "id": "6e635562",
   "metadata": {},
   "outputs": [
    {
     "data": {
      "text/plain": [
       "'The winner is p2'"
      ]
     },
     "execution_count": 2,
     "metadata": {},
     "output_type": "execute_result"
    }
   ],
   "source": [
    "rps(\"Rock\", \"Paper\")"
   ]
  },
  {
   "cell_type": "code",
   "execution_count": 3,
   "id": "2ebee919",
   "metadata": {},
   "outputs": [
    {
     "data": {
      "text/plain": [
       "'The winner is p1'"
      ]
     },
     "execution_count": 3,
     "metadata": {},
     "output_type": "execute_result"
    }
   ],
   "source": [
    "rps(\"Scissors\", \"Paper\")"
   ]
  },
  {
   "cell_type": "code",
   "execution_count": 4,
   "id": "3f67bee7",
   "metadata": {},
   "outputs": [
    {
     "data": {
      "text/plain": [
       "\"It's a draw\""
      ]
     },
     "execution_count": 4,
     "metadata": {},
     "output_type": "execute_result"
    }
   ],
   "source": [
    "rps(\"Paper\", \"Paper\")"
   ]
  },
  {
   "cell_type": "markdown",
   "id": "ae93ab0f",
   "metadata": {},
   "source": [
    "17. A built-in timer inside your car can count the length of your ride in minutes and you have started your ride at 00:00.\n",
    "\n",
    "    Given the number of minutes n at the end of the ride, calculate the current time. Return the sum of digits that the digital timer in the format hh:mm will show at the end of the ride."
   ]
  },
  {
   "cell_type": "code",
   "execution_count": 7,
   "id": "82573d6a",
   "metadata": {},
   "outputs": [],
   "source": [
    "def car_timer(n):\n",
    "    hours=n//60\n",
    "    minutes=n%60\n",
    "    time = \"{:02d}:{:02d}\".format(hours, minutes)\n",
    "    digit_sum = 0\n",
    "    for digit in time:\n",
    "        if digit.isdigit():\n",
    "            digit_sum += int(digit)\n",
    "    return digit_sum\n",
    "    \n",
    "    \n",
    "    "
   ]
  },
  {
   "cell_type": "code",
   "execution_count": 8,
   "id": "b99bd955",
   "metadata": {
    "scrolled": true
   },
   "outputs": [
    {
     "data": {
      "text/plain": [
       "4"
      ]
     },
     "execution_count": 8,
     "metadata": {},
     "output_type": "execute_result"
    }
   ],
   "source": [
    "car_timer(240)"
   ]
  },
  {
   "cell_type": "code",
   "execution_count": 10,
   "id": "abdbf02a",
   "metadata": {},
   "outputs": [
    {
     "data": {
      "text/plain": [
       "5"
      ]
     },
     "execution_count": 10,
     "metadata": {},
     "output_type": "execute_result"
    }
   ],
   "source": [
    "car_timer(14) "
   ]
  },
  {
   "cell_type": "code",
   "execution_count": 11,
   "id": "0594a9f8",
   "metadata": {},
   "outputs": [
    {
     "data": {
      "text/plain": [
       "14"
      ]
     },
     "execution_count": 11,
     "metadata": {},
     "output_type": "execute_result"
    }
   ],
   "source": [
    "car_timer(808)"
   ]
  },
  {
   "cell_type": "markdown",
   "id": "cc7bd6ff",
   "metadata": {},
   "source": [
    "18. Check if the given string consists of only letters and spaces and if every letter is in lower case."
   ]
  },
  {
   "cell_type": "code",
   "execution_count": 15,
   "id": "b500ecbe",
   "metadata": {},
   "outputs": [],
   "source": [
    "def letters_only(string):\n",
    "    for char in string:\n",
    "        if char != ' ' and not char.islower():\n",
    "            return False\n",
    "        else:\n",
    "            return True\n"
   ]
  },
  {
   "cell_type": "code",
   "execution_count": 16,
   "id": "584f23b3",
   "metadata": {},
   "outputs": [
    {
     "data": {
      "text/plain": [
       "False"
      ]
     },
     "execution_count": 16,
     "metadata": {},
     "output_type": "execute_result"
    }
   ],
   "source": [
    "letters_only(\"PYTHON\")"
   ]
  },
  {
   "cell_type": "code",
   "execution_count": 17,
   "id": "7db81490",
   "metadata": {},
   "outputs": [
    {
     "data": {
      "text/plain": [
       "True"
      ]
     },
     "execution_count": 17,
     "metadata": {},
     "output_type": "execute_result"
    }
   ],
   "source": [
    "letters_only(\"python\")"
   ]
  },
  {
   "cell_type": "markdown",
   "id": "23cc45ba",
   "metadata": {},
   "source": [
    "19. Given two strings, return a string containing only the letters shared between the two."
   ]
  },
  {
   "cell_type": "code",
   "execution_count": 5,
   "id": "32bfcd86",
   "metadata": {},
   "outputs": [],
   "source": [
    "def shared_letters(string1, string2):\n",
    "    shared = set(string1) & set(string2)\n",
    "    return ''.join(char for char in shared if char.isalpha())\n"
   ]
  },
  {
   "cell_type": "code",
   "execution_count": 6,
   "id": "4b3faa96",
   "metadata": {},
   "outputs": [
    {
     "data": {
      "text/plain": [
       "'heo'"
      ]
     },
     "execution_count": 6,
     "metadata": {},
     "output_type": "execute_result"
    }
   ],
   "source": [
    "shared_letters(\"house\",\"home\")"
   ]
  },
  {
   "cell_type": "markdown",
   "id": "3f63c1ae",
   "metadata": {},
   "source": [
    "20. Given a list and chunk size \"n\", create a function such that it divides the list into many sublists where each sublist is of length size \"n\"."
   ]
  },
  {
   "cell_type": "code",
   "execution_count": 9,
   "id": "8489af2c",
   "metadata": {},
   "outputs": [],
   "source": [
    "def chunk_list(lst, n):\n",
    "    list_1 = []\n",
    "    for i in range(0, len(lst), n):\n",
    "        list_1.append(lst[i:i+n])\n",
    "    return list_1\n"
   ]
  },
  {
   "cell_type": "code",
   "execution_count": 10,
   "id": "c5fe48ef",
   "metadata": {},
   "outputs": [
    {
     "data": {
      "text/plain": [
       "[[1, 2], [3, 4]]"
      ]
     },
     "execution_count": 10,
     "metadata": {},
     "output_type": "execute_result"
    }
   ],
   "source": [
    "chunk_list([1, 2, 3, 4], 2)"
   ]
  },
  {
   "cell_type": "code",
   "execution_count": 11,
   "id": "6aeef455",
   "metadata": {},
   "outputs": [
    {
     "data": {
      "text/plain": [
       "[[1, 2, 3], [4, 5, 6], [7]]"
      ]
     },
     "execution_count": 11,
     "metadata": {},
     "output_type": "execute_result"
    }
   ],
   "source": [
    "chunk_list([1, 2, 3, 4,5,6,7], 3)"
   ]
  },
  {
   "cell_type": "markdown",
   "id": "1cf8c610",
   "metadata": {},
   "source": [
    "21. Create a function that outputs the results of a flashcard. A flashcard is a list of three elements: a number, an operator symbol, and another number. Return the mathematical result of that expression.\n",
    "\n",
    "    There are 4 operators: + (addition), - (subtraction), x (multiplication), and / (division). If the flashcard displays a number being divided by zero, e.g. [3, \"/\", 0], then return None. For division, round to the hundredths place. So [10, \"/\", 3] should return 3.33."
   ]
  },
  {
   "cell_type": "code",
   "execution_count": 12,
   "id": "72a7230c",
   "metadata": {},
   "outputs": [],
   "source": [
    "def flashcard_result(flashcard):\n",
    "    num1, operator, num2 = flashcard\n",
    "\n",
    "    if operator == \"+\":\n",
    "        result = num1 + num2\n",
    "    elif operator == \"-\":\n",
    "        result = num1 - num2\n",
    "    elif operator == \"x\":\n",
    "        result = num1 * num2\n",
    "    elif operator == \"/\":\n",
    "        if num2 == 0:\n",
    "            return None\n",
    "        result = round(num1 / num2, 2)\n",
    "    else:\n",
    "        return None\n",
    "\n",
    "    return result\n"
   ]
  },
  {
   "cell_type": "code",
   "execution_count": 13,
   "id": "72b77028",
   "metadata": {},
   "outputs": [
    {
     "data": {
      "text/plain": [
       "21"
      ]
     },
     "execution_count": 13,
     "metadata": {},
     "output_type": "execute_result"
    }
   ],
   "source": [
    "flashcard_result([3, \"x\", 7])"
   ]
  },
  {
   "cell_type": "markdown",
   "id": "74115881",
   "metadata": {},
   "source": [
    "22. A standard-sized golf course has 18 holes. Each hole is given a par, which is the expected number of strokes (hits) that a good player would use to complete a hole. Golf also uses different terms for a player being over/under par for a particular hole:\n",
    "\n",
    "\"eagle\" = 2 under par (-2)\n",
    "\"birdie\" = 1 under par (-1)\n",
    "\"bogey\" = 1 over par (+1)\n",
    "\"double-bogey\" = 2 over par (+2)"
   ]
  },
  {
   "cell_type": "code",
   "execution_count": 25,
   "id": "7f045ecd",
   "metadata": {},
   "outputs": [],
   "source": [
    "def calculate_total_score(pars, results):\n",
    "    term_points = {\n",
    "        \"eagle\": -2,\n",
    "        \"birdie\": -1,\n",
    "        \"par\": 0,\n",
    "        \"bogey\": 1,\n",
    "        \"double-bogey\": 2\n",
    "    }\n",
    "\n",
    "    total_score = 0\n",
    "\n",
    "    for i in range(len(pars)):\n",
    "        par = pars[i]\n",
    "        result = results[i]\n",
    "        score = par + term_points[result]\n",
    "        total_score += score\n",
    "\n",
    "    return total_score\n"
   ]
  },
  {
   "cell_type": "code",
   "execution_count": 27,
   "id": "cf2452a0",
   "metadata": {},
   "outputs": [
    {
     "name": "stdout",
     "output_type": "stream",
     "text": [
      "73\n"
     ]
    }
   ],
   "source": [
    "course = [4, 4, 5, 3, 4, 4, 3, 5, 5, 3, 5, 4, 4, 4, 4, 3, 4, 4]\n",
    "result = [\"eagle\", \"bogey\", \"par\", \"bogey\", \"double-bogey\", \"birdie\", \"bogey\", \"par\", \"birdie\", \"par\", \"par\", \"par\", \"par\", \"par\", \"bogey\", \"eagle\", \"bogey\", \"par\"]\n",
    "\n",
    "total_score = calculate_total_score(course, result)\n",
    "print(total_score)\n"
   ]
  },
  {
   "cell_type": "markdown",
   "id": "eb87e552",
   "metadata": {},
   "source": [
    "23. Create a function that takes an integer list and return the biggest between positive sum, negative sum, or 0s count. The major is understood as the greatest absolute.\n",
    "\n",
    "    l = [1,2,3,4,0,0,-3,-2], the function has to return 10, because:\n",
    "\n",
    "    Positive sum = 1+2+3+4 = 10\n",
    "    Negative sum = (-3)+(-2) = -5\n",
    "    0s count = 2 (there are two zeros in list)"
   ]
  },
  {
   "cell_type": "code",
   "execution_count": 28,
   "id": "0dfaea73",
   "metadata": {},
   "outputs": [],
   "source": [
    "def major_sum(lst):\n",
    "    positive_sum = 0\n",
    "    negative_sum = 0\n",
    "    zero_count = 0\n",
    "\n",
    "    for num in lst:\n",
    "        if num > 0:\n",
    "            positive_sum += num\n",
    "        elif num < 0:\n",
    "            negative_sum += num\n",
    "        else:\n",
    "            zero_count += 1\n",
    "\n",
    "    if positive_sum >negative_sum and positive_sum > zero_count:\n",
    "        return positive_sum\n",
    "    elif negative_sum > zero_count:\n",
    "        return negative_sum\n",
    "    else:\n",
    "        return zero_count\n"
   ]
  },
  {
   "cell_type": "code",
   "execution_count": 29,
   "id": "0a98539f",
   "metadata": {},
   "outputs": [
    {
     "data": {
      "text/plain": [
       "10"
      ]
     },
     "execution_count": 29,
     "metadata": {},
     "output_type": "execute_result"
    }
   ],
   "source": [
    "major_sum([1, 2, 3, 4, 0, 0, -3, -2])"
   ]
  },
  {
   "cell_type": "markdown",
   "id": "a5910084",
   "metadata": {},
   "source": [
    "24. A number num, that elevated to the power of another number k \"ends\" with the same num, it's automorphic.\n",
    "\n",
    "   5² = 25\n",
    "    # It's automorphic because \"25\" ends with \"5\"\n",
    "\n",
    "    5³  = 125\n",
    "     # It's automorphic because \"125\" ends with \"5\"\n",
    "\n",
    "    76⁴ = 33362176\n",
    "     # It's automorphic because \"33362176\" ends with \"76\"\n",
    "    A number can have various powers that make it automorphic (i.e. look at number 5 in the above example). In this challenge, you have to verify if the given number is automorphic for each power from 2 up to 10.\n",
    "\n",
    "    Given a non-negative integer num, implement a function that returns the string:\n",
    "\n",
    "    \"Polymorphic\" if num is automorphic for every power from 2 up to 10.\n",
    "    \"Quadrimorphic\" if num is automorphic for only four powers (any from 2 up to 10).\n",
    "    \"Dimorphic\" if num is automorphic for only two powers (any from 2 up to 10).\n",
    "    \"Enamorphic\" if num is automorphic for only one power (any from 2 up to 10).\n",
    "    \"Amorphic\" if num is not automorphic for for any powers from 2 up to 10."
   ]
  },
  {
   "cell_type": "code",
   "execution_count": 30,
   "id": "9dfdb091",
   "metadata": {},
   "outputs": [],
   "source": [
    "def automorphic_classification(num):\n",
    "    automorphic_counts = 0\n",
    "\n",
    "    for power in range(2, 11):\n",
    "        result = num ** power\n",
    "        if str(result)[-len(str(num)):] == str(num):\n",
    "            automorphic_counts += 1\n",
    "\n",
    "    if automorphic_counts == 9:\n",
    "        return \"Polymorphic\"\n",
    "    elif automorphic_counts == 4:\n",
    "        return \"Quadrimorphic\"\n",
    "    elif automorphic_counts == 2:\n",
    "        return \"Dimorphic\"\n",
    "    elif automorphic_counts == 1:\n",
    "        return \"Enamorphic\"\n",
    "    else:\n",
    "        return \"Amorphic\"\n"
   ]
  },
  {
   "cell_type": "code",
   "execution_count": 31,
   "id": "53b02c2a",
   "metadata": {},
   "outputs": [
    {
     "data": {
      "text/plain": [
       "'Polymorphic'"
      ]
     },
     "execution_count": 31,
     "metadata": {},
     "output_type": "execute_result"
    }
   ],
   "source": [
    "automorphic_classification(5)"
   ]
  },
  {
   "cell_type": "markdown",
   "id": "bd998e75",
   "metadata": {},
   "source": [
    "25. Graded lexicographic order (grlex order for short) is a way of ordering words that:\n",
    "\n",
    "    First orders words by length. Then orders words of the same size by their dictionary order. For example, in grlex order:\n",
    "\n",
    "    \"tray\" < \"trapped\" since \"tray\" has length 4 while \"trapped\" has length 7. \"trap\" < \"tray\" since both have length 4, but \"trap\" comes before \"tray\" in the dictionary. Given a list of words, return that list in grlex order."
   ]
  },
  {
   "cell_type": "code",
   "execution_count": 32,
   "id": "9bd1820c",
   "metadata": {},
   "outputs": [],
   "source": [
    "def grlex_sort(words):\n",
    "    return sorted(words, key=grlex_key)\n",
    "\n",
    "def grlex_key(word):\n",
    "    return (len(word), word)\n"
   ]
  },
  {
   "cell_type": "code",
   "execution_count": 33,
   "id": "990b1d21",
   "metadata": {},
   "outputs": [
    {
     "data": {
      "text/plain": [
       "['big', 'small']"
      ]
     },
     "execution_count": 33,
     "metadata": {},
     "output_type": "execute_result"
    }
   ],
   "source": [
    "grlex_sort([\"small\", \"big\"])"
   ]
  },
  {
   "cell_type": "markdown",
   "id": "2732ee6a",
   "metadata": {},
   "source": [
    "26. The anti-divisors are numbers that do not divide a given number by the largest possible margin, and they can be found following a simple set of rules:\n",
    "\n",
    "    Every number greater than 1 and lower than n is checked. Every checked number must not be a divisor of n. If the checked number is odd and it is a divisor of n * 2 - 1 or n * 2 + 1 it's an anti-divisor. If the checked number is even and it is a divisor of n * 2, it's an anti-divisor. Given an integer n, implement a function that returns a list containing the anti-divisors of n sorted in ascending order."
   ]
  },
  {
   "cell_type": "code",
   "execution_count": 3,
   "id": "44882bc4",
   "metadata": {},
   "outputs": [],
   "source": [
    "def find_anti_divisors(n):\n",
    "    anti_divisors = []\n",
    "    \n",
    "    for num in range(2, n):\n",
    "        if n % num != 0:\n",
    "            if num % 2 == 1 and (num in {n * 2 - 1, n * 2 + 1}):\n",
    "                anti_divisors.append(num)\n",
    "            elif num % 2 == 0 and (num in {n * 2}):\n",
    "                anti_divisors.append(num)\n",
    "    \n",
    "    return sorted(anti_divisors)\n"
   ]
  },
  {
   "cell_type": "code",
   "execution_count": null,
   "id": "a794ac92",
   "metadata": {},
   "outputs": [],
   "source": []
  },
  {
   "cell_type": "markdown",
   "id": "34f43748",
   "metadata": {},
   "source": [
    "27. Create a function that takes a list consisting of dice rolls from 1-6. Return the sum of your rolls with the following conditions:\n",
    "\n",
    "If a 1 is rolled, that is bad luck. The next roll counts as 0. If a 6 is rolled, that is good luck. The next roll is multiplied by 2. The list length will always be 3 or higher. "
   ]
  },
  {
   "cell_type": "code",
   "execution_count": 11,
   "id": "825ad09d",
   "metadata": {},
   "outputs": [],
   "source": [
    "def calculate_dice_sum(rolls):\n",
    "    total = 0\n",
    "    multiplier = 1\n",
    "\n",
    "    for i in range(len(rolls)):\n",
    "        if rolls[i] == 1:\n",
    "            multiplier = 0\n",
    "        total += rolls[i] * multiplier\n",
    "        if rolls[i] == 6:\n",
    "            multiplier = 2\n",
    "        else:\n",
    "            multiplier = 1\n",
    "\n",
    "    return total\n"
   ]
  },
  {
   "cell_type": "code",
   "execution_count": 15,
   "id": "585b3ce2",
   "metadata": {},
   "outputs": [
    {
     "data": {
      "text/plain": [
       "6"
      ]
     },
     "execution_count": 15,
     "metadata": {},
     "output_type": "execute_result"
    }
   ],
   "source": [
    "calculate_dice_sum([6,1,1])"
   ]
  },
  {
   "cell_type": "code",
   "execution_count": 16,
   "id": "88ba5268",
   "metadata": {},
   "outputs": [
    {
     "data": {
      "text/plain": [
       "17"
      ]
     },
     "execution_count": 16,
     "metadata": {},
     "output_type": "execute_result"
    }
   ],
   "source": [
    "calculate_dice_sum([2,6,2,5])"
   ]
  },
  {
   "cell_type": "markdown",
   "id": "8255a8d4",
   "metadata": {},
   "source": [
    "28. Write a function that takes a list and determines whether it's strictly increasing, strictly decreasing, or neither.\n",
    "\n",
    "     Examples check([1, 2, 3]) ➞ \"increasing\"\n",
    "\n",
    "     check([3, 2, 1]) ➞ \"decreasing\"\n",
    "\n",
    "     check([1, 2, 1]) ➞ \"neither\"\n",
    "\n",
    "     check([1, 1, 2]) ➞ \"neither\" Notes The last example does NOT count as strictly increasing, since 1-indexed 1 is not strictly greater than the 0-indexed 1. Input lists have a minimum length of 2."
   ]
  },
  {
   "cell_type": "code",
   "execution_count": 1,
   "id": "eb9c62ac",
   "metadata": {},
   "outputs": [],
   "source": [
    "def check(lst):\n",
    "    increasing = True\n",
    "    decreasing = True\n",
    "    \n",
    "    for i in range(len(lst) - 1):\n",
    "        if lst[i] >= lst[i + 1]:\n",
    "            increasing = False\n",
    "        if lst[i] <= lst[i + 1]:\n",
    "            decreasing = False\n",
    "            \n",
    "    if increasing:\n",
    "        return \"increasing\"\n",
    "    elif decreasing:\n",
    "        return \"decreasing\"\n",
    "    else:\n",
    "        return \"neither\"\n"
   ]
  },
  {
   "cell_type": "code",
   "execution_count": 2,
   "id": "951e7b61",
   "metadata": {},
   "outputs": [
    {
     "data": {
      "text/plain": [
       "'increasing'"
      ]
     },
     "execution_count": 2,
     "metadata": {},
     "output_type": "execute_result"
    }
   ],
   "source": [
    "check([1, 2, 3])"
   ]
  },
  {
   "cell_type": "code",
   "execution_count": 3,
   "id": "fb8be1cb",
   "metadata": {},
   "outputs": [
    {
     "data": {
      "text/plain": [
       "'decreasing'"
      ]
     },
     "execution_count": 3,
     "metadata": {},
     "output_type": "execute_result"
    }
   ],
   "source": [
    "check([3, 2, 1])"
   ]
  },
  {
   "cell_type": "code",
   "execution_count": 4,
   "id": "f11870bb",
   "metadata": {},
   "outputs": [
    {
     "data": {
      "text/plain": [
       "'neither'"
      ]
     },
     "execution_count": 4,
     "metadata": {},
     "output_type": "execute_result"
    }
   ],
   "source": [
    "check([1, 2, 1]) "
   ]
  },
  {
   "cell_type": "markdown",
   "id": "3760af87",
   "metadata": {},
   "source": [
    "29.A positive number's population is the sum of 1's in its binary representation.\n",
    "\n",
    "An evil number has an even numbered population. An odious number has an odd numbered population. A number is pernicious if its population is a prime number. \n",
    "\n",
    "Create a function that takes a number as an argument and returns a sorted list of all its descriptors (\"Evil\", \"Odious\", or \"Pernicious\")."
   ]
  },
  {
   "cell_type": "code",
   "execution_count": 6,
   "id": "913ec983",
   "metadata": {},
   "outputs": [],
   "source": [
    "def number_descriptors(num):\n",
    "    population = bin(num).count('1')\n",
    "    descriptors = []\n",
    "\n",
    "    for descriptor, check_func in [(\"Evil\", lambda x: x % 2 == 0),\n",
    "                                   (\"Odious\", lambda x: x % 2 != 0),\n",
    "                                   (\"Pernicious\", lambda x: is_prime(x))]:\n",
    "        if check_func(population):\n",
    "            descriptors.append(descriptor)\n",
    "\n",
    "    return sorted(descriptors)\n",
    "\n",
    "\n",
    "def is_prime(num):\n",
    "    if num < 2:\n",
    "        return False\n",
    "    for i in range(2, int(num ** 0.5) + 1):\n",
    "        if num % i == 0:\n",
    "            return False\n",
    "    return True\n"
   ]
  },
  {
   "cell_type": "code",
   "execution_count": 7,
   "id": "e8ed8698",
   "metadata": {},
   "outputs": [
    {
     "data": {
      "text/plain": [
       "['Evil', 'Pernicious']"
      ]
     },
     "execution_count": 7,
     "metadata": {},
     "output_type": "execute_result"
    }
   ],
   "source": [
    "number_descriptors(17)"
   ]
  },
  {
   "cell_type": "code",
   "execution_count": 8,
   "id": "15af8c52",
   "metadata": {},
   "outputs": [
    {
     "data": {
      "text/plain": [
       "['Evil']"
      ]
     },
     "execution_count": 8,
     "metadata": {},
     "output_type": "execute_result"
    }
   ],
   "source": [
    "number_descriptors(23)"
   ]
  },
  {
   "cell_type": "markdown",
   "id": "9372398a",
   "metadata": {},
   "source": [
    "30. Mubashir is not so good with the English language. He needs your help to correct his sentences.\n",
    "\n",
    "Start each sentence with an uppercase alphabet. For every uppercase letter (other than the first alphabet), you have to place a fullstop(.) followed by an empty space. There must be only one space between the words and sentences. Sentence must end with a full stop(.) Two continuous spaces are not allowed. correct_sentences (\" mubashir loves edabit Matt loves edabit \") ➞ \"Mubashir loves edabit. Matt loves edabit.\""
   ]
  },
  {
   "cell_type": "code",
   "execution_count": 14,
   "id": "183bd6ee",
   "metadata": {},
   "outputs": [],
   "source": [
    "def correct_sentences(sentence):\n",
    "    words = sentence.strip().split()\n",
    "    corrected = []\n",
    "    \n",
    "    for i, word in enumerate(words):\n",
    "        word = word.capitalize()\n",
    "        if i != 0 and word.isalpha() and word[0].isupper():\n",
    "            corrected.append(\".\")\n",
    "        corrected.append(word)\n",
    "    \n",
    "    return ' '.join(corrected) \n",
    "\n",
    "\n",
    "\n"
   ]
  },
  {
   "cell_type": "code",
   "execution_count": 15,
   "id": "1a1dcc90",
   "metadata": {},
   "outputs": [
    {
     "data": {
      "text/plain": [
       "'Mubashir . Loves . Edabit . Matt . Loves . Edabit'"
      ]
     },
     "execution_count": 15,
     "metadata": {},
     "output_type": "execute_result"
    }
   ],
   "source": [
    "correct_sentences(\" mubashir loves edabit Matt loves edabit \")"
   ]
  },
  {
   "cell_type": "markdown",
   "id": "e8d21fb2",
   "metadata": {},
   "source": [
    "31. Given a sentence, create a function that replaces every \"a\" as an article with \"an absolute\". It should return the same string without any change if it doesn't have any \"a\".\n",
    "\n",
    "    Examples absolute(\"I am a champion!!!\") ➞ \"I am an absolute champion!!!\"\n",
    "\n",
    "    absolute(\"Such an amazing bowler.\") ➞ \"Such an amazing bowler.\"\n",
    "\n",
    "    absolute(\"A man with no haters.\") ➞ \"An absolute man with no haters.\" Notes Watch for uppercase letters as shown in example #3."
   ]
  },
  {
   "cell_type": "code",
   "execution_count": 16,
   "id": "79e909f6",
   "metadata": {},
   "outputs": [],
   "source": [
    "def absolute(sentence):\n",
    "    words = sentence.split()\n",
    "    modified_words = []\n",
    "    \n",
    "    for word in words:\n",
    "        if word.lower() == 'a':\n",
    "            modified_words.append('an absolute')\n",
    "        else:\n",
    "            modified_words.append(word)\n",
    "    \n",
    "    modified_sentence = ' '.join(modified_words)\n",
    "    return modified_sentence\n"
   ]
  },
  {
   "cell_type": "code",
   "execution_count": 17,
   "id": "095f510f",
   "metadata": {},
   "outputs": [
    {
     "data": {
      "text/plain": [
       "'I am an absolute champion'"
      ]
     },
     "execution_count": 17,
     "metadata": {},
     "output_type": "execute_result"
    }
   ],
   "source": [
    "absolute(\"I am a champion\")"
   ]
  },
  {
   "cell_type": "markdown",
   "id": "c6c6e86d",
   "metadata": {},
   "source": [
    "    32. It's a Pokemon battle! Your task is to calculate the damage that a particular move would do using the following formula (not the actual one from the game):\n",
    "\n",
    "    damage = 50 * (attack / defense) * effectiveness attack = your attack power defense = the opponent's defense effectiveness = the effectiveness of the attack based on the matchup (see explanation below) Effectiveness:\n",
    "\n",
    "    Attacks can be super effective, neutral, or not very effective depending on the matchup. For example, water would be super effective against fire, but not very effective against grass.\n",
    "\n",
    "    Super effective: 2x damage Neutral: 1x damage Not very effective: 0.5x damage To prevent this challenge from being tedious, you'll only be dealing with four types: fire, water, grass, and electric. Here is the effectiveness of each matchup:\n",
    "\n",
    "    fire > grass fire < water fire = electric water < grass water < electric grass = electric The function you must implement takes in:\n",
    "\n",
    "    your type the opponent's type your attack power the opponent's defense Examples calculate_damage(\"fire\", \"water\", 100, 100) ➞ 25\n",
    "\n",
    "    calculate_damage(\"grass\", \"fire\", 35, 5) ➞ 175\n",
    "\n",
    "    calculate_damage(\"electric\", \"fire\", 100, 100) ➞ 50 Notes Any type against itself is not very effective. Also, assume that the relationships between different types are symmetric (if A is super effective against B, then B is not very effective against A)."
   ]
  },
  {
   "cell_type": "code",
   "execution_count": 18,
   "id": "fca55ba5",
   "metadata": {},
   "outputs": [],
   "source": [
    "def calculate_damage(your_type, opponent_type, attack_power, defense):\n",
    "    type_matchups = {\n",
    "        \"fire\": {\"grass\": 2.0, \"water\": 0.5, \"electric\": 1.0},\n",
    "        \"water\": {\"grass\": 0.5, \"fire\": 2.0, \"electric\": 0.5},\n",
    "        \"grass\": {\"fire\": 0.5, \"water\": 2.0, \"electric\": 1.0},\n",
    "        \"electric\": {\"fire\": 1.0, \"water\": 2.0, \"grass\": 1.0}\n",
    "    }\n",
    "\n",
    "    effectiveness = 1.0\n",
    "\n",
    "    if opponent_type in type_matchups.get(your_type, {}):\n",
    "        effectiveness = type_matchups[your_type][opponent_type]\n",
    "\n",
    "    damage = 50 * (attack_power / defense) * effectiveness\n",
    "    return int(damage)\n"
   ]
  },
  {
   "cell_type": "code",
   "execution_count": 19,
   "id": "3967c85a",
   "metadata": {},
   "outputs": [
    {
     "data": {
      "text/plain": [
       "175"
      ]
     },
     "execution_count": 19,
     "metadata": {},
     "output_type": "execute_result"
    }
   ],
   "source": [
    "calculate_damage(\"grass\", \"fire\", 35, 5) "
   ]
  },
  {
   "cell_type": "markdown",
   "id": "a52a442f",
   "metadata": {},
   "source": [
    "    33. Create a function that takes a list of card numbers and checks if the sum of their value exceeds 21. If the sum exceeds 21, return True and if the sum is under or equal to 21, return False. Values of the cards are as follows:\n",
    "\n",
    "    2-10 are their value. J-K (face cards) count as 10. Aces count either as 1 or 11 - play conservatively, so that if giving an ace a value of 11 causes you to lose and 1 allows you to win, then go with 1. Examples over_twenty_one([2, 8, \"J\"]) ➞ False\n",
    "\n",
    "    over_twenty_one([\"A\", \"J\", \"K\"]) ➞ False\n",
    "\n",
    "    over_twenty_one([5, 5, 3, 9]) ➞ True\n",
    "\n",
    "    over_twenty_one([2, 6, 4, 4, 5]) ➞ False\n",
    "\n",
    "    over_twenty_one([\"J\", \"Q\", \"K\"]) ➞ True Notes There will be a maximum of one ace in each hand."
   ]
  },
  {
   "cell_type": "code",
   "execution_count": 20,
   "id": "0f78419f",
   "metadata": {},
   "outputs": [],
   "source": [
    "def over_twenty_one(cards):\n",
    "    card_values = {\"A\": 1,\"J\": 10,\"Q\": 10,\"K\": 10}\n",
    "\n",
    "    total_sum = 0\n",
    "    ace_present = False\n",
    "\n",
    "    for card in cards:\n",
    "        if card == \"A\":\n",
    "            ace_present = True\n",
    "        card_value = card_values.get(card, card)\n",
    "        total_sum += card_value\n",
    "\n",
    "    if ace_present and total_sum <= 11:\n",
    "        total_sum += 10\n",
    "\n",
    "    return total_sum > 21\n"
   ]
  },
  {
   "cell_type": "code",
   "execution_count": 21,
   "id": "e10ec861",
   "metadata": {},
   "outputs": [
    {
     "data": {
      "text/plain": [
       "False"
      ]
     },
     "execution_count": 21,
     "metadata": {},
     "output_type": "execute_result"
    }
   ],
   "source": [
    "over_twenty_one([\"A\", \"J\", \"K\"])"
   ]
  },
  {
   "cell_type": "code",
   "execution_count": 22,
   "id": "f5b5b195",
   "metadata": {},
   "outputs": [
    {
     "data": {
      "text/plain": [
       "True"
      ]
     },
     "execution_count": 22,
     "metadata": {},
     "output_type": "execute_result"
    }
   ],
   "source": [
    "over_twenty_one([5, 5, 3, 9])"
   ]
  },
  {
   "cell_type": "markdown",
   "id": "9a80e20f",
   "metadata": {},
   "source": [
    "    34.  Create a function that alternates the case of the letters in a string (known as Spongecase).\n",
    "\n",
    "    Examples alternating_caps(\"Hello\") ➞ \"HeLlO\"\n",
    "\n",
    "    alternating_caps(\"How are you?\") ➞ \"HoW aRe YoU?\"\n",
    "\n",
    "    alternating_caps(\"OMG this website is awesome!\") ➞ \"OmG tHiS wEbSiTe Is AwEsOmE!\" Notes The first letter should always be UPPERCASE. Ignore spaces."
   ]
  },
  {
   "cell_type": "code",
   "execution_count": 23,
   "id": "b8eb6416",
   "metadata": {},
   "outputs": [],
   "source": [
    "def alternating_caps(string):\n",
    "    spongecase = \"\"\n",
    "    upper_case = True\n",
    "\n",
    "    for char in string:\n",
    "        if char.isalpha():\n",
    "            if upper_case:\n",
    "                spongecase += char.upper()\n",
    "            else:\n",
    "                spongecase += char.lower()\n",
    "            upper_case = not upper_case\n",
    "        else:\n",
    "            spongecase += char\n",
    "\n",
    "    return spongecase\n"
   ]
  },
  {
   "cell_type": "code",
   "execution_count": 24,
   "id": "43e68842",
   "metadata": {},
   "outputs": [
    {
     "data": {
      "text/plain": [
       "'HeLlO'"
      ]
     },
     "execution_count": 24,
     "metadata": {},
     "output_type": "execute_result"
    }
   ],
   "source": [
    "alternating_caps(\"Hello\")"
   ]
  },
  {
   "cell_type": "code",
   "execution_count": 25,
   "id": "821d93e8",
   "metadata": {},
   "outputs": [
    {
     "data": {
      "text/plain": [
       "'HoW aRe YoU?'"
      ]
     },
     "execution_count": 25,
     "metadata": {},
     "output_type": "execute_result"
    }
   ],
   "source": [
    "alternating_caps(\"How are you?\")"
   ]
  },
  {
   "cell_type": "markdown",
   "id": "fd583f4e",
   "metadata": {},
   "source": [
    "    35.  Write the function that takes three dimensions of a brick: height(a), width(b) and depth(c) and returns True if this brick can fit into a hole with the width(w) and height(h).\n",
    "\n",
    "    Examples does_brick_fit(1, 1, 1, 1, 1) ➞ True\n",
    "\n",
    "    does_brick_fit(1, 2, 1, 1, 1) ➞ True\n",
    "\n",
    "    does_brick_fit(1, 2, 2, 1, 1) ➞ False Notes You can turn the brick with any side towards the hole. We assume that the brick fits if its sizes equal the ones of the hole (i.e. brick size should be less than or equal to the size of the hole, not strictly less). You can't put a brick in at a non-orthogonal angle.A"
   ]
  },
  {
   "cell_type": "code",
   "execution_count": 26,
   "id": "cd004c5e",
   "metadata": {},
   "outputs": [],
   "source": [
    "def does_brick_fit(a, b, c, w, h):\n",
    "    if (a <= w and b <= h) or (a <= h and b <= w) or (a <= w and c <= h) or (a <= h and c <= w) or (b <= w and c <= h) or (b <= h and c <= w):\n",
    "        return True\n",
    "    else:\n",
    "        return False\n"
   ]
  },
  {
   "cell_type": "code",
   "execution_count": 27,
   "id": "e49e0e4a",
   "metadata": {},
   "outputs": [
    {
     "data": {
      "text/plain": [
       "True"
      ]
     },
     "execution_count": 27,
     "metadata": {},
     "output_type": "execute_result"
    }
   ],
   "source": [
    "does_brick_fit(1, 1, 1, 1, 1)"
   ]
  },
  {
   "cell_type": "code",
   "execution_count": 28,
   "id": "d6c92496",
   "metadata": {},
   "outputs": [
    {
     "data": {
      "text/plain": [
       "False"
      ]
     },
     "execution_count": 28,
     "metadata": {},
     "output_type": "execute_result"
    }
   ],
   "source": [
    "does_brick_fit(1, 2, 2, 1, 1)"
   ]
  },
  {
   "cell_type": "markdown",
   "id": "c016bcb8",
   "metadata": {},
   "source": [
    "    36. Mubashir was testing how atoms can react in their ionic state during nuclear fusion. He observed that atoms can introduce different elements with Hydrogen at high temperatures and inside a pressurized chamber. During his experiment, elements started precipitating inside the chamber. Help him find the total number of molecules of Water H2O, Carbon Dioxide CO2 and Methane CH4 generated during this process.\n",
    "\n",
    "    Given the number of atoms of carbon, hydrogen and oxygen, calculate the molecules in the following order:\n",
    "\n",
    "    Hydrogen reacts with Oxygen = H2O\n",
    "    Carbon reacts with Oxygen = CO2\n",
    "    Carbon reacts with Hydrogen = CH4\n",
    "    Examples chemical_reactions(45, 11, 100) ➞ [5, 45, 0]"
   ]
  },
  {
   "cell_type": "code",
   "execution_count": 29,
   "id": "fd7e0ec9",
   "metadata": {},
   "outputs": [],
   "source": [
    "def chemical_reactions(carbon_atoms, hydrogen_atoms, oxygen_atoms):\n",
    "    water_molecules = min(hydrogen_atoms // 2, oxygen_atoms)\n",
    "    hydrogen_atoms -= water_molecules * 2\n",
    "    oxygen_atoms -= water_molecules\n",
    "\n",
    "    carbon_dioxide_molecules = min(carbon_atoms, oxygen_atoms // 2)\n",
    "    carbon_atoms -= carbon_dioxide_molecules\n",
    "    oxygen_atoms -= carbon_dioxide_molecules * 2\n",
    "\n",
    "    methane_molecules = min(carbon_atoms, hydrogen_atoms // 4)\n",
    "\n",
    "    return [water_molecules, carbon_dioxide_molecules, methane_molecules]\n"
   ]
  },
  {
   "cell_type": "code",
   "execution_count": 30,
   "id": "4592ba07",
   "metadata": {},
   "outputs": [
    {
     "data": {
      "text/plain": [
       "[5, 45, 0]"
      ]
     },
     "execution_count": 30,
     "metadata": {},
     "output_type": "execute_result"
    }
   ],
   "source": [
    "chemical_reactions(45, 11, 100)"
   ]
  },
  {
   "cell_type": "markdown",
   "id": "ff0a2acf",
   "metadata": {},
   "source": [
    "    37. Create a function which replaces all the x's in the string in the following ways:\n",
    "\n",
    "    Replace all x's with \"cks\" UNLESS:\n",
    "\n",
    "    The word begins with \"x\", therefore replace it with \"z\". The word is just the letter \"x\", therefore replace it with \"ecks\". Examples x_pronounce(\"Inside the box was a xylophone\") ➞ \"Inside the bocks was a zylophone\"\n",
    "\n",
    "    x_pronounce(\"The x ray is excellent\") ➞ \"The ecks ray is eckscellent\"\n",
    "\n",
    "    x_pronounce(\"OMG x box unboxing video x D\") ➞ \"OMG ecks bocks unbocksing video ecks D\" Notes All x's are lowercase. I know that not all words with x's follow this rule, but there are too many edge cases to count!"
   ]
  },
  {
   "cell_type": "code",
   "execution_count": 33,
   "id": "9c347ec9",
   "metadata": {},
   "outputs": [],
   "source": [
    "def x_pronounce(string):\n",
    "    words = string.split()\n",
    "    processed_words = []\n",
    "\n",
    "    i = 0\n",
    "    while i < len(words):\n",
    "        word = words[i]\n",
    "        if word == 'x':\n",
    "            processed_words.append('ecks')\n",
    "        elif word.startswith('x'):\n",
    "            processed_words.append('z' + word[1:])\n",
    "        else:\n",
    "            processed_words.append(word.replace('x', 'cks'))\n",
    "        i += 1\n",
    "\n",
    "    return ' '.join(processed_words)\n"
   ]
  },
  {
   "cell_type": "code",
   "execution_count": 34,
   "id": "03c3ac59",
   "metadata": {},
   "outputs": [
    {
     "data": {
      "text/plain": [
       "'The ecks ray is eckscellent'"
      ]
     },
     "execution_count": 34,
     "metadata": {},
     "output_type": "execute_result"
    }
   ],
   "source": [
    "x_pronounce(\"The x ray is excellent\")"
   ]
  },
  {
   "cell_type": "markdown",
   "id": "ae01db73",
   "metadata": {},
   "source": [
    "    38. Try to imagine a world in which you might have to stay home for 14 days at any given time. Do you have enough TP to make it through?\n",
    "\n",
    "    Although the number of squares per roll of TP varies significantly, we'll assume each roll has 500 sheets, and the average person uses 57 sheets per day.\n",
    "\n",
    "    Create a function that will receive a dictionary with two key/values:\n",
    "\n",
    "    \"people\" ⁠— Number of people in the household. \"tp\" ⁠— Number of rolls. Return a statement telling the user if they need to buy more TP!\n",
    "\n",
    "    Examples tp_checker({ \"people\": 4, \"tp\": 1 }) ➞ \"Your TP will only last 2 days, buy more!\"\n",
    "\n",
    "    tp_checker({ \"people\": 3, \"tp\": 20 }) ➞ \"Your TP will last 58 days, no need to panic!\"\n",
    "\n",
    "    tp_checker({ \"people\": 4, \"tp\": 12 }) ➞ \"Your TP will last 26 days, no need to panic!\" Notes Stay safe, and happy coding!"
   ]
  },
  {
   "cell_type": "code",
   "execution_count": 35,
   "id": "ed1a824e",
   "metadata": {},
   "outputs": [],
   "source": [
    "def tp_checker(data):\n",
    "    people = data[\"people\"]\n",
    "    tp = data[\"tp\"]\n",
    "\n",
    "    sheets_per_roll = 500\n",
    "    sheets_per_day = 57\n",
    "\n",
    "    total_sheets = tp * sheets_per_roll\n",
    "    days = total_sheets // (people * sheets_per_day)\n",
    "\n",
    "    if days >= 14:\n",
    "        return \"Your TP will last {} days, no need to panic!\".format(days)\n",
    "    else:\n",
    "        return \"Your TP will only last {} days, buy more!\".format(days)\n"
   ]
  },
  {
   "cell_type": "code",
   "execution_count": 36,
   "id": "3cd595bb",
   "metadata": {},
   "outputs": [
    {
     "data": {
      "text/plain": [
       "'Your TP will only last 2 days, buy more!'"
      ]
     },
     "execution_count": 36,
     "metadata": {},
     "output_type": "execute_result"
    }
   ],
   "source": [
    "tp_checker({ \"people\": 4, \"tp\": 1 })"
   ]
  },
  {
   "cell_type": "markdown",
   "id": "2cd14938",
   "metadata": {},
   "source": [
    "    39. Write a function that takes a number and returns the perimeter of either a circle or a square. The input will be in the form (letter l, number num) where the letter will be either \"s\" for square, or \"c\" for circle, and the number will be the side of the square or the radius of the circle.\n",
    "\n",
    "    Use the following formulas:\n",
    "\n",
    "    Perimeter of a square: 4 * side. Perimeter of a circle: 6.28 * radius. The catch is you can only use arithmetic or comparison operators, which means:\n",
    "\n",
    "    No if... else statements. No dictionaries. No lambdas. No formatting methods, etc. The goal is to write a short, branch-free piece of code.\n",
    "\n",
    "    Examples perimeter(\"s\", 7) ➞ 28\n",
    "\n",
    "    perimeter(\"c\", 4) ➞ 25.12\n",
    "\n",
    "    perimeter(\"c\", 9) ➞ 56.52 Notes No rounding is needed. Hint: The Boolean True, used with arithmetic operators, counts as 1, while False counts as 0. That means (a>b)+1 will return 1 or 2, depending on the values of a and b."
   ]
  },
  {
   "cell_type": "code",
   "execution_count": 37,
   "id": "88fde887",
   "metadata": {},
   "outputs": [],
   "source": [
    "def perimeter(l, num):\n",
    "    perimeter = 0\n",
    "\n",
    "    for x in range(num):\n",
    "        perimeter += (l == \"c\") * 6.28 + (l == \"s\") * 4\n",
    "\n",
    "    return perimeter\n"
   ]
  },
  {
   "cell_type": "code",
   "execution_count": 38,
   "id": "08d5cc5e",
   "metadata": {},
   "outputs": [
    {
     "data": {
      "text/plain": [
       "28.0"
      ]
     },
     "execution_count": 38,
     "metadata": {},
     "output_type": "execute_result"
    }
   ],
   "source": [
    "perimeter(\"s\", 7)"
   ]
  },
  {
   "cell_type": "code",
   "execution_count": 39,
   "id": "611ce92c",
   "metadata": {},
   "outputs": [
    {
     "data": {
      "text/plain": [
       "25.12"
      ]
     },
     "execution_count": 39,
     "metadata": {},
     "output_type": "execute_result"
    }
   ],
   "source": [
    "perimeter(\"c\", 4)"
   ]
  },
  {
   "cell_type": "markdown",
   "id": "b258ad69",
   "metadata": {},
   "source": [
    "    40. Given a positive number x:\n",
    "\n",
    "    p = (p1, p2, …)\n",
    "\n",
    "    Set of prime factors of x\n",
    "    If the square of every item in p is also a factor of x, then x is said to be a powerful number.\n",
    "\n",
    "    Create a function that takes a number and returns True if it's powerful, False if it's not.\n",
    "\n",
    "    Examples is_powerful(36) ➞ True\n",
    "\n",
    "    p = (2, 3) (prime factors of 36)\n",
    "    2^2 = 4 (factor of 36)\n",
    "    3^2 = 9 (factor of 36)\n",
    "    is_powerful(27) ➞ True\n",
    "\n",
    "    is_powerful(674) ➞ False Notes N/A"
   ]
  },
  {
   "cell_type": "code",
   "execution_count": 40,
   "id": "219bd394",
   "metadata": {},
   "outputs": [],
   "source": [
    "import math\n",
    "\n",
    "def is_powerful(x):\n",
    "    prime_factors = set()\n",
    "    sqrt_x = int(math.sqrt(x))\n",
    "\n",
    "    while x % 2 == 0:\n",
    "        prime_factors.add(2)\n",
    "        x //= 2\n",
    "\n",
    "    for i in range(3, sqrt_x + 1, 2):\n",
    "        while x % i == 0:\n",
    "            prime_factors.add(i)\n",
    "            x //= i\n",
    "\n",
    "    if x > 2:\n",
    "        prime_factors.add(x)\n",
    "\n",
    "   \n",
    "    for factor in prime_factors:\n",
    "        if x % (factor ** 2) != 0:\n",
    "            return False\n",
    "\n",
    "    return True\n"
   ]
  },
  {
   "cell_type": "code",
   "execution_count": 43,
   "id": "8662cdf2",
   "metadata": {},
   "outputs": [
    {
     "data": {
      "text/plain": [
       "False"
      ]
     },
     "execution_count": 43,
     "metadata": {},
     "output_type": "execute_result"
    }
   ],
   "source": [
    "is_powerful(27)"
   ]
  },
  {
   "cell_type": "markdown",
   "id": "4279f90f",
   "metadata": {},
   "source": [
    "41. There has been a masterdata issue which affected the prices of the products. Check if each product has a valid price (integer or float, and greater than or equal to zero). Products with a price of 0 are free and count as a valid price.\n",
    "\n",
    "The return value should be a Boolean."
   ]
  },
  {
   "cell_type": "code",
   "execution_count": 47,
   "id": "ea566d11",
   "metadata": {},
   "outputs": [],
   "source": [
    "def validate_prices(products):\n",
    "    for product, price in products.items():\n",
    "        if not isinstance(price, (int, float)) or price < 0:\n",
    "            return False\n",
    "    return True\n"
   ]
  },
  {
   "cell_type": "code",
   "execution_count": 48,
   "id": "7462fad3",
   "metadata": {},
   "outputs": [
    {
     "data": {
      "text/plain": [
       "False"
      ]
     },
     "execution_count": 48,
     "metadata": {},
     "output_type": "execute_result"
    }
   ],
   "source": [
    "validate_prices({ \"product\": \"Milk\", \"price\": 1.50 })"
   ]
  },
  {
   "cell_type": "markdown",
   "id": "33a512b6",
   "metadata": {},
   "source": [
    "# control Flow (Medium)"
   ]
  },
  {
   "cell_type": "markdown",
   "id": "3cbd0a8c",
   "metadata": {},
   "source": [
    "    1.  Create a function that performs an even-odd transform to a list, n times. Each even-odd transformation:\n",
    "\n",
    "    Adds two (+2) to each odd integer.\n",
    "    Subtracts two (-2) from each even integer."
   ]
  },
  {
   "cell_type": "code",
   "execution_count": 49,
   "id": "63e3effd",
   "metadata": {},
   "outputs": [],
   "source": [
    "def even_odd_transform(lst, n):\n",
    "    transformed_lst = lst.copy()  # Create a copy of the original list to avoid modifying it\n",
    "\n",
    "    for x in range(n):\n",
    "        for i in range(len(transformed_lst)):\n",
    "            if transformed_lst[i] % 2 == 0:\n",
    "                transformed_lst[i] -= 2\n",
    "            else:\n",
    "                transformed_lst[i] += 2\n",
    "\n",
    "    return transformed_lst\n"
   ]
  },
  {
   "cell_type": "code",
   "execution_count": 50,
   "id": "0af66ac8",
   "metadata": {},
   "outputs": [
    {
     "data": {
      "text/plain": [
       "[9, -2, 15]"
      ]
     },
     "execution_count": 50,
     "metadata": {},
     "output_type": "execute_result"
    }
   ],
   "source": [
    "even_odd_transform([3, 4, 9], 3) \n",
    "\n"
   ]
  },
  {
   "cell_type": "markdown",
   "id": "9f2571a8",
   "metadata": {},
   "source": [
    "    2.  A Collatz sequence is generated like this. Start with a positive number. If it's even, halve it. If it's odd, multiply it by three and add one. Repeat the process with the resulting number. The Collatz Conjecture is that every sequence eventually reaches 1 (continuing past 1 just results in an endless repeat of the sequence 4, 2, 1).\n",
    "\n",
    "    The length of the sequence from starting number to 1 varies widely.\n",
    "\n",
    "    Create a function that takes a number as an argument and returns a tuple of two elements — the number of steps in the Collatz sequence of the number, and the highest number reached."
   ]
  },
  {
   "cell_type": "code",
   "execution_count": 52,
   "id": "fd8a7c7b",
   "metadata": {},
   "outputs": [],
   "source": [
    "def collatz_sequence(n):\n",
    "    steps = 0\n",
    "    highest_number = n\n",
    "\n",
    "    for x in range(1, n+1):\n",
    "        if n % 2 == 0:\n",
    "            n = n // 2\n",
    "        else:\n",
    "            n = (n * 3) + 1\n",
    "        \n",
    "        steps += 1\n",
    "        highest_number = max(highest_number, n)\n",
    "        \n",
    "        if n == 1:\n",
    "            break\n",
    "\n",
    "    return steps, highest_number\n"
   ]
  },
  {
   "cell_type": "code",
   "execution_count": 53,
   "id": "0bcca23b",
   "metadata": {},
   "outputs": [
    {
     "data": {
      "text/plain": [
       "(1, 2)"
      ]
     },
     "execution_count": 53,
     "metadata": {},
     "output_type": "execute_result"
    }
   ],
   "source": [
    "collatz_sequence(2)"
   ]
  },
  {
   "cell_type": "code",
   "execution_count": 54,
   "id": "f449d50e",
   "metadata": {},
   "outputs": [
    {
     "data": {
      "text/plain": [
       "(3, 16)"
      ]
     },
     "execution_count": 54,
     "metadata": {},
     "output_type": "execute_result"
    }
   ],
   "source": [
    "collatz_sequence(3)"
   ]
  },
  {
   "cell_type": "markdown",
   "id": "6b244685",
   "metadata": {},
   "source": [
    "3. Given a number n, return a sentence which describes the number in the following ways.\n",
    "\n",
    "    Always start the string with \"The most\".\n",
    "    If n is evenly divisible by 1, add \"brilliant\" to the sentence.\n",
    "    If n is evenly divisible by 2, add \"exciting\" to the sentence.\n",
    "    ... 3, add \"fantastic\" to the sentence.\n",
    "    ... 4, add \"virtuous\" to the sentence.\n",
    "    ... 5, add \"heart-warming\" ...\n",
    "    ... 6, add \"tear-jerking\" ...\n",
    "    ... 7, add \"beautiful\" ...\n",
    "    ... 8, add \"exhilarating\" ...\n",
    "    ... 9, add \"emotional\" ...\n",
    "    If n is evenly divisible by 10, add inspiring to the sentence.\n",
    "    Always end the string with \"number is\" n!"
   ]
  },
  {
   "cell_type": "code",
   "execution_count": 55,
   "id": "9806f827",
   "metadata": {},
   "outputs": [],
   "source": [
    "def describe_number(n):\n",
    "    descriptors = {\n",
    "        1: \"brilliant\",\n",
    "        2: \"exciting\",\n",
    "        3: \"fantastic\",\n",
    "        4: \"virtuous\",\n",
    "        5: \"heart-warming\",\n",
    "        6: \"tear-jerking\",\n",
    "        7: \"beautiful\",\n",
    "        8: \"exhilarating\",\n",
    "        9: \"emotional\"\n",
    "    }\n",
    "    \n",
    "    sentence = \"The most\"\n",
    "    \n",
    "    for i in range(1, 11):\n",
    "        if n % i == 0:\n",
    "            sentence += \" \" + descriptors.get(i, \"\")\n",
    "    \n",
    "    sentence += \" number is \" + str(n) + \"!\"\n",
    "    \n",
    "    return sentence\n"
   ]
  },
  {
   "cell_type": "code",
   "execution_count": 56,
   "id": "7a9081f8",
   "metadata": {},
   "outputs": [
    {
     "data": {
      "text/plain": [
       "'The most brilliant number is 13!'"
      ]
     },
     "execution_count": 56,
     "metadata": {},
     "output_type": "execute_result"
    }
   ],
   "source": [
    "describe_number(13)"
   ]
  },
  {
   "cell_type": "markdown",
   "id": "6c3b2f1a",
   "metadata": {},
   "source": [
    "4. Write a function that takes a list and determines whether it's strictly increasing, strictly decreasing, or neither.\n",
    "\n",
    "    Examples check([1, 2, 3]) ➞ \"increasing\"\n",
    "\n",
    "    check([3, 2, 1]) ➞ \"decreasing\"\n",
    "\n",
    "    check([1, 2, 1]) ➞ \"neither\"\n",
    "\n",
    "    check([1, 1, 2]) ➞ \"neither\" Notes The last example does NOT count as strictly increasing, since 1-indexed 1 is not strictly greater than the 0-indexed 1. Input lists have a minimum length of 2.\n"
   ]
  },
  {
   "cell_type": "code",
   "execution_count": 57,
   "id": "fe0f232a",
   "metadata": {},
   "outputs": [],
   "source": [
    "def check(lst):\n",
    "    increasing = True\n",
    "    decreasing = True\n",
    "    \n",
    "    for i in range(len(lst) - 1):\n",
    "        if lst[i] >= lst[i + 1]:\n",
    "            increasing = False\n",
    "        if lst[i] <= lst[i + 1]:\n",
    "            decreasing = False\n",
    "            \n",
    "    if increasing:\n",
    "        return \"increasing\"\n",
    "    elif decreasing:\n",
    "        return \"decreasing\"\n",
    "    else:\n",
    "        return \"neither\""
   ]
  },
  {
   "cell_type": "code",
   "execution_count": 58,
   "id": "be1d1a44",
   "metadata": {},
   "outputs": [
    {
     "data": {
      "text/plain": [
       "'increasing'"
      ]
     },
     "execution_count": 58,
     "metadata": {},
     "output_type": "execute_result"
    }
   ],
   "source": [
    "check([1, 2, 3]) "
   ]
  },
  {
   "cell_type": "code",
   "execution_count": 59,
   "id": "c7e3ff79",
   "metadata": {},
   "outputs": [
    {
     "data": {
      "text/plain": [
       "'decreasing'"
      ]
     },
     "execution_count": 59,
     "metadata": {},
     "output_type": "execute_result"
    }
   ],
   "source": [
    "check([3, 2, 1])"
   ]
  },
  {
   "cell_type": "code",
   "execution_count": 61,
   "id": "01dc01cd",
   "metadata": {},
   "outputs": [
    {
     "data": {
      "text/plain": [
       "'neither'"
      ]
     },
     "execution_count": 61,
     "metadata": {},
     "output_type": "execute_result"
    }
   ],
   "source": [
    "check([1, 1, 2])"
   ]
  },
  {
   "cell_type": "markdown",
   "id": "c172edac",
   "metadata": {},
   "source": [
    "5. Suppose you are directionally challenged, and get lost easily. As a result, sometimes you walk in circles or make U-turns. You might take a sub-optimal route. Create a function that returns the difference in length between your path and the optimal path. Both paths reach the same destination.\n",
    "\n",
    "    You start at (0,0) and reach your destination by the end of the input list."
   ]
  },
  {
   "cell_type": "code",
   "execution_count": 67,
   "id": "75073971",
   "metadata": {},
   "outputs": [],
   "source": [
    "def route_diff(path):\n",
    "    opposite_directions = {\"N\": \"S\", \"S\": \"N\", \"E\": \"W\", \"W\": \"E\"}\n",
    "    remaining_path = []\n",
    "\n",
    "    for direction in path:\n",
    "        if remaining_path and remaining_path[-1] == opposite_directions[direction]:\n",
    "            remaining_path.pop()\n",
    "        else:\n",
    "            remaining_path.append(direction)\n",
    "\n",
    "    return abs(len(path) - len(remaining_path))\n"
   ]
  },
  {
   "cell_type": "code",
   "execution_count": 70,
   "id": "d08f5b28",
   "metadata": {},
   "outputs": [
    {
     "data": {
      "text/plain": [
       "0"
      ]
     },
     "execution_count": 70,
     "metadata": {},
     "output_type": "execute_result"
    }
   ],
   "source": [
    "route_diff([\"N\", \"E\",\"S\", \"W\"])"
   ]
  },
  {
   "cell_type": "markdown",
   "id": "f569e114",
   "metadata": {},
   "source": [
    "6. Abigail and Benson are playing Rock, Paper, Scissors.\n",
    "\n",
    "    Each game is represented by an array of length 2, where the first element represents what Abigail played and the second element represents what Benson played.\n",
    "\n",
    "    Given a sequence of games, determine who wins the most number of matches. If they tie, output \"Tie\".\n",
    "\n",
    "    R stands for Rock\n",
    "    P stands for Paper\n",
    "    S stands for Scissors"
   ]
  },
  {
   "cell_type": "code",
   "execution_count": 71,
   "id": "18317415",
   "metadata": {},
   "outputs": [],
   "source": [
    "def determine_winner(games):\n",
    "    abigail_wins = 0\n",
    "    benson_wins = 0\n",
    "    ties = 0\n",
    "\n",
    "    i = 0\n",
    "    while i < len(games):\n",
    "        abigail_play = games[i][0]\n",
    "        benson_play = games[i][1]\n",
    "\n",
    "        if abigail_play == benson_play:\n",
    "            ties += 1\n",
    "        elif (\n",
    "            (abigail_play == 'R' and benson_play == 'S') or\n",
    "            (abigail_play == 'P' and benson_play == 'R') or\n",
    "            (abigail_play == 'S' and benson_play == 'P')\n",
    "        ):\n",
    "            abigail_wins += 1\n",
    "        else:\n",
    "            benson_wins += 1\n",
    "\n",
    "        i += 1\n",
    "\n",
    "    if abigail_wins > benson_wins:\n",
    "        return \"Abigail wins\"\n",
    "    elif benson_wins > abigail_wins:\n",
    "        return \"Benson wins\"\n",
    "    else:\n",
    "        return \"Tie\"\n"
   ]
  },
  {
   "cell_type": "code",
   "execution_count": 72,
   "id": "bdac745b",
   "metadata": {},
   "outputs": [
    {
     "data": {
      "text/plain": [
       "'Abigail wins'"
      ]
     },
     "execution_count": 72,
     "metadata": {},
     "output_type": "execute_result"
    }
   ],
   "source": [
    "determine_winner([[\"R\", \"P\"], [\"R\", \"S\"], [\"S\", \"P\"]])"
   ]
  },
  {
   "cell_type": "code",
   "execution_count": 74,
   "id": "264a672a",
   "metadata": {},
   "outputs": [
    {
     "data": {
      "text/plain": [
       "'Tie'"
      ]
     },
     "execution_count": 74,
     "metadata": {},
     "output_type": "execute_result"
    }
   ],
   "source": [
    "determine_winner([[\"R\", \"R\"], [\"S\", \"S\"]])"
   ]
  },
  {
   "cell_type": "markdown",
   "id": "bef2cfee",
   "metadata": {},
   "source": [
    "7. There has been a masterdata issue which affected the prices of the products. Check if each product has a valid price (integer or float, and greater than or equal to zero). Products with a price of 0 are free and count as a valid price.\n",
    "     The return value should be a Boolean."
   ]
  },
  {
   "cell_type": "code",
   "execution_count": 75,
   "id": "bc3f011d",
   "metadata": {},
   "outputs": [],
   "source": [
    "def validate_prices(products):\n",
    "    for product, price in products.items():\n",
    "        if not isinstance(price, (int, float)) or price < 0:\n",
    "            return False\n",
    "    return True\n"
   ]
  },
  {
   "cell_type": "code",
   "execution_count": 76,
   "id": "b455a4ae",
   "metadata": {},
   "outputs": [
    {
     "data": {
      "text/plain": [
       "False"
      ]
     },
     "execution_count": 76,
     "metadata": {},
     "output_type": "execute_result"
    }
   ],
   "source": [
    "validate_prices({ \"product\": \"Milk\", \"price\": 1.50 })"
   ]
  },
  {
   "cell_type": "markdown",
   "id": "4c245474",
   "metadata": {},
   "source": [
    "8. In chess, queens can move any number of squares horizontally, vertically or diagonally.\n",
    "\n",
    "   Given the location of your queen and your opponents' queen, determine whether or not you're able to capture your opponent's queen. Your location and your opponents' location are the first and second elements of the list, respectively."
   ]
  },
  {
   "cell_type": "code",
   "execution_count": 3,
   "id": "62adde6d",
   "metadata": {},
   "outputs": [],
   "source": [
    "def can_capture(queens):\n",
    "    your_queen = queens[0]\n",
    "    opponent_queen = queens[1]\n",
    "\n",
    "    if your_queen[0] == opponent_queen[0] or your_queen[1] == opponent_queen[1] or abs(ord(your_queen[0]) - ord(opponent_queen[0])) == abs(int(your_queen[1]) - int(opponent_queen[1])):\n",
    "        return True\n",
    "    else:\n",
    "        return False"
   ]
  },
  {
   "cell_type": "code",
   "execution_count": 4,
   "id": "987bf782",
   "metadata": {},
   "outputs": [
    {
     "data": {
      "text/plain": [
       "True"
      ]
     },
     "execution_count": 4,
     "metadata": {},
     "output_type": "execute_result"
    }
   ],
   "source": [
    "can_capture([\"A1\", \"H8\"]) "
   ]
  },
  {
   "cell_type": "markdown",
   "id": "49b7709a",
   "metadata": {},
   "source": [
    "9.Create a function that converts Celsius to Fahrenheit and vice versa."
   ]
  },
  {
   "cell_type": "code",
   "execution_count": 5,
   "id": "e9ebeb26",
   "metadata": {},
   "outputs": [],
   "source": [
    "def convert(temperature):\n",
    "    scale = temperature[-2:]\n",
    "    value = temperature[:-2]\n",
    "    if scale == \"*C\":\n",
    "        try:\n",
    "            celsius = int(value)\n",
    "            fahrenheit = round((celsius * 9/5) + 32)\n",
    "            return str(fahrenheit) + \"*F\"\n",
    "        except ValueError:\n",
    "            return \"Error\"\n",
    "    elif scale == \"*F\":\n",
    "        try:\n",
    "            fahrenheit = int(value)\n",
    "            celsius = round((fahrenheit - 32) * 5/9)\n",
    "            return str(celsius) + \"*C\"\n",
    "        except ValueError:\n",
    "            return \"Error\"\n",
    "    else:\n",
    "        return \"Error\"\n"
   ]
  },
  {
   "cell_type": "code",
   "execution_count": 6,
   "id": "f79085c4",
   "metadata": {},
   "outputs": [
    {
     "data": {
      "text/plain": [
       "'95*F'"
      ]
     },
     "execution_count": 6,
     "metadata": {},
     "output_type": "execute_result"
    }
   ],
   "source": [
    "convert(\"35*C\") "
   ]
  },
  {
   "cell_type": "markdown",
   "id": "c8660e80",
   "metadata": {},
   "source": [
    "10. Create a function that takes an integer and returns it as an ordinal number. An Ordinal Number is a number that tells the position of something in a list, such as 1st, 2nd, 3rd, 4th, 5th, etc."
   ]
  },
  {
   "cell_type": "code",
   "execution_count": 7,
   "id": "c7cb3433",
   "metadata": {},
   "outputs": [],
   "source": [
    "def get_ordinal_number(number):\n",
    "    suffix = \"\"\n",
    "    if number % 100 in (11, 12, 13):\n",
    "        suffix = \"th\"\n",
    "    else:\n",
    "        last_digit = number % 10\n",
    "        if last_digit == 1:\n",
    "            suffix = \"st\"\n",
    "        elif last_digit == 2:\n",
    "            suffix = \"nd\"\n",
    "        elif last_digit == 3:\n",
    "            suffix = \"rd\"\n",
    "        else:\n",
    "            suffix = \"th\"\n",
    "    return str(number) + suffix\n"
   ]
  },
  {
   "cell_type": "code",
   "execution_count": 8,
   "id": "da215cba",
   "metadata": {},
   "outputs": [
    {
     "data": {
      "text/plain": [
       "'553rd'"
      ]
     },
     "execution_count": 8,
     "metadata": {},
     "output_type": "execute_result"
    }
   ],
   "source": [
    "get_ordinal_number(553)"
   ]
  },
  {
   "cell_type": "markdown",
   "id": "feae6c67",
   "metadata": {},
   "source": [
    "11.Create a function that finds the reverse complement of a ribonucleic acid (RNA) strand. The RNA will be represented as a string containing only the characters \"A\", \"C\", \"G\" and \"U\". Since RNA can only (canonically) allow pairings of A/U and G/C, the complement of an RNA would be as follows:\n",
    "\n",
    "    Original\tComplement\n",
    "    \"AAA\"\t\"UUU\"\n",
    "    \"UUU\"\t\"AAA\"\n",
    "    \"GGG\"\t\"CCC\"\n",
    "    \"CCC\"\t\"GGG\"\n",
    "    Your function should find the complement on the right AND also reverse the resulting string."
   ]
  },
  {
   "cell_type": "code",
   "execution_count": 9,
   "id": "6e7810c4",
   "metadata": {},
   "outputs": [],
   "source": [
    "def reverse_complement(rna):\n",
    "    complement = {'A': 'U', 'U': 'A', 'G': 'C', 'C': 'G'}\n",
    "    reverse_complement = ''.join(complement[base] for base in reversed(rna))\n",
    "    return reverse_complement\n"
   ]
  },
  {
   "cell_type": "code",
   "execution_count": 10,
   "id": "d75567df",
   "metadata": {},
   "outputs": [
    {
     "data": {
      "text/plain": [
       "'ACAC'"
      ]
     },
     "execution_count": 10,
     "metadata": {},
     "output_type": "execute_result"
    }
   ],
   "source": [
    "reverse_complement(\"GUGU\")"
   ]
  },
  {
   "cell_type": "code",
   "execution_count": null,
   "id": "9daf3488",
   "metadata": {},
   "outputs": [],
   "source": []
  }
 ],
 "metadata": {
  "kernelspec": {
   "display_name": "Python 3 (ipykernel)",
   "language": "python",
   "name": "python3"
  },
  "language_info": {
   "codemirror_mode": {
    "name": "ipython",
    "version": 3
   },
   "file_extension": ".py",
   "mimetype": "text/x-python",
   "name": "python",
   "nbconvert_exporter": "python",
   "pygments_lexer": "ipython3",
   "version": "3.10.9"
  }
 },
 "nbformat": 4,
 "nbformat_minor": 5
}
