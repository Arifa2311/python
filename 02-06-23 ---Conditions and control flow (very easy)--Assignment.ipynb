{
 "cells": [
  {
   "cell_type": "code",
   "execution_count": 1,
   "id": "fd1d58f6",
   "metadata": {},
   "outputs": [],
   "source": [
    "#1 Create a function that takes a boolean variable flag and returns it as a string.\n",
    "\n",
    "\n",
    "\n",
    "def bool_to_string(flag):\n",
    "    if flag==False:\n",
    "        return \"False\"\n",
    "    elif flag==True:\n",
    "        return \"True\"\n",
    "    else:\n",
    "        return none"
   ]
  },
  {
   "cell_type": "code",
   "execution_count": 3,
   "id": "2f9a121b",
   "metadata": {},
   "outputs": [
    {
     "data": {
      "text/plain": [
       "'True'"
      ]
     },
     "execution_count": 3,
     "metadata": {},
     "output_type": "execute_result"
    }
   ],
   "source": [
    "bool_to_string(True)"
   ]
  },
  {
   "cell_type": "code",
   "execution_count": 4,
   "id": "c963c7a3",
   "metadata": {},
   "outputs": [
    {
     "data": {
      "text/plain": [
       "'False'"
      ]
     },
     "execution_count": 4,
     "metadata": {},
     "output_type": "execute_result"
    }
   ],
   "source": [
    "bool_to_string(False)"
   ]
  },
  {
   "cell_type": "code",
   "execution_count": 5,
   "id": "8c2e22c6",
   "metadata": {},
   "outputs": [],
   "source": [
    "#2 Create a function that returns True when num1 is equal to num2; otherwise return False.\n",
    "\n",
    "def is_same(num1,num2):\n",
    "    if num1==num2:\n",
    "        return True\n",
    "    else:\n",
    "        return  False"
   ]
  },
  {
   "cell_type": "code",
   "execution_count": 6,
   "id": "9fd51767",
   "metadata": {},
   "outputs": [
    {
     "data": {
      "text/plain": [
       "False"
      ]
     },
     "execution_count": 6,
     "metadata": {},
     "output_type": "execute_result"
    }
   ],
   "source": [
    "is_same(1,2)"
   ]
  },
  {
   "cell_type": "code",
   "execution_count": 8,
   "id": "e1ddd285",
   "metadata": {},
   "outputs": [
    {
     "data": {
      "text/plain": [
       "True"
      ]
     },
     "execution_count": 8,
     "metadata": {},
     "output_type": "execute_result"
    }
   ],
   "source": [
    "is_same(2,2)"
   ]
  },
  {
   "cell_type": "code",
   "execution_count": 10,
   "id": "8de8a031",
   "metadata": {},
   "outputs": [],
   "source": [
    "#3 Create a function that takes a number as its only argument and returns True \n",
    "#if it's less than or equal to zero, otherwise return False.\n",
    "\n",
    "\n",
    "\n",
    "\n",
    "\n",
    "\n",
    "def is_equal(num1):\n",
    "    if num1<=0:\n",
    "        return True\n",
    "    else:\n",
    "        return False"
   ]
  },
  {
   "cell_type": "code",
   "execution_count": 11,
   "id": "e0d9dfcd",
   "metadata": {},
   "outputs": [
    {
     "data": {
      "text/plain": [
       "False"
      ]
     },
     "execution_count": 11,
     "metadata": {},
     "output_type": "execute_result"
    }
   ],
   "source": [
    "is_equal(1)"
   ]
  },
  {
   "cell_type": "code",
   "execution_count": 12,
   "id": "2bda5c00",
   "metadata": {},
   "outputs": [
    {
     "data": {
      "text/plain": [
       "True"
      ]
     },
     "execution_count": 12,
     "metadata": {},
     "output_type": "execute_result"
    }
   ],
   "source": [
    "is_equal(0)"
   ]
  },
  {
   "cell_type": "code",
   "execution_count": 13,
   "id": "e2af491a",
   "metadata": {},
   "outputs": [],
   "source": [
    "#4 Emmy has written a function that returns a greeting to users.\n",
    "#However, she's in love with Mubashir, and would like to greet him slightly differently.\n",
    "#She added a special case in her function, but she made a mistake.\n",
    "#Can you help her?\n",
    "\n",
    "\n",
    "\n",
    "def greeting(var):\n",
    "    if var==\"mubashir\":\n",
    "        return\"Hello, My Love!\"\n",
    "    else:\n",
    "        return \"Hello\",var"
   ]
  },
  {
   "cell_type": "code",
   "execution_count": 14,
   "id": "b56e4a63",
   "metadata": {},
   "outputs": [
    {
     "data": {
      "text/plain": [
       "('Hello', 'mati')"
      ]
     },
     "execution_count": 14,
     "metadata": {},
     "output_type": "execute_result"
    }
   ],
   "source": [
    "greeting(\"mati\")"
   ]
  },
  {
   "cell_type": "code",
   "execution_count": 16,
   "id": "0e44f504",
   "metadata": {},
   "outputs": [
    {
     "data": {
      "text/plain": [
       "'Hello, My Love!'"
      ]
     },
     "execution_count": 16,
     "metadata": {},
     "output_type": "execute_result"
    }
   ],
   "source": [
    "greeting(\"mubashir\")"
   ]
  },
  {
   "cell_type": "code",
   "execution_count": 20,
   "id": "e189ce57",
   "metadata": {},
   "outputs": [],
   "source": [
    "#5 Create a function that takes two arguments. Both arguments are integers, a and b. Return True if one of them is 10 or if their sum is 10.\n",
    "\n",
    "def if_sum(a,b):\n",
    "    if a==10 or b==10 or a+b==10:\n",
    "        return True\n",
    "    else:\n",
    "        return False"
   ]
  },
  {
   "cell_type": "code",
   "execution_count": 21,
   "id": "23cd2d98",
   "metadata": {},
   "outputs": [
    {
     "data": {
      "text/plain": [
       "False"
      ]
     },
     "execution_count": 21,
     "metadata": {},
     "output_type": "execute_result"
    }
   ],
   "source": [
    "if_sum(2,3)"
   ]
  },
  {
   "cell_type": "code",
   "execution_count": 22,
   "id": "ff4ebf3d",
   "metadata": {},
   "outputs": [
    {
     "data": {
      "text/plain": [
       "True"
      ]
     },
     "execution_count": 22,
     "metadata": {},
     "output_type": "execute_result"
    }
   ],
   "source": [
    "if_sum(5,5)"
   ]
  },
  {
   "cell_type": "code",
   "execution_count": 23,
   "id": "982608f1",
   "metadata": {},
   "outputs": [],
   "source": [
    "#6 Create a function that takes three arguments prob, prize, pay and returns True if prob * prize > pay; otherwise return False.\n",
    "\n",
    "def ppp(prob, prize, pay):\n",
    "    if prob * prize > pay:\n",
    "        return True\n",
    "    else:\n",
    "        return False"
   ]
  },
  {
   "cell_type": "code",
   "execution_count": 24,
   "id": "352f1d83",
   "metadata": {},
   "outputs": [
    {
     "data": {
      "text/plain": [
       "True"
      ]
     },
     "execution_count": 24,
     "metadata": {},
     "output_type": "execute_result"
    }
   ],
   "source": [
    "ppp(2,3,4)"
   ]
  },
  {
   "cell_type": "code",
   "execution_count": 25,
   "id": "3d8fff78",
   "metadata": {},
   "outputs": [
    {
     "data": {
      "text/plain": [
       "False"
      ]
     },
     "execution_count": 25,
     "metadata": {},
     "output_type": "execute_result"
    }
   ],
   "source": [
    "ppp(1,2,5)"
   ]
  },
  {
   "cell_type": "code",
   "execution_count": 26,
   "id": "dd50ba1d",
   "metadata": {},
   "outputs": [],
   "source": [
    "#7 Create a function that takes an integer and returns True if it's divisible by 100, otherwise return False.\n",
    "\n",
    "def div(num1):\n",
    "    if num1%100==0:\n",
    "        return True\n",
    "    else:\n",
    "        return False"
   ]
  },
  {
   "cell_type": "code",
   "execution_count": 27,
   "id": "0c02a9af",
   "metadata": {},
   "outputs": [
    {
     "data": {
      "text/plain": [
       "True"
      ]
     },
     "execution_count": 27,
     "metadata": {},
     "output_type": "execute_result"
    }
   ],
   "source": [
    "div(100)"
   ]
  },
  {
   "cell_type": "code",
   "execution_count": 28,
   "id": "ded129b2",
   "metadata": {},
   "outputs": [
    {
     "data": {
      "text/plain": [
       "True"
      ]
     },
     "execution_count": 28,
     "metadata": {},
     "output_type": "execute_result"
    }
   ],
   "source": [
    "div(1000)"
   ]
  },
  {
   "cell_type": "code",
   "execution_count": 29,
   "id": "15d4e1d0",
   "metadata": {},
   "outputs": [],
   "source": [
    "#8  Create a function that takes two strings as arguments and return either True or False depending on whether the \n",
    "# total number of characters in the first string is equal to the total number of characters in the second string.\n",
    "\n",
    "def equal_string(a,b):\n",
    "    if len(a)==len(b):\n",
    "        return True\n",
    "    else:\n",
    "        return False"
   ]
  },
  {
   "cell_type": "code",
   "execution_count": 30,
   "id": "739c40be",
   "metadata": {},
   "outputs": [
    {
     "data": {
      "text/plain": [
       "False"
      ]
     },
     "execution_count": 30,
     "metadata": {},
     "output_type": "execute_result"
    }
   ],
   "source": [
    "equal_string(\"even\",\"odd\")"
   ]
  },
  {
   "cell_type": "code",
   "execution_count": 31,
   "id": "c61f7a88",
   "metadata": {},
   "outputs": [
    {
     "data": {
      "text/plain": [
       "True"
      ]
     },
     "execution_count": 31,
     "metadata": {},
     "output_type": "execute_result"
    }
   ],
   "source": [
    "equal_string(\"apples\",\"grapes\")"
   ]
  },
  {
   "cell_type": "code",
   "execution_count": 37,
   "id": "facbf780",
   "metadata": {},
   "outputs": [],
   "source": [
    "#9 Given a string, return True if its length is even or False if the length is odd.\n",
    "\n",
    "\n",
    "def even_len(a):\n",
    "    if len(a)%2==0:\n",
    "        return True\n",
    "    else:\n",
    "        return False"
   ]
  },
  {
   "cell_type": "code",
   "execution_count": 38,
   "id": "f4568848",
   "metadata": {},
   "outputs": [
    {
     "data": {
      "text/plain": [
       "True"
      ]
     },
     "execution_count": 38,
     "metadata": {},
     "output_type": "execute_result"
    }
   ],
   "source": [
    "even_len(\"even\")"
   ]
  },
  {
   "cell_type": "code",
   "execution_count": 39,
   "id": "07319a5e",
   "metadata": {},
   "outputs": [
    {
     "data": {
      "text/plain": [
       "False"
      ]
     },
     "execution_count": 39,
     "metadata": {},
     "output_type": "execute_result"
    }
   ],
   "source": [
    "even_len(\"odd\")"
   ]
  },
  {
   "cell_type": "code",
   "execution_count": 32,
   "id": "7bf2d965",
   "metadata": {},
   "outputs": [],
   "source": [
    "#10 Create a function that takes a string; we'll say that the front is the first three characters of the string. \n",
    "#If the string length is less than three characters, the front is whatever is there. \n",
    "#Return a new string, which is three copies of the front.\n",
    "\n",
    "\n",
    "def front_times(a):\n",
    "    if len(a)<3:\n",
    "        return a\n",
    "    else:\n",
    "        return a[:3]*3\n"
   ]
  },
  {
   "cell_type": "code",
   "execution_count": 33,
   "id": "46301c8a",
   "metadata": {},
   "outputs": [
    {
     "data": {
      "text/plain": [
       "'coccoccoc'"
      ]
     },
     "execution_count": 33,
     "metadata": {},
     "output_type": "execute_result"
    }
   ],
   "source": [
    "front_times(\"coco\")"
   ]
  },
  {
   "cell_type": "code",
   "execution_count": 34,
   "id": "c5163e02",
   "metadata": {},
   "outputs": [
    {
     "data": {
      "text/plain": [
       "'eyeeyeeye'"
      ]
     },
     "execution_count": 34,
     "metadata": {},
     "output_type": "execute_result"
    }
   ],
   "source": [
    "front_times(\"eye\")"
   ]
  },
  {
   "cell_type": "code",
   "execution_count": 44,
   "id": "67fdfb5c",
   "metadata": {},
   "outputs": [],
   "source": [
    "#11 Create a function that takes a number as an argument and returns \"even\" for even numbers and \"odd\" for odd numbers\n",
    "\n",
    "\n",
    "def even_odd_num(a):\n",
    "    if a%2==0:\n",
    "        return \"even\"\n",
    "    else:\n",
    "        return \"odd\""
   ]
  },
  {
   "cell_type": "code",
   "execution_count": 45,
   "id": "da293e4e",
   "metadata": {},
   "outputs": [
    {
     "data": {
      "text/plain": [
       "'odd'"
      ]
     },
     "execution_count": 45,
     "metadata": {},
     "output_type": "execute_result"
    }
   ],
   "source": [
    "even_odd_num(3)"
   ]
  },
  {
   "cell_type": "code",
   "execution_count": 46,
   "id": "be173767",
   "metadata": {},
   "outputs": [
    {
     "data": {
      "text/plain": [
       "'even'"
      ]
     },
     "execution_count": 46,
     "metadata": {},
     "output_type": "execute_result"
    }
   ],
   "source": [
    "even_odd_num(4)"
   ]
  },
  {
   "cell_type": "code",
   "execution_count": 51,
   "id": "3dc01d18",
   "metadata": {},
   "outputs": [],
   "source": [
    "#12 Create a function that takes in a word and determines whether or not it is plural. \n",
    "#A plural word is one that ends in \"s\".\n",
    "\n",
    "def singular_plural(a):\n",
    "    if a[-1]==\"s\" :\n",
    "        return \"plural\"\n",
    "    else:\n",
    "        return \"singular\""
   ]
  },
  {
   "cell_type": "code",
   "execution_count": 52,
   "id": "84e37f75",
   "metadata": {},
   "outputs": [
    {
     "data": {
      "text/plain": [
       "'plural'"
      ]
     },
     "execution_count": 52,
     "metadata": {},
     "output_type": "execute_result"
    }
   ],
   "source": [
    "singular_plural (\"apples\")"
   ]
  },
  {
   "cell_type": "code",
   "execution_count": 53,
   "id": "b5695e52",
   "metadata": {},
   "outputs": [
    {
     "data": {
      "text/plain": [
       "'singular'"
      ]
     },
     "execution_count": 53,
     "metadata": {},
     "output_type": "execute_result"
    }
   ],
   "source": [
    "singular_plural(\"apple\")"
   ]
  },
  {
   "cell_type": "code",
   "execution_count": 54,
   "id": "48578e6a",
   "metadata": {},
   "outputs": [],
   "source": [
    "#13 Create a function that takes a string (a random name). If the last character of the name is an \"n\", return True, \n",
    "#otherwise return False.\n",
    "\n",
    "def last_character(a):\n",
    "    if a[-1]==\"n\" :\n",
    "        return \"True\"\n",
    "    else:\n",
    "        return \"False\""
   ]
  },
  {
   "cell_type": "code",
   "execution_count": 55,
   "id": "41726487",
   "metadata": {},
   "outputs": [
    {
     "data": {
      "text/plain": [
       "'True'"
      ]
     },
     "execution_count": 55,
     "metadata": {},
     "output_type": "execute_result"
    }
   ],
   "source": [
    "last_character(\"pen\")"
   ]
  },
  {
   "cell_type": "code",
   "execution_count": 56,
   "id": "bfbc5eee",
   "metadata": {},
   "outputs": [
    {
     "data": {
      "text/plain": [
       "'False'"
      ]
     },
     "execution_count": 56,
     "metadata": {},
     "output_type": "execute_result"
    }
   ],
   "source": [
    "last_character(\"name\")"
   ]
  },
  {
   "cell_type": "code",
   "execution_count": 5,
   "id": "0964b4a4",
   "metadata": {},
   "outputs": [],
   "source": [
    "#14 The packaging system is running wild! The candy is lying loose all over in the warehouse, the cereal is missing, \n",
    "#and bread is stuffed in a bottle. What is going on here? The candy should be in plastic and the bread should be in a bag.\n",
    "#The packaging machine is running the get_container() function to retrieve the container of a product.\n",
    "#But something is not right...\n",
    "\n",
    "\n",
    "def get_container(product):\n",
    "    matches = {\"Bread\" : \"bottle\",\"Milk\" : \"bottle\",\"Beer\" : \"bottle\",\"Eggs\" : \"carton\",\"Cerials\" : \"box\",\"Candy\" : \"None\"}\n",
    "    return matches[product]"
   ]
  },
  {
   "cell_type": "code",
   "execution_count": 8,
   "id": "ed468904",
   "metadata": {},
   "outputs": [
    {
     "data": {
      "text/plain": [
       "'bottle'"
      ]
     },
     "execution_count": 8,
     "metadata": {},
     "output_type": "execute_result"
    }
   ],
   "source": [
    "get_container(\"Bread\")"
   ]
  },
  {
   "cell_type": "code",
   "execution_count": 11,
   "id": "aee10ada",
   "metadata": {},
   "outputs": [
    {
     "data": {
      "text/plain": [
       "'carton'"
      ]
     },
     "execution_count": 11,
     "metadata": {},
     "output_type": "execute_result"
    }
   ],
   "source": [
    "get_container(\"Eggs\")"
   ]
  },
  {
   "cell_type": "code",
   "execution_count": 12,
   "id": "31a95b21",
   "metadata": {},
   "outputs": [],
   "source": [
    "#15 Due to a programming concept known as truthiness, certain values can be evaluated to (i.e. take the place of) booleans. \n",
    "#For example, 1 (or any number other than 0) is often equivalent to True, and 0 is often equivalent to False.\n",
    "\n",
    "\n",
    "def flip_bool(value):\n",
    "    if value>=1:\n",
    "        return True\n",
    "    else:\n",
    "        return False"
   ]
  },
  {
   "cell_type": "code",
   "execution_count": 13,
   "id": "d4d68a30",
   "metadata": {},
   "outputs": [
    {
     "data": {
      "text/plain": [
       "True"
      ]
     },
     "execution_count": 13,
     "metadata": {},
     "output_type": "execute_result"
    }
   ],
   "source": [
    "flip_bool(1)"
   ]
  },
  {
   "cell_type": "code",
   "execution_count": 14,
   "id": "5e3ff7af",
   "metadata": {},
   "outputs": [
    {
     "data": {
      "text/plain": [
       "False"
      ]
     },
     "execution_count": 14,
     "metadata": {},
     "output_type": "execute_result"
    }
   ],
   "source": [
    "flip_bool(0)"
   ]
  },
  {
   "cell_type": "code",
   "execution_count": 15,
   "id": "a08044c7",
   "metadata": {},
   "outputs": [],
   "source": [
    "#16 Write a function that accepts base (decimal), height (decimal) and \n",
    "#shape (\"triangle\", \"parallelogram\") as input and calculates the area of that shape.\n",
    "\n",
    "def  shapes(base,height,shape=\"triangle\"or \"parallelogram\"):\n",
    "    if shapes==\"triangle\":\n",
    "        area_of_triangle=0.5*base*height\n",
    "        return area_of_triangle\n",
    "    else:\n",
    "        area_of_parallelogram=base*height\n",
    "        return area_of_parallelogram"
   ]
  },
  {
   "cell_type": "code",
   "execution_count": 16,
   "id": "fa839cb8",
   "metadata": {},
   "outputs": [
    {
     "data": {
      "text/plain": [
       "6"
      ]
     },
     "execution_count": 16,
     "metadata": {},
     "output_type": "execute_result"
    }
   ],
   "source": [
    "shapes(2,3,\"triangle\")"
   ]
  },
  {
   "cell_type": "code",
   "execution_count": 17,
   "id": "397779cb",
   "metadata": {},
   "outputs": [
    {
     "data": {
      "text/plain": [
       "20"
      ]
     },
     "execution_count": 17,
     "metadata": {},
     "output_type": "execute_result"
    }
   ],
   "source": [
    "shapes(4,5,\"parallelogram\")"
   ]
  },
  {
   "cell_type": "code",
   "execution_count": 18,
   "id": "5fa30196",
   "metadata": {},
   "outputs": [
    {
     "name": "stdout",
     "output_type": "stream",
     "text": [
      "type 1 or 0 :1\n",
      "type 1 or 0 :0\n",
      "AND gate output : 0\n",
      "OR agte output : 0\n",
      "NOT gate output : 0\n"
     ]
    }
   ],
   "source": [
    "#17 You will need to write three unfinished logic gates. Continue to write the three logic gates: AND, OR, and NOT.\n",
    "\n",
    "\n",
    "\n",
    "def AND_gate(a,b):\n",
    "    return a and b\n",
    "def OR_gate(a,b):\n",
    "    return a and b\n",
    "def NOT_gate (a,b):\n",
    "    return a and b\n",
    "a=input(\"type 1 or 0 :\")\n",
    "b=input(\"type 1 or 0 :\")\n",
    "\n",
    "output_AND=AND_gate(a,b)\n",
    "print(\"AND gate output :\",output_AND)\n",
    "\n",
    "output_OR=OR_gate(a,b)\n",
    "print(\"OR agte output :\",output_OR)\n",
    "\n",
    "output_NOT=NOT_gate(a,b)\n",
    "print(\"NOT gate output :\",output_NOT)\n"
   ]
  },
  {
   "cell_type": "code",
   "execution_count": 19,
   "id": "d613ebf1",
   "metadata": {},
   "outputs": [],
   "source": [
    "#18 A bartender is writing a simple program to determine whether he should serve drinks to someone.\n",
    "#He only serves drinks to people 18 and older and when he's not on break.\n",
    "#Given the person's age, and whether break time is in session, create a function which returns whether he should serve drinks.\n",
    "\n",
    "\n",
    "\n",
    "def bartender(age,break_time=\"yes\"or\"no\"):\n",
    "    if age>=18 and break_time==\"yes\":\n",
    "        return \"serve\"\n",
    "    else:\n",
    "        return \"no_serving\""
   ]
  },
  {
   "cell_type": "code",
   "execution_count": 21,
   "id": "63ff69c6",
   "metadata": {},
   "outputs": [
    {
     "data": {
      "text/plain": [
       "'serve'"
      ]
     },
     "execution_count": 21,
     "metadata": {},
     "output_type": "execute_result"
    }
   ],
   "source": [
    "bartender(18,\"yes\")"
   ]
  },
  {
   "cell_type": "code",
   "execution_count": 24,
   "id": "e5c86c5e",
   "metadata": {},
   "outputs": [],
   "source": [
    "# 19 Write a function that returns the string \"even\" if the given integer is even, and the string \"odd\" if it's odd.\n",
    "\n",
    "def parity(n):\n",
    "    remainder = bool(n % 2)\n",
    "    if remainder == False:\n",
    "        return \"even\"\n",
    "    if remainder == True:\n",
    "        return \"odd\""
   ]
  },
  {
   "cell_type": "code",
   "execution_count": 25,
   "id": "0bf3d696",
   "metadata": {},
   "outputs": [
    {
     "data": {
      "text/plain": [
       "'even'"
      ]
     },
     "execution_count": 25,
     "metadata": {},
     "output_type": "execute_result"
    }
   ],
   "source": [
    "parity(4)"
   ]
  },
  {
   "cell_type": "code",
   "execution_count": 29,
   "id": "0c381bcb",
   "metadata": {},
   "outputs": [],
   "source": [
    "#20 Create a function that takes a string txt and a number n and returns the repeated string n number of times.\n",
    "\n",
    "#If given argument txt is not a string, return Not A String !!\n",
    "\n",
    "#Examples\n",
    "#repeat_string(\"Mubashir\", 2) ➞ \"MubashirMubashir\"\n",
    "\n",
    "#repeat_string(\"Matt\", 3) ➞ \"MattMattMatt\"\n",
    "\n",
    "#repeat_string(1990, 7) ➞ \"Not A String !!\"\n",
    "\n",
    "\n",
    "def repeat_string(string,times):\n",
    "    new_string=string*times\n",
    "    return new_string"
   ]
  },
  {
   "cell_type": "code",
   "execution_count": 30,
   "id": "c2c5fd4f",
   "metadata": {},
   "outputs": [
    {
     "data": {
      "text/plain": [
       "'appleapple'"
      ]
     },
     "execution_count": 30,
     "metadata": {},
     "output_type": "execute_result"
    }
   ],
   "source": [
    "repeat_string(\"apple\",2)"
   ]
  },
  {
   "cell_type": "code",
   "execution_count": 57,
   "id": "e8c5cdfb",
   "metadata": {},
   "outputs": [],
   "source": [
    "#21 A taxi journey costs $3 for the first kilometer travelled. However, all kilometers travelled after that will cost $2 each.\n",
    "\n",
    "#Create a function which returns the distance that the taxi must've travelled, given the cost as a parameter.\n",
    "\n",
    "\n",
    "def journey(cost):\n",
    "    distance=1\n",
    "    if cost==3:\n",
    "        return distance\n",
    "    else:\n",
    "        return distance + int((cost-3)/2)\n",
    "    \n",
    "    "
   ]
  },
  {
   "cell_type": "code",
   "execution_count": 58,
   "id": "2cd7c6c5",
   "metadata": {},
   "outputs": [
    {
     "data": {
      "text/plain": [
       "1"
      ]
     },
     "execution_count": 58,
     "metadata": {},
     "output_type": "execute_result"
    }
   ],
   "source": [
    "journey(3)"
   ]
  },
  {
   "cell_type": "code",
   "execution_count": 59,
   "id": "4cd188fd",
   "metadata": {},
   "outputs": [
    {
     "data": {
      "text/plain": [
       "4"
      ]
     },
     "execution_count": 59,
     "metadata": {},
     "output_type": "execute_result"
    }
   ],
   "source": [
    "journey(9)"
   ]
  },
  {
   "cell_type": "code",
   "execution_count": 3,
   "id": "c21c748b",
   "metadata": {},
   "outputs": [],
   "source": [
    "#22 Levers are simple machines with a rigid beam and a fulcrum. From the picture below, you can see that there are 3-types of levers: first class, second class and third class.\n",
    "\n",
    "#In a first class lever, the fulcrum is situated in the middle with the effort and the load being positioned opposite of each other.\n",
    "#In a second class lever, the fulcrum is situated in the right with the effort on the left and the load in the middle.\n",
    "#In a third class lever, the fulcrum is situated in the left with the effort being in the middle and the load being on the right.\n",
    "\n",
    "\n",
    "#Given a list that contains the fulcrum \"f\", the effort \"e\", and the load \"l\",\n",
    "#write a function that determines whether or not the list shows a first class lever, second class lever, or a third class lever.\n",
    "\n",
    "\n",
    "def determine_lever(l):\n",
    "    if  l[0]==\"e\" and l[1]==\"f\" and l[2]==\"l\":\n",
    "        return \"first class lever\"\n",
    "    elif l[0]==\"e\" and l[1]==\"l\" and l[2]==\"f\":\n",
    "        return \"second class lever\"\n",
    "    elif l[0]==\"f\" and l[1]==\"e\" and l[2]==\"l\":\n",
    "        return \"third class lever\"\n",
    "    else:\n",
    "        return \"None\"\n",
    "    "
   ]
  },
  {
   "cell_type": "code",
   "execution_count": 6,
   "id": "69505bca",
   "metadata": {},
   "outputs": [
    {
     "data": {
      "text/plain": [
       "'first class lever'"
      ]
     },
     "execution_count": 6,
     "metadata": {},
     "output_type": "execute_result"
    }
   ],
   "source": [
    "determine_lever([\"e\",\"f\",\"l\"])"
   ]
  },
  {
   "cell_type": "code",
   "execution_count": 7,
   "id": "22ce08b3",
   "metadata": {},
   "outputs": [],
   "source": [
    "#23 Write a function that checks whether a person can watch an MA15+ rated movie. One of the following two conditions is required for admittance:\n",
    "\n",
    "#The person is at least 15 years old.\n",
    "#They have parental supervision.\n",
    "#The function accepts two parameters, age and is_supervised. Return a boolean.\n",
    "\n",
    "\n",
    "\n",
    "def accept_into_movie(age,parent=\"yes\"or\"no\"):\n",
    "    if age>15 or age==15 and parent==\"yes\":\n",
    "        return True\n",
    "    else:\n",
    "        return False"
   ]
  },
  {
   "cell_type": "code",
   "execution_count": 8,
   "id": "aa35485e",
   "metadata": {},
   "outputs": [
    {
     "data": {
      "text/plain": [
       "True"
      ]
     },
     "execution_count": 8,
     "metadata": {},
     "output_type": "execute_result"
    }
   ],
   "source": [
    "accept_into_movie(18,\"yes\")"
   ]
  },
  {
   "cell_type": "code",
   "execution_count": 16,
   "id": "6ab162d9",
   "metadata": {},
   "outputs": [],
   "source": [
    "#24 Create a function that returns a number, based on the string provided. Here is a list of all digits:\n",
    "\n",
    "def word(var):\n",
    "    numbers={\"one\":1,\"two\":2,\"three\":3,\"four\":4,\"five\":5,\"six\":6,\"seven\":7,\"eight\":8,\"nine\":9,\"zero\":0}\n",
    "    return numbers[var]"
   ]
  },
  {
   "cell_type": "code",
   "execution_count": 17,
   "id": "f643b4a4",
   "metadata": {},
   "outputs": [
    {
     "data": {
      "text/plain": [
       "1"
      ]
     },
     "execution_count": 17,
     "metadata": {},
     "output_type": "execute_result"
    }
   ],
   "source": [
    "word(\"one\")"
   ]
  },
  {
   "cell_type": "code",
   "execution_count": 18,
   "id": "b28ccc81",
   "metadata": {},
   "outputs": [],
   "source": [
    "#25 Write a function that uses the ternary operator to return \"yeah\" if b is True, and \"nope\" otherwise."
   ]
  },
  {
   "cell_type": "code",
   "execution_count": 52,
   "id": "225b62e8",
   "metadata": {},
   "outputs": [],
   "source": [
    "#26 Create a function that takes a number x and a character y (\"m\" for male, \"f\" for female), and returns the name of an ancestor (m/f) or descendant (m/f).\n",
    "\n",
    "#If the number is negative, return the related ancestor.\n",
    "#If positive, return the related descendant.\n",
    "#You are generation 0. In the case of 0 (male or female), return \"me!\".\n",
    "\n",
    "def find_relative_name(x, y):\n",
    "    generations=int(x)\n",
    "    gender = y.lower()\n",
    "\n",
    "    if generations == 0:\n",
    "        return \"me!\"\n",
    "    \n",
    "    if gender == \"m\":\n",
    "        if x < 0:\n",
    "            return \"ancestor \" + str(generations) + \" generations up\"\n",
    "        else:\n",
    "            return \"descendant \" + str(generations) + \" generations down\"\n",
    "    \n",
    "    if gender == \"f\":\n",
    "        if x < 0:\n",
    "            return \"ancestress \" + str(generations) + \" generations up\"\n",
    "        else:\n",
    "            return \"descendant \" + str(generations) + \" generations down\"\n",
    "    \n",
    "    return \"Invalid gender specified. Please use 'm' for male or 'f' for female.\"\n"
   ]
  },
  {
   "cell_type": "code",
   "execution_count": 53,
   "id": "ff627a16",
   "metadata": {},
   "outputs": [
    {
     "data": {
      "text/plain": [
       "'me!'"
      ]
     },
     "execution_count": 53,
     "metadata": {},
     "output_type": "execute_result"
    }
   ],
   "source": [
    "find_relative_name(0,\"m\")"
   ]
  },
  {
   "cell_type": "code",
   "execution_count": 11,
   "id": "6c27f9e7",
   "metadata": {},
   "outputs": [],
   "source": [
    "#27 Backpack Bill and Wallet Will set off for the annual festival. As they approach the stalls, Bill retorts that he'll be able to bring home more stuff than Will. Taking this as a challenge, Will refutes and a competition spurs into action.\n",
    "\n",
    "#Backpack Bill has an infinite inventory space, but a limited number of coins.\n",
    "#Wallet Will has an infinite number of coins, but a limited inventory space.\n",
    "\n",
    "#Create a function that returns the name of the man who can bring home the most items. The parameters are given as follows:\n",
    "\n",
    "#Bill's amount of money.\n",
    "#Will's amount of inventory space.\n",
    "#The item's price.\n",
    "#The item's size.\n",
    "\n",
    "\n",
    "def who_wins_tonight(coins, space, price, size):\n",
    "    bill = coins # price\n",
    "    will = space # size\n",
    "    if bill < will:\n",
    "        \n",
    "        return \"Will\"\n",
    "    elif bill > will:\n",
    "        return \"Bill\"\n",
    "    else:\n",
    "        return \"Tie\"\n",
    "\n"
   ]
  },
  {
   "cell_type": "code",
   "execution_count": 12,
   "id": "679abeac",
   "metadata": {},
   "outputs": [
    {
     "data": {
      "text/plain": [
       "'Bill'"
      ]
     },
     "execution_count": 12,
     "metadata": {},
     "output_type": "execute_result"
    }
   ],
   "source": [
    "who_wins_tonight(100,50,10,5)"
   ]
  },
  {
   "cell_type": "code",
   "execution_count": 14,
   "id": "c3953bfe",
   "metadata": {},
   "outputs": [
    {
     "data": {
      "text/plain": [
       "'Will'"
      ]
     },
     "execution_count": 14,
     "metadata": {},
     "output_type": "execute_result"
    }
   ],
   "source": [
    "who_wins_tonight(10,20,85,30)"
   ]
  },
  {
   "cell_type": "code",
   "execution_count": 29,
   "id": "45cae4b7",
   "metadata": {},
   "outputs": [],
   "source": [
    "#28   Create a function that validates whether a number n is within the bounds of lower and upper. \n",
    "#Return False if n is not an integer.\n",
    "\n",
    "def int_within_bounds(n,lower,upper):\n",
    "     if type(n)==int:\n",
    "        if lower<=n<=upper:\n",
    "            return True\n",
    "        else:\n",
    "            return False"
   ]
  },
  {
   "cell_type": "code",
   "execution_count": 30,
   "id": "782f5b92",
   "metadata": {},
   "outputs": [
    {
     "data": {
      "text/plain": [
       "True"
      ]
     },
     "execution_count": 30,
     "metadata": {},
     "output_type": "execute_result"
    }
   ],
   "source": [
    "int_within_bounds(3,1,9)"
   ]
  },
  {
   "cell_type": "code",
   "execution_count": 31,
   "id": "2ac7205b",
   "metadata": {},
   "outputs": [
    {
     "data": {
      "text/plain": [
       "False"
      ]
     },
     "execution_count": 31,
     "metadata": {},
     "output_type": "execute_result"
    }
   ],
   "source": [
    "int_within_bounds(1,6,6)"
   ]
  },
  {
   "cell_type": "code",
   "execution_count": 32,
   "id": "165458e9",
   "metadata": {},
   "outputs": [],
   "source": [
    "#29  Write a function that returns the boolean True if the given number is zero, the string \"positive\" \n",
    "#if the number is greater than zero or the string \"negative\" if it's smaller than zero.\n",
    "\n",
    "\n",
    "def num_equal_to(n):\n",
    "    if n>0:\n",
    "        return \"positive\"\n",
    "    elif n<0:\n",
    "        return \"negative\"\n",
    "    else:\n",
    "        return True"
   ]
  },
  {
   "cell_type": "code",
   "execution_count": 33,
   "id": "0e1d1d54",
   "metadata": {},
   "outputs": [
    {
     "data": {
      "text/plain": [
       "'positive'"
      ]
     },
     "execution_count": 33,
     "metadata": {},
     "output_type": "execute_result"
    }
   ],
   "source": [
    "num_equal_to(1)"
   ]
  },
  {
   "cell_type": "code",
   "execution_count": 35,
   "id": "f19ea3c4",
   "metadata": {},
   "outputs": [
    {
     "data": {
      "text/plain": [
       "'negative'"
      ]
     },
     "execution_count": 35,
     "metadata": {},
     "output_type": "execute_result"
    }
   ],
   "source": [
    "num_equal_to(-1)"
   ]
  },
  {
   "cell_type": "code",
   "execution_count": 36,
   "id": "cf007371",
   "metadata": {},
   "outputs": [
    {
     "data": {
      "text/plain": [
       "True"
      ]
     },
     "execution_count": 36,
     "metadata": {},
     "output_type": "execute_result"
    }
   ],
   "source": [
    "num_equal_to(0)"
   ]
  },
  {
   "cell_type": "code",
   "execution_count": 38,
   "id": "894749c6",
   "metadata": {},
   "outputs": [],
   "source": [
    "#30 Create a function that determines if the temp of the water is considered boiling or not. \n",
    "#temp will be measured in Fahrenheit and Celsius.\n",
    "\n",
    "def water_temp(x):\n",
    "    if x>=\"100C\" or x>=\"212F\":\n",
    "        return True\n",
    "    else:\n",
    "        return False"
   ]
  },
  {
   "cell_type": "code",
   "execution_count": 39,
   "id": "e52ac663",
   "metadata": {},
   "outputs": [
    {
     "data": {
      "text/plain": [
       "True"
      ]
     },
     "execution_count": 39,
     "metadata": {},
     "output_type": "execute_result"
    }
   ],
   "source": [
    "water_temp(\"200C\")"
   ]
  },
  {
   "cell_type": "code",
   "execution_count": 40,
   "id": "e244bbee",
   "metadata": {},
   "outputs": [
    {
     "data": {
      "text/plain": [
       "False"
      ]
     },
     "execution_count": 40,
     "metadata": {},
     "output_type": "execute_result"
    }
   ],
   "source": [
    "water_temp(\"0C\")"
   ]
  },
  {
   "cell_type": "code",
   "execution_count": 56,
   "id": "3e935b64",
   "metadata": {},
   "outputs": [],
   "source": [
    "#31 Create a function that takes two arguments of a list of numbers lst and a constant number n \n",
    "#and returns the n largest numbers from the given list.\n",
    "\n",
    "\n",
    "\n",
    "def largest_numbers(n, lst):\n",
    "    if n <= 0:\n",
    "        return []  # Return an empty list if n is 0 or negative\n",
    "\n",
    "    largest_nums = []\n",
    "    for num in lst:\n",
    "        if len(largest_nums) < n:\n",
    "            largest_nums.append(num)\n",
    "        else:\n",
    "            min_num = min(largest_nums)\n",
    "            if num > min_num:\n",
    "                largest_nums.remove(min_num)\n",
    "                largest_nums.append(num)\n",
    "\n",
    "    return largest_nums"
   ]
  },
  {
   "cell_type": "code",
   "execution_count": 57,
   "id": "b418ea7b",
   "metadata": {},
   "outputs": [
    {
     "data": {
      "text/plain": [
       "[3, 4]"
      ]
     },
     "execution_count": 57,
     "metadata": {},
     "output_type": "execute_result"
    }
   ],
   "source": [
    "largest_numbers(2,[1,2,3,4])"
   ]
  },
  {
   "cell_type": "code",
   "execution_count": 62,
   "id": "8ec8b493",
   "metadata": {},
   "outputs": [],
   "source": [
    "#32 Create a function that takes a range object r, index i, and returns a list where the first element is the \n",
    "#number of elements in the range object, and the second element is the element of the range object at the given index.\n",
    "\n",
    "\n",
    "def length_elements(range,i):\n",
    "    return [len(range), range[i]]\n"
   ]
  },
  {
   "cell_type": "code",
   "execution_count": 63,
   "id": "8ffc42c0",
   "metadata": {},
   "outputs": [
    {
     "data": {
      "text/plain": [
       "[2, 2]"
      ]
     },
     "execution_count": 63,
     "metadata": {},
     "output_type": "execute_result"
    }
   ],
   "source": [
    "length_elements((2,4),0)"
   ]
  },
  {
   "cell_type": "code",
   "execution_count": 64,
   "id": "1e331355",
   "metadata": {},
   "outputs": [
    {
     "data": {
      "text/plain": [
       "[3, 15]"
      ]
     },
     "execution_count": 64,
     "metadata": {},
     "output_type": "execute_result"
    }
   ],
   "source": [
    "length_elements((12,15,2),1)"
   ]
  },
  {
   "cell_type": "code",
   "execution_count": 79,
   "id": "803a9d87",
   "metadata": {},
   "outputs": [],
   "source": [
    "#33 Write a function that returns the first truthy argument passed to the function. \n",
    "#  If all arguments are falsy, return the string \"not found\".\n",
    "#  The function will be called with a minimum of one and a maximum of four arguments: a, b, c, d.\n",
    "\n",
    "\n",
    "\n",
    "\n",
    "def first_one(a, b=\"None\", c=\"None\", d=\"None\"):\n",
    "    arguments = [a, b, c, d]\n",
    "\n",
    "    for arg in arguments:\n",
    "        if arg:\n",
    "            return arg\n",
    "        else:\n",
    "\n",
    "            return \"not found\""
   ]
  },
  {
   "cell_type": "code",
   "execution_count": 80,
   "id": "69e4cc35",
   "metadata": {},
   "outputs": [
    {
     "data": {
      "text/plain": [
       "'not found'"
      ]
     },
     "execution_count": 80,
     "metadata": {},
     "output_type": "execute_result"
    }
   ],
   "source": [
    "first_one(0,False,\"None\",\"Hello\")"
   ]
  },
  {
   "cell_type": "code",
   "execution_count": 2,
   "id": "74136cf6",
   "metadata": {},
   "outputs": [],
   "source": [
    "#34 Create a function that takes three numbers as arguments and returns True if it's a triangle and False if not.\n",
    "\n",
    "def is_triangle(a,b,c):\n",
    "    if a+b>c and a+c>b and b+c>a :\n",
    "        return True\n",
    "    else:\n",
    "        return False\n",
    "\n"
   ]
  },
  {
   "cell_type": "code",
   "execution_count": 3,
   "id": "6613164b",
   "metadata": {},
   "outputs": [
    {
     "data": {
      "text/plain": [
       "True"
      ]
     },
     "execution_count": 3,
     "metadata": {},
     "output_type": "execute_result"
    }
   ],
   "source": [
    "is_triangle(2,3,4)"
   ]
  },
  {
   "cell_type": "code",
   "execution_count": 5,
   "id": "104c9c25",
   "metadata": {},
   "outputs": [
    {
     "data": {
      "text/plain": [
       "False"
      ]
     },
     "execution_count": 5,
     "metadata": {},
     "output_type": "execute_result"
    }
   ],
   "source": [
    "is_triangle(2,3,8)"
   ]
  },
  {
   "cell_type": "code",
   "execution_count": 19,
   "id": "c7bd487e",
   "metadata": {},
   "outputs": [],
   "source": [
    "#35  A \"truthy\" value is a value that translates to True when evaluated in a Boolean context. All values are truthy unless they're defined as falsy.\n",
    "\n",
    "#All falsy values are as follows:\n",
    "\n",
    "#False\n",
    "#None\n",
    "#0\n",
    "#[]\n",
    "#{}\n",
    "#\"\"\n",
    "#Create a function that takes an argument of any data type and returns 1 if it's truthy and 0 if it's falsy.\n",
    "\n",
    "\n",
    "def is_truthy (value):\n",
    "    if bool(value):\n",
    "        return 1\n",
    "    else:\n",
    "        return 0\n",
    "\n",
    "\n",
    "\n",
    "\n",
    "\n"
   ]
  },
  {
   "cell_type": "code",
   "execution_count": 20,
   "id": "383d6609",
   "metadata": {},
   "outputs": [
    {
     "data": {
      "text/plain": [
       "0"
      ]
     },
     "execution_count": 20,
     "metadata": {},
     "output_type": "execute_result"
    }
   ],
   "source": [
    "is_truthy(0)"
   ]
  },
  {
   "cell_type": "code",
   "execution_count": 21,
   "id": "6fcd0e20",
   "metadata": {},
   "outputs": [
    {
     "data": {
      "text/plain": [
       "1"
      ]
     },
     "execution_count": 21,
     "metadata": {},
     "output_type": "execute_result"
    }
   ],
   "source": [
    "is_truthy(\"False\")"
   ]
  },
  {
   "cell_type": "code",
   "execution_count": 34,
   "id": "144c4057",
   "metadata": {},
   "outputs": [],
   "source": [
    "#36  Write a function that returns True if both numbers are:\n",
    "\n",
    "#Smaller than 0, OR ...\n",
    "#Greater than 0, OR ...\n",
    "#Exactly 0\n",
    "#Otherwise, return False.\n",
    "\n",
    "\n",
    "\n",
    "def both(n1,n2):\n",
    "    if (n1 > 0 and n2 > 0) or (n1 == 0 and n2 == 0) or (n1 < 0 and n2 < 0):\n",
    "        return True\n",
    "    else:\n",
    "        return False"
   ]
  },
  {
   "cell_type": "code",
   "execution_count": 35,
   "id": "e4603ffe",
   "metadata": {},
   "outputs": [
    {
     "data": {
      "text/plain": [
       "True"
      ]
     },
     "execution_count": 35,
     "metadata": {},
     "output_type": "execute_result"
    }
   ],
   "source": [
    "both(2,3)"
   ]
  },
  {
   "cell_type": "code",
   "execution_count": 36,
   "id": "f42849d6",
   "metadata": {},
   "outputs": [
    {
     "data": {
      "text/plain": [
       "True"
      ]
     },
     "execution_count": 36,
     "metadata": {},
     "output_type": "execute_result"
    }
   ],
   "source": [
    "both(0,0)"
   ]
  },
  {
   "cell_type": "code",
   "execution_count": 37,
   "id": "bb860aae",
   "metadata": {},
   "outputs": [
    {
     "data": {
      "text/plain": [
       "False"
      ]
     },
     "execution_count": 37,
     "metadata": {},
     "output_type": "execute_result"
    }
   ],
   "source": [
    "both(-1,2)"
   ]
  },
  {
   "cell_type": "code",
   "execution_count": 39,
   "id": "eaccd6a7",
   "metadata": {},
   "outputs": [],
   "source": [
    "#37   Create a function that takes a list. This list will contain numbers represented as strings.\n",
    "\n",
    "#Your function should split this list into two new lists. The first list should contain only even numbers. \n",
    "\n",
    "#The second only odd. Then, wrap these two lists in one main list and return it.\n",
    "\n",
    "#Return an empty list if there are no even numbers, or odd.\n",
    "\n",
    "\n",
    "\n",
    "def clean_up_list(lst):\n",
    "    even = [i for i in map(int, lst) if i%2 == 0]\n",
    "    odd = [i for i in map(int, lst) if i%2 == 1]\n",
    "    return [even, odd]\n",
    "\n",
    "\n"
   ]
  },
  {
   "cell_type": "code",
   "execution_count": 40,
   "id": "3f08affb",
   "metadata": {},
   "outputs": [
    {
     "data": {
      "text/plain": [
       "[[2, 4, 6], [3, 5]]"
      ]
     },
     "execution_count": 40,
     "metadata": {},
     "output_type": "execute_result"
    }
   ],
   "source": [
    "clean_up_list([2,3,4,5,6])"
   ]
  },
  {
   "cell_type": "code",
   "execution_count": 42,
   "id": "7a5fb7ba",
   "metadata": {},
   "outputs": [],
   "source": [
    "#38  Create a function which returns True if a given variable name is valid, otherwise return False.\n",
    "\n",
    "def variable_valid (var1):\n",
    "    if var1[0].isalpha():\n",
    "        return True\n",
    "    else:\n",
    "        return False"
   ]
  },
  {
   "cell_type": "code",
   "execution_count": 43,
   "id": "8a37c8f8",
   "metadata": {},
   "outputs": [
    {
     "data": {
      "text/plain": [
       "True"
      ]
     },
     "execution_count": 43,
     "metadata": {},
     "output_type": "execute_result"
    }
   ],
   "source": [
    "variable_valid(\"result\")"
   ]
  },
  {
   "cell_type": "code",
   "execution_count": 44,
   "id": "96932125",
   "metadata": {},
   "outputs": [
    {
     "data": {
      "text/plain": [
       "False"
      ]
     },
     "execution_count": 44,
     "metadata": {},
     "output_type": "execute_result"
    }
   ],
   "source": [
    "variable_valid(\"23\")"
   ]
  },
  {
   "cell_type": "code",
   "execution_count": 46,
   "id": "a4d098d7",
   "metadata": {},
   "outputs": [],
   "source": [
    "#39  Create a function that takes two integers and checks if they are equal.\n",
    "\n",
    "def is_equal(num1,num2):\n",
    "    if num1==num2:\n",
    "        return True\n",
    "    else:\n",
    "        return False"
   ]
  },
  {
   "cell_type": "code",
   "execution_count": 47,
   "id": "b8aa8511",
   "metadata": {},
   "outputs": [
    {
     "data": {
      "text/plain": [
       "True"
      ]
     },
     "execution_count": 47,
     "metadata": {},
     "output_type": "execute_result"
    }
   ],
   "source": [
    "is_equal(1,1)"
   ]
  },
  {
   "cell_type": "code",
   "execution_count": 48,
   "id": "35bf092e",
   "metadata": {},
   "outputs": [
    {
     "data": {
      "text/plain": [
       "False"
      ]
     },
     "execution_count": 48,
     "metadata": {},
     "output_type": "execute_result"
    }
   ],
   "source": [
    "is_equal(0,1)"
   ]
  },
  {
   "cell_type": "code",
   "execution_count": 57,
   "id": "fc98fe60",
   "metadata": {},
   "outputs": [],
   "source": [
    "#40   Write a function that takes a string name and a number num (either 0 or 1) and return \"Hello\" + name if num is 1, otherwise return \"Bye\" + name.\n",
    "\n",
    "\n",
    "\n",
    "def say_hello_bye(var1,num):\n",
    "    if num==1:\n",
    "        return \"Hello \"+ var1\n",
    "    else:\n",
    "        return \"Bye \" + var1"
   ]
  },
  {
   "cell_type": "code",
   "execution_count": 58,
   "id": "a1b271c2",
   "metadata": {},
   "outputs": [
    {
     "data": {
      "text/plain": [
       "'Hello allen'"
      ]
     },
     "execution_count": 58,
     "metadata": {},
     "output_type": "execute_result"
    }
   ],
   "source": [
    "say_hello_bye(\"allen\",1)"
   ]
  },
  {
   "cell_type": "code",
   "execution_count": 59,
   "id": "f642295a",
   "metadata": {},
   "outputs": [
    {
     "data": {
      "text/plain": [
       "'Bye allen'"
      ]
     },
     "execution_count": 59,
     "metadata": {},
     "output_type": "execute_result"
    }
   ],
   "source": [
    "say_hello_bye(\"allen\",0)"
   ]
  },
  {
   "cell_type": "code",
   "execution_count": 74,
   "id": "f97364b2",
   "metadata": {},
   "outputs": [],
   "source": [
    "#41  In a board game, a piece may advance 1-6 tiles forward depending on the number rolled on a six-sided die. \n",
    "\n",
    "#If you advance your piece onto the same tile as another player's piece, both of you earn a bonus.\n",
    "\n",
    "#Can you reach your friend's tile number in the next roll?\n",
    "\n",
    "#Create a function that returns if it's possible to earn a bonus when you roll the die.\n",
    "\n",
    "\n",
    "\n",
    "\n",
    "def possible_bonus(a, b):\n",
    "       if a>=b:\n",
    "        return False\n",
    "       elif abs(a-b) <=6:\n",
    "        return True\n",
    "       else:\n",
    "        return False\n",
    "    \n",
    "\n",
    "\n"
   ]
  },
  {
   "cell_type": "code",
   "execution_count": 75,
   "id": "407aec26",
   "metadata": {},
   "outputs": [
    {
     "data": {
      "text/plain": [
       "True"
      ]
     },
     "execution_count": 75,
     "metadata": {},
     "output_type": "execute_result"
    }
   ],
   "source": [
    "possible_bonus(1,3)"
   ]
  },
  {
   "cell_type": "code",
   "execution_count": 76,
   "id": "505851e8",
   "metadata": {},
   "outputs": [
    {
     "data": {
      "text/plain": [
       "False"
      ]
     },
     "execution_count": 76,
     "metadata": {},
     "output_type": "execute_result"
    }
   ],
   "source": [
    "possible_bonus(1,9)"
   ]
  },
  {
   "cell_type": "code",
   "execution_count": 3,
   "id": "cbc9216a",
   "metadata": {},
   "outputs": [],
   "source": [
    "#42  Create a function that takes three number arguments — one number as an input and two additional numbers representing\n",
    "#the endpoints of a closed range — and return the number limited to this range.\n",
    "\n",
    "\n",
    "def limit_number(num, range_low, range_high):\n",
    "     a=[num,range_low,range_high]\n",
    "     a.sort()   \n",
    "     return a[1]"
   ]
  },
  {
   "cell_type": "code",
   "execution_count": 4,
   "id": "fef46dae",
   "metadata": {},
   "outputs": [
    {
     "data": {
      "text/plain": [
       "5"
      ]
     },
     "execution_count": 4,
     "metadata": {},
     "output_type": "execute_result"
    }
   ],
   "source": [
    "limit_number(5,1,10)"
   ]
  },
  {
   "cell_type": "code",
   "execution_count": 5,
   "id": "cfa964b8",
   "metadata": {},
   "outputs": [],
   "source": [
    "#43   Write a function that takes an integer and:\n",
    "\n",
    "#If the number is a multiple of 3, return \"Hello\".\n",
    "#If the number is a multiple of 5, return \"World\".\n",
    "#If the number is a multiple of both 3 and 5, return \"Hello World\".\n",
    "\n",
    "\n",
    "\n",
    "\n",
    "def hello_world(x):\n",
    "    if x%3==0 and x%5==0:\n",
    "        return \"Hello World\"\n",
    "    elif x%5==0:\n",
    "        return \"world\"\n",
    "    else:\n",
    "        return \"Hello\""
   ]
  },
  {
   "cell_type": "code",
   "execution_count": 6,
   "id": "f57fe230",
   "metadata": {},
   "outputs": [
    {
     "data": {
      "text/plain": [
       "'Hello'"
      ]
     },
     "execution_count": 6,
     "metadata": {},
     "output_type": "execute_result"
    }
   ],
   "source": [
    "hello_world(3)"
   ]
  },
  {
   "cell_type": "code",
   "execution_count": 8,
   "id": "b103b7de",
   "metadata": {},
   "outputs": [
    {
     "data": {
      "text/plain": [
       "'world'"
      ]
     },
     "execution_count": 8,
     "metadata": {},
     "output_type": "execute_result"
    }
   ],
   "source": [
    "hello_world(5)"
   ]
  },
  {
   "cell_type": "code",
   "execution_count": 9,
   "id": "c5ac1a42",
   "metadata": {},
   "outputs": [
    {
     "data": {
      "text/plain": [
       "'Hello World'"
      ]
     },
     "execution_count": 9,
     "metadata": {},
     "output_type": "execute_result"
    }
   ],
   "source": [
    "hello_world(15)"
   ]
  },
  {
   "cell_type": "code",
   "execution_count": 30,
   "id": "01d34f37",
   "metadata": {},
   "outputs": [],
   "source": [
    "#44  Given a string and a style character, return the newly formatted string. Style characters are single letters that represent the different types of formatting.\n",
    "\n",
    "#For the purposes of this challenge, the style characters are as follows:\n",
    "\n",
    "#\"b\" is for bold\n",
    "#\"i\" is for italics\n",
    "#\"c\" is for inline code\n",
    "#\"s\" is for strikethrough\n",
    "\n",
    "\n",
    "def markdown(string,style):\n",
    "    if style==\"b\":\n",
    "        return \"**{}**\".format(string)\n",
    "    elif style==\"i\":\n",
    "        return \"_{}_\".format(string)\n",
    "    elif style==\"c\":\n",
    "        return \"'{}'\".format(string)\n",
    "    elif style==\"s\":\n",
    "        return \"~~{}~~\".format(string)\n",
    "    else:\n",
    "        return string\n",
    "        "
   ]
  },
  {
   "cell_type": "code",
   "execution_count": 31,
   "id": "4fff378e",
   "metadata": {},
   "outputs": [
    {
     "data": {
      "text/plain": [
       "'**Bold**'"
      ]
     },
     "execution_count": 31,
     "metadata": {},
     "output_type": "execute_result"
    }
   ],
   "source": [
    "markdown(\"Bold\",\"b\")"
   ]
  },
  {
   "cell_type": "code",
   "execution_count": 32,
   "id": "22873b49",
   "metadata": {},
   "outputs": [
    {
     "data": {
      "text/plain": [
       "'_italics_'"
      ]
     },
     "execution_count": 32,
     "metadata": {},
     "output_type": "execute_result"
    }
   ],
   "source": [
    "markdown(\"italics\",\"i\")"
   ]
  },
  {
   "cell_type": "code",
   "execution_count": 33,
   "id": "b9708818",
   "metadata": {},
   "outputs": [
    {
     "data": {
      "text/plain": [
       "\"'inline'\""
      ]
     },
     "execution_count": 33,
     "metadata": {},
     "output_type": "execute_result"
    }
   ],
   "source": [
    "markdown(\"inline\",\"c\")"
   ]
  },
  {
   "cell_type": "code",
   "execution_count": 34,
   "id": "bc1dbf1e",
   "metadata": {},
   "outputs": [
    {
     "data": {
      "text/plain": [
       "'~~strike~~'"
      ]
     },
     "execution_count": 34,
     "metadata": {},
     "output_type": "execute_result"
    }
   ],
   "source": [
    "markdown(\"strike\",\"s\")"
   ]
  },
  {
   "cell_type": "code",
   "execution_count": 35,
   "id": "bdc44b8e",
   "metadata": {},
   "outputs": [],
   "source": [
    "#45 Write a function that returns True if a year is a leap, otherwise return False.\n",
    "\n",
    "def leap_year(x):\n",
    "    if x%4==0:\n",
    "        return True\n",
    "    else:\n",
    "        return False"
   ]
  },
  {
   "cell_type": "code",
   "execution_count": 36,
   "id": "0c4b526e",
   "metadata": {},
   "outputs": [
    {
     "data": {
      "text/plain": [
       "True"
      ]
     },
     "execution_count": 36,
     "metadata": {},
     "output_type": "execute_result"
    }
   ],
   "source": [
    "leap_year(1924)"
   ]
  },
  {
   "cell_type": "code",
   "execution_count": 37,
   "id": "8c8139f2",
   "metadata": {},
   "outputs": [
    {
     "data": {
      "text/plain": [
       "False"
      ]
     },
     "execution_count": 37,
     "metadata": {},
     "output_type": "execute_result"
    }
   ],
   "source": [
    "leap_year(1990)"
   ]
  },
  {
   "cell_type": "code",
   "execution_count": 41,
   "id": "d30ad232",
   "metadata": {},
   "outputs": [],
   "source": [
    "#46  Given a pH value, return whether that value is \"alkaline\" (greater than 7), \"acidic\" (less than 7), or \"neutral\" (7). \n",
    "#Return \"invalid\" if the value given is less than 0 or greater than 14.\n",
    "\n",
    "def pH_name(x):\n",
    "    if x<0 or x>14:\n",
    "        return \"invalid\"\n",
    "    elif x==7:\n",
    "        return \"neutral\"\n",
    "    elif x>7:\n",
    "        return \"alkaline\"\n",
    "    else:\n",
    "        return \"acidic\""
   ]
  },
  {
   "cell_type": "code",
   "execution_count": 42,
   "id": "2149979a",
   "metadata": {},
   "outputs": [
    {
     "data": {
      "text/plain": [
       "'acidic'"
      ]
     },
     "execution_count": 42,
     "metadata": {},
     "output_type": "execute_result"
    }
   ],
   "source": [
    "pH_name(5)"
   ]
  },
  {
   "cell_type": "code",
   "execution_count": 43,
   "id": "6fd672b4",
   "metadata": {},
   "outputs": [
    {
     "data": {
      "text/plain": [
       "'alkaline'"
      ]
     },
     "execution_count": 43,
     "metadata": {},
     "output_type": "execute_result"
    }
   ],
   "source": [
    "pH_name(8.7)"
   ]
  },
  {
   "cell_type": "code",
   "execution_count": 44,
   "id": "7bff7022",
   "metadata": {},
   "outputs": [
    {
     "data": {
      "text/plain": [
       "'neutral'"
      ]
     },
     "execution_count": 44,
     "metadata": {},
     "output_type": "execute_result"
    }
   ],
   "source": [
    "pH_name(7)"
   ]
  },
  {
   "cell_type": "code",
   "execution_count": 45,
   "id": "72bc808e",
   "metadata": {},
   "outputs": [
    {
     "data": {
      "text/plain": [
       "'invalid'"
      ]
     },
     "execution_count": 45,
     "metadata": {},
     "output_type": "execute_result"
    }
   ],
   "source": [
    "pH_name(-5)"
   ]
  },
  {
   "cell_type": "code",
   "execution_count": 46,
   "id": "064dabc0",
   "metadata": {},
   "outputs": [],
   "source": [
    "#47  Darts is a target game played by throwing feathered darts at a circular board with numbered spaces.\n",
    "# Our darts game is the simplest of all games. The score of a single turn is calculated based on the distance from the middle.\n",
    "# You need to create a function that takes the dart location as two cartesian coordinates (x, y) and returns a score based \n",
    "# on the distance from the middle, aka Bullseye (x=0, y=0).\n",
    "\n",
    "\n",
    "\n",
    "def calculate_dart_score(x, y):\n",
    "    distance = (x ** 2 + y ** 2) ** 0.5  \n",
    "    if distance <= 1:  \n",
    "        return 10\n",
    "    elif distance <= 5:  \n",
    "        return 5\n",
    "    elif distance <= 10: \n",
    "        return 1\n",
    "    else:  \n",
    "        return 0\n"
   ]
  },
  {
   "cell_type": "code",
   "execution_count": 47,
   "id": "c2a6f7df",
   "metadata": {},
   "outputs": [
    {
     "data": {
      "text/plain": [
       "10"
      ]
     },
     "execution_count": 47,
     "metadata": {},
     "output_type": "execute_result"
    }
   ],
   "source": [
    "calculate_dart_score(0,0)"
   ]
  },
  {
   "cell_type": "code",
   "execution_count": 48,
   "id": "8fe50240",
   "metadata": {},
   "outputs": [
    {
     "data": {
      "text/plain": [
       "5"
      ]
     },
     "execution_count": 48,
     "metadata": {},
     "output_type": "execute_result"
    }
   ],
   "source": [
    "calculate_dart_score(3,2)"
   ]
  },
  {
   "cell_type": "code",
   "execution_count": 49,
   "id": "6ecacc0b",
   "metadata": {},
   "outputs": [
    {
     "data": {
      "text/plain": [
       "10"
      ]
     },
     "execution_count": 49,
     "metadata": {},
     "output_type": "execute_result"
    }
   ],
   "source": [
    "calculate_dart_score(0,-0.8)"
   ]
  },
  {
   "cell_type": "code",
   "execution_count": 50,
   "id": "cfeb043a",
   "metadata": {},
   "outputs": [],
   "source": [
    "#48 Create a function that takes an array of hurdle heights and a jumper's jump height, and determine whether or not the hurdler can clear all the hurdles.\n",
    "# A hurdler can clear a hurdle if their jump height is greater than or equal to the hurdle height.\n",
    "\n",
    "def hurdle_jump(jumpers_height,hurdle_jump):\n",
    "    for x in hurdle_jump:\n",
    "        if jumpers_height> x:\n",
    "            return True\n",
    "        else:\n",
    "            return False"
   ]
  },
  {
   "cell_type": "code",
   "execution_count": 52,
   "id": "93ed15de",
   "metadata": {},
   "outputs": [
    {
     "data": {
      "text/plain": [
       "True"
      ]
     },
     "execution_count": 52,
     "metadata": {},
     "output_type": "execute_result"
    }
   ],
   "source": [
    "hurdle_jump(5,[1,2,3,4,5])"
   ]
  },
  {
   "cell_type": "code",
   "execution_count": 53,
   "id": "e72b041f",
   "metadata": {},
   "outputs": [
    {
     "data": {
      "text/plain": [
       "False"
      ]
     },
     "execution_count": 53,
     "metadata": {},
     "output_type": "execute_result"
    }
   ],
   "source": [
    "hurdle_jump(3,[5,5,3,4,5])"
   ]
  },
  {
   "cell_type": "code",
   "execution_count": 54,
   "id": "e621a414",
   "metadata": {},
   "outputs": [],
   "source": [
    "#49  Create a function which returns the type of triangle, given the side lengths. Return the following values if they match the criteria.\n",
    "\n",
    "#No sides equal: \"scalene\"\n",
    "#Two sides equal: \"isosceles\"\n",
    "#All sides equal: \"equilateral\"\n",
    "#Less or more than 3 sides given: \"not a triangle\"\n",
    "\n",
    "\n",
    "\n",
    "def get_triangle_type(side1, side2, side3):\n",
    "    if side1 <= 0 or side2 <= 0 or side3 <= 0:\n",
    "        return \"not a triangle\"\n",
    "\n",
    "    if side1 == side2 and side1 == side3:\n",
    "        return \"equilateral\"\n",
    "    elif side1 == side2 or side1 == side3 or side2 == side3:\n",
    "        return \"isosceles\"\n",
    "    else:\n",
    "        return \"scalene\"\n"
   ]
  },
  {
   "cell_type": "code",
   "execution_count": 55,
   "id": "e59818d7",
   "metadata": {},
   "outputs": [
    {
     "data": {
      "text/plain": [
       "'scalene'"
      ]
     },
     "execution_count": 55,
     "metadata": {},
     "output_type": "execute_result"
    }
   ],
   "source": [
    "get_triangle_type(3,4,5)"
   ]
  },
  {
   "cell_type": "code",
   "execution_count": 56,
   "id": "a4d196e3",
   "metadata": {},
   "outputs": [
    {
     "data": {
      "text/plain": [
       "'isosceles'"
      ]
     },
     "execution_count": 56,
     "metadata": {},
     "output_type": "execute_result"
    }
   ],
   "source": [
    "get_triangle_type(5,5,7)"
   ]
  },
  {
   "cell_type": "code",
   "execution_count": 57,
   "id": "04eb1cbd",
   "metadata": {},
   "outputs": [
    {
     "data": {
      "text/plain": [
       "'equilateral'"
      ]
     },
     "execution_count": 57,
     "metadata": {},
     "output_type": "execute_result"
    }
   ],
   "source": [
    "get_triangle_type(5,5,5)"
   ]
  },
  {
   "cell_type": "code",
   "execution_count": 58,
   "id": "051c20fb",
   "metadata": {},
   "outputs": [
    {
     "data": {
      "text/plain": [
       "'scalene'"
      ]
     },
     "execution_count": 58,
     "metadata": {},
     "output_type": "execute_result"
    }
   ],
   "source": [
    "get_triangle_type(1,2,3)"
   ]
  },
  {
   "cell_type": "code",
   "execution_count": 59,
   "id": "27330e65",
   "metadata": {},
   "outputs": [
    {
     "data": {
      "text/plain": [
       "'not a triangle'"
      ]
     },
     "execution_count": 59,
     "metadata": {},
     "output_type": "execute_result"
    }
   ],
   "source": [
    "get_triangle_type(0,1,2)"
   ]
  },
  {
   "cell_type": "code",
   "execution_count": 60,
   "id": "49a9a857",
   "metadata": {},
   "outputs": [],
   "source": [
    "#50 Write a function that return True if two rooks can attack each other, and False otherwise.\n",
    "\n",
    "def can_capture(rooks):\n",
    "    rook1 = rooks[0]\n",
    "    rook2 = rooks[1]\n",
    "\n",
    "    \n",
    "    if rook1[0] == rook2[0] or rook1[1] == rook2[1]:\n",
    "        return True\n",
    "\n",
    "    return False\n",
    "\n"
   ]
  },
  {
   "cell_type": "code",
   "execution_count": 61,
   "id": "30ce59c9",
   "metadata": {},
   "outputs": [
    {
     "data": {
      "text/plain": [
       "True"
      ]
     },
     "execution_count": 61,
     "metadata": {},
     "output_type": "execute_result"
    }
   ],
   "source": [
    "can_capture([\"A8\", \"E8\"])"
   ]
  },
  {
   "cell_type": "code",
   "execution_count": 62,
   "id": "109e66d5",
   "metadata": {},
   "outputs": [
    {
     "data": {
      "text/plain": [
       "False"
      ]
     },
     "execution_count": 62,
     "metadata": {},
     "output_type": "execute_result"
    }
   ],
   "source": [
    "can_capture([\"A1\",\"B2\"])"
   ]
  },
  {
   "cell_type": "code",
   "execution_count": 65,
   "id": "4e5f5766",
   "metadata": {},
   "outputs": [],
   "source": [
    "#51 Given an integer n. Your task is to find how many digits this integer contains without using str or len methods!\n",
    "\n",
    "def count_digits(n):\n",
    "    if n == 0:\n",
    "        return 1  # Special case for zero\n",
    "\n",
    "    count = 0\n",
    "    while n != 0:\n",
    "        n //= 10  # Divide by 10\n",
    "        count += 1\n",
    "\n",
    "    return count\n"
   ]
  },
  {
   "cell_type": "code",
   "execution_count": 67,
   "id": "685d8a97",
   "metadata": {},
   "outputs": [
    {
     "data": {
      "text/plain": [
       "3"
      ]
     },
     "execution_count": 67,
     "metadata": {},
     "output_type": "execute_result"
    }
   ],
   "source": [
    "count_digits(100)"
   ]
  },
  {
   "cell_type": "code",
   "execution_count": 71,
   "id": "2599220e",
   "metadata": {},
   "outputs": [],
   "source": [
    "#52 Create a function that takes in a two-dimensional list and returns the number of sub-lists with only identical elements.\n",
    "\n",
    "def count_identical_lists(lst):\n",
    "    count = 0\n",
    "    for sub_list in lst:\n",
    "        if len(set(sub_list)) == 1:\n",
    "            count += 1\n",
    "    return count"
   ]
  },
  {
   "cell_type": "code",
   "execution_count": 72,
   "id": "271fc98a",
   "metadata": {},
   "outputs": [
    {
     "data": {
      "text/plain": [
       "3"
      ]
     },
     "execution_count": 72,
     "metadata": {},
     "output_type": "execute_result"
    }
   ],
   "source": [
    "count_identical_lists([[1,1,1],[2,2,2],[3,3,3]])"
   ]
  },
  {
   "cell_type": "code",
   "execution_count": 68,
   "id": "62a786f1",
   "metadata": {},
   "outputs": [],
   "source": [
    "#53 Create a function that takes a number (from 1 to 12) and returns its corresponding month name as a string.\n",
    "#For example, if you're given 3 as input, your function should return \"March\", because March is the 3rd month.\n",
    "\n",
    "def months(x):\n",
    "    months =[\"january\",\"february\",\"march\",\"april\",\"may\",\"june\",\"july\",\"august\",\"september\",\"october\",\"november\",\"december\"]\n",
    "    if x<1 or x>12:\n",
    "        return \"invalid month entered\"\n",
    "\n",
    "    else:\n",
    "        return months[x-1]"
   ]
  },
  {
   "cell_type": "code",
   "execution_count": 69,
   "id": "ef8cbce2",
   "metadata": {},
   "outputs": [
    {
     "data": {
      "text/plain": [
       "'november'"
      ]
     },
     "execution_count": 69,
     "metadata": {},
     "output_type": "execute_result"
    }
   ],
   "source": [
    "months(11)"
   ]
  },
  {
   "cell_type": "code",
   "execution_count": 77,
   "id": "462b5ace",
   "metadata": {},
   "outputs": [],
   "source": [
    "#54 Create a function that takes an initial word and extracts any words that start with the same letters as the initial word.\n",
    "\n",
    "def dictionary(initial_word, word_list):\n",
    "    dictionary = []\n",
    "    for word in word_list:\n",
    "        if word.startswith(initial_word):\n",
    "            dictionary.append(word)\n",
    "    return dictionary\n"
   ]
  },
  {
   "cell_type": "code",
   "execution_count": 78,
   "id": "57c46993",
   "metadata": {},
   "outputs": [
    {
     "data": {
      "text/plain": [
       "['button']"
      ]
     },
     "execution_count": 78,
     "metadata": {},
     "output_type": "execute_result"
    }
   ],
   "source": [
    "dictionary(\"bu\",[\"button\",\"balloon\",\"boat\"])"
   ]
  },
  {
   "cell_type": "code",
   "execution_count": 79,
   "id": "4238bd2d",
   "metadata": {},
   "outputs": [],
   "source": [
    "#55 Create a function that takes a list of strings and returns the words that are exactly four letters\n",
    "\n",
    "def  four_letter_words(list):\n",
    "    four_letter_words = []\n",
    "    for string in list:\n",
    "        words = string.split()\n",
    "        for word in words:\n",
    "            if len(word) == 4:\n",
    "                four_letter_words.append(word)\n",
    "    return four_letter_words\n",
    "\n",
    "    "
   ]
  },
  {
   "cell_type": "code",
   "execution_count": 80,
   "id": "7b32bb8d",
   "metadata": {},
   "outputs": [
    {
     "data": {
      "text/plain": [
       "['eyes', 'nose']"
      ]
     },
     "execution_count": 80,
     "metadata": {},
     "output_type": "execute_result"
    }
   ],
   "source": [
    "four_letter_words([\"apple\",\"eyes\",\"nose\",])"
   ]
  },
  {
   "cell_type": "code",
   "execution_count": 3,
   "id": "a8acf87c",
   "metadata": {},
   "outputs": [],
   "source": [
    "#56 Create a function that takes a year as an argument and returns the corresponding Chinese zodiac.\n",
    "\n",
    "def chinese_zodiac(year):\n",
    "    zodiac_signs={0: \"Dragon\", 1: \"snake\", 2: \"Horse\", 3: \"sheep\",4: \"monkey\",5: \"Rooster\",6: \"Dog\",7: \"Pig\",8: \"Rat\",9: \"ox\",10: \"Tiger\",11: \"Hare\"}\n",
    "    zodiac_index = (year - 2000) % 12\n",
    "    return zodiac_signs[zodiac_index]"
   ]
  },
  {
   "cell_type": "code",
   "execution_count": 4,
   "id": "104804a1",
   "metadata": {},
   "outputs": [
    {
     "data": {
      "text/plain": [
       "'Rooster'"
      ]
     },
     "execution_count": 4,
     "metadata": {},
     "output_type": "execute_result"
    }
   ],
   "source": [
    "chinese_zodiac(1933)"
   ]
  },
  {
   "cell_type": "code",
   "execution_count": 5,
   "id": "8632a30a",
   "metadata": {},
   "outputs": [],
   "source": [
    "#57 Two sisters are eating chocolate, whose pieces are represented as subarrays of [l x w].\n",
    "\n",
    "#Write a function that returns True if the total area of chocolate is the same for each sister.\n",
    "\n",
    "def test_fairness(agatha, bertha):\n",
    "    agatha_area = sum([l * w for l, w in agatha])\n",
    "    bertha_area = sum([l * w for l, w in bertha])\n",
    "    return agatha_area == bertha_area\n"
   ]
  },
  {
   "cell_type": "code",
   "execution_count": 6,
   "id": "6d9deeca",
   "metadata": {},
   "outputs": [
    {
     "data": {
      "text/plain": [
       "True"
      ]
     },
     "execution_count": 6,
     "metadata": {},
     "output_type": "execute_result"
    }
   ],
   "source": [
    "test_fairness([[4,3],[2,4],[1,2]],[[6,2],[4,2],[1,1],[1,1]])"
   ]
  },
  {
   "cell_type": "code",
   "execution_count": 7,
   "id": "065b1bf4",
   "metadata": {},
   "outputs": [],
   "source": [
    "#58 The challenge is to fix all of the bugs in this incredibly messy code, which the code in the image might've actually looked like (probably not)! The code given will output the same middle two lines as in the image shown above.\n",
    "\n",
    "#First parameter is the user's score.\n",
    "#Second parameter is the required score.  \n",
    "\n",
    "def grade_percentage(user_score, required_score):\n",
    "    user_score = int(user_score[:-1])  \n",
    "    required_score = int(required_score[:-1])  \n",
    "    if user_score >= required_score:\n",
    "        return \"You PASSED the Exam\"\n",
    "    else:\n",
    "        return \"You FAILED the Exam\"\n"
   ]
  },
  {
   "cell_type": "code",
   "execution_count": 8,
   "id": "5b399007",
   "metadata": {},
   "outputs": [
    {
     "data": {
      "text/plain": [
       "'You PASSED the Exam'"
      ]
     },
     "execution_count": 8,
     "metadata": {},
     "output_type": "execute_result"
    }
   ],
   "source": [
    "grade_percentage(\"85%\",\"85%\")"
   ]
  },
  {
   "cell_type": "code",
   "execution_count": 9,
   "id": "dd39ccb0",
   "metadata": {},
   "outputs": [
    {
     "data": {
      "text/plain": [
       "'You FAILED the Exam'"
      ]
     },
     "execution_count": 9,
     "metadata": {},
     "output_type": "execute_result"
    }
   ],
   "source": [
    "grade_percentage(\"65%\",\"90%\")"
   ]
  },
  {
   "cell_type": "code",
   "execution_count": null,
   "id": "5afdf89f",
   "metadata": {},
   "outputs": [],
   "source": [
    "#Control Flow "
   ]
  },
  {
   "cell_type": "code",
   "execution_count": 30,
   "id": "dc364122",
   "metadata": {},
   "outputs": [],
   "source": [
    "#59  A vehicle needs 10 times the amount of fuel than the distance it travels. However, it must always carry a minimum of 100 fuel before setting off.\n",
    "\n",
    "#Create a function which calculates the amount of fuel it needs, given the distance.\n",
    "\n",
    "\n",
    "def calculate_fuel(distance):\n",
    "    fuel = distance * 10  \n",
    "    fuel = max(fuel, 100)  \n",
    "    return fuel\n"
   ]
  },
  {
   "cell_type": "code",
   "execution_count": 31,
   "id": "a7455a4a",
   "metadata": {},
   "outputs": [
    {
     "data": {
      "text/plain": [
       "150"
      ]
     },
     "execution_count": 31,
     "metadata": {},
     "output_type": "execute_result"
    }
   ],
   "source": [
    "calculate_fuel(15)"
   ]
  },
  {
   "cell_type": "code",
   "execution_count": 10,
   "id": "88020840",
   "metadata": {},
   "outputs": [],
   "source": [
    "#60 The packaging system is running wild! The candy is lying loose all over in the warehouse, the cereal is missing, \n",
    "#and bread is stuffed in a bottle. What is going on here? The candy should be in plastic and the bread should be in a bag.\n",
    "#The packaging machine is running the get_container() function to retrieve the container of a product.\n",
    "#But something is not right...\n",
    "\n",
    "\n",
    "def get_container(product):\n",
    "    matches = {\"Bread\" : \"bottle\",\"Milk\" : \"bottle\",\"Beer\" : \"bottle\",\"Eggs\" : \"carton\",\"Cerials\" : \"box\",\"Candy\" : \"None\"}\n",
    "    return matches[product]"
   ]
  },
  {
   "cell_type": "code",
   "execution_count": 11,
   "id": "5105ab77",
   "metadata": {},
   "outputs": [
    {
     "data": {
      "text/plain": [
       "'bottle'"
      ]
     },
     "execution_count": 11,
     "metadata": {},
     "output_type": "execute_result"
    }
   ],
   "source": [
    "get_container(\"Bread\")"
   ]
  },
  {
   "cell_type": "code",
   "execution_count": 13,
   "id": "836f15dc",
   "metadata": {},
   "outputs": [
    {
     "data": {
      "text/plain": [
       "'carton'"
      ]
     },
     "execution_count": 13,
     "metadata": {},
     "output_type": "execute_result"
    }
   ],
   "source": [
    "get_container(\"Eggs\")"
   ]
  },
  {
   "cell_type": "code",
   "execution_count": 32,
   "id": "2e959823",
   "metadata": {},
   "outputs": [],
   "source": [
    "#61 Write a function that returns 0 if the input is 1, and returns 1 if the input is 0.\n",
    "\n",
    "def flip(x):\n",
    "    if x==1:\n",
    "        return 0\n",
    "    else:\n",
    "        return 1"
   ]
  },
  {
   "cell_type": "code",
   "execution_count": 33,
   "id": "15052906",
   "metadata": {},
   "outputs": [
    {
     "data": {
      "text/plain": [
       "0"
      ]
     },
     "execution_count": 33,
     "metadata": {},
     "output_type": "execute_result"
    }
   ],
   "source": [
    "flip(1)"
   ]
  },
  {
   "cell_type": "code",
   "execution_count": 34,
   "id": "d208115a",
   "metadata": {},
   "outputs": [
    {
     "data": {
      "text/plain": [
       "1"
      ]
     },
     "execution_count": 34,
     "metadata": {},
     "output_type": "execute_result"
    }
   ],
   "source": [
    "flip(0)"
   ]
  },
  {
   "cell_type": "code",
   "execution_count": 14,
   "id": "6bb2f2a8",
   "metadata": {},
   "outputs": [],
   "source": [
    "#62 A \"truthy\" value is a value that translates to True when evaluated in a Boolean context. All values are truthy unless they're defined as falsy.\n",
    "\n",
    "#All falsy values are as follows:\n",
    "\n",
    "#False\n",
    "#None\n",
    "#0\n",
    "#[]\n",
    "#{}\n",
    "#\"\"\n",
    "#Create a function that takes an argument of any data type and returns 1 if it's truthy and 0 if it's falsy.\n",
    "\n",
    "\n",
    "def is_truthy (value):\n",
    "    if bool(value):\n",
    "        return 1\n",
    "    else:\n",
    "        return 0"
   ]
  },
  {
   "cell_type": "code",
   "execution_count": 15,
   "id": "b650c076",
   "metadata": {},
   "outputs": [
    {
     "data": {
      "text/plain": [
       "0"
      ]
     },
     "execution_count": 15,
     "metadata": {},
     "output_type": "execute_result"
    }
   ],
   "source": [
    "is_truthy(0)"
   ]
  },
  {
   "cell_type": "code",
   "execution_count": 16,
   "id": "12a2923f",
   "metadata": {},
   "outputs": [
    {
     "data": {
      "text/plain": [
       "1"
      ]
     },
     "execution_count": 16,
     "metadata": {},
     "output_type": "execute_result"
    }
   ],
   "source": [
    "is_truthy(True)"
   ]
  },
  {
   "cell_type": "code",
   "execution_count": 17,
   "id": "c1c08de4",
   "metadata": {},
   "outputs": [],
   "source": [
    "#63  Write a function that takes a string name and a number num (either 0 or 1) and return \"Hello\" + name if num is 1, otherwise return \"Bye\" + name.\n",
    "\n",
    "\n",
    "\n",
    "def say_hello_bye(var1,num):\n",
    "    if num==1:\n",
    "        return \"Hello \"+ var1\n",
    "    else:\n",
    "        return \"Bye \" + var1"
   ]
  },
  {
   "cell_type": "code",
   "execution_count": 18,
   "id": "8afde4db",
   "metadata": {},
   "outputs": [
    {
     "data": {
      "text/plain": [
       "'Hello mark'"
      ]
     },
     "execution_count": 18,
     "metadata": {},
     "output_type": "execute_result"
    }
   ],
   "source": [
    "say_hello_bye(\"mark\",1)"
   ]
  },
  {
   "cell_type": "code",
   "execution_count": 19,
   "id": "744c0016",
   "metadata": {},
   "outputs": [
    {
     "data": {
      "text/plain": [
       "'Bye mark'"
      ]
     },
     "execution_count": 19,
     "metadata": {},
     "output_type": "execute_result"
    }
   ],
   "source": [
    "say_hello_bye(\"mark\",0)"
   ]
  },
  {
   "cell_type": "code",
   "execution_count": 26,
   "id": "f282c2c8",
   "metadata": {},
   "outputs": [],
   "source": [
    "#64 Darts is a target game played by throwing feathered darts at a circular board with numbered spaces.\n",
    "# Our darts game is the simplest of all games. The score of a single turn is calculated based on the distance from the middle.\n",
    "# You need to create a function that takes the dart location as two cartesian coordinates (x, y) and returns a score based \n",
    "# on the distance from the middle, aka Bullseye (x=0, y=0).\n",
    "\n",
    "\n",
    "\n",
    "def calculate_dart_score(x, y):\n",
    "    distance = (x ** 2 + y ** 2) ** 0.5  \n",
    "    if distance <= 1:  \n",
    "        return 10\n",
    "    elif distance <= 5:  \n",
    "        return 5\n",
    "    elif distance <= 10: \n",
    "        return 1\n",
    "    else:  \n",
    "        return 0\n"
   ]
  },
  {
   "cell_type": "code",
   "execution_count": 28,
   "id": "87924d94",
   "metadata": {},
   "outputs": [
    {
     "data": {
      "text/plain": [
       "10"
      ]
     },
     "execution_count": 28,
     "metadata": {},
     "output_type": "execute_result"
    }
   ],
   "source": [
    "calculate_dart_score(0,0)"
   ]
  },
  {
   "cell_type": "code",
   "execution_count": 29,
   "id": "1adab918",
   "metadata": {},
   "outputs": [
    {
     "data": {
      "text/plain": [
       "5"
      ]
     },
     "execution_count": 29,
     "metadata": {},
     "output_type": "execute_result"
    }
   ],
   "source": [
    "calculate_dart_score(3,2)"
   ]
  },
  {
   "cell_type": "code",
   "execution_count": 45,
   "id": "350423b3",
   "metadata": {},
   "outputs": [],
   "source": [
    "#65 Create a function that takes a list (slot machine outcome) and returns True if all elements in the list are identical, and False otherwise. The list will contain 4 elements.\n",
    "\n",
    "\n",
    "def check_identical(lst):\n",
    "    return all(element == lst[0] for element in lst)\n"
   ]
  },
  {
   "cell_type": "code",
   "execution_count": 46,
   "id": "5edb1870",
   "metadata": {},
   "outputs": [
    {
     "data": {
      "text/plain": [
       "True"
      ]
     },
     "execution_count": 46,
     "metadata": {},
     "output_type": "execute_result"
    }
   ],
   "source": [
    "test_jackpot([7,7,7,7])"
   ]
  },
  {
   "cell_type": "code",
   "execution_count": 48,
   "id": "35175df0",
   "metadata": {},
   "outputs": [
    {
     "data": {
      "text/plain": [
       "True"
      ]
     },
     "execution_count": 48,
     "metadata": {},
     "output_type": "execute_result"
    }
   ],
   "source": [
    "test_jackpot([7,7,9])"
   ]
  },
  {
   "cell_type": "code",
   "execution_count": 20,
   "id": "089b2e3f",
   "metadata": {},
   "outputs": [],
   "source": [
    "#66 Create a function that takes an array of hurdle heights and a jumper's jump height, and determine whether or not the hurdler can clear all the hurdles.\n",
    "# A hurdler can clear a hurdle if their jump height is greater than or equal to the hurdle height.\n",
    "\n",
    "def hurdle_jump(jumpers_height,hurdle_jump):\n",
    "    for x in hurdle_jump:\n",
    "        if jumpers_height> x:\n",
    "            return True\n",
    "        else:\n",
    "            return False"
   ]
  },
  {
   "cell_type": "code",
   "execution_count": 21,
   "id": "0e43210c",
   "metadata": {},
   "outputs": [
    {
     "data": {
      "text/plain": [
       "True"
      ]
     },
     "execution_count": 21,
     "metadata": {},
     "output_type": "execute_result"
    }
   ],
   "source": [
    "hurdle_jump(5,[1,2,3,4,5])"
   ]
  },
  {
   "cell_type": "code",
   "execution_count": 23,
   "id": "7990ad14",
   "metadata": {},
   "outputs": [
    {
     "data": {
      "text/plain": [
       "False"
      ]
     },
     "execution_count": 23,
     "metadata": {},
     "output_type": "execute_result"
    }
   ],
   "source": [
    "hurdle_jump(3,[5,5,3,4,5])"
   ]
  },
  {
   "cell_type": "code",
   "execution_count": 49,
   "id": "39c26c11",
   "metadata": {},
   "outputs": [],
   "source": [
    "#67  Create a function that takes a number as its argument and returns a list of all its factors.\n",
    "\n",
    "\n",
    "def factorial(n):\n",
    "    if n < 0:\n",
    "        return None  \n",
    "    elif n == 0 or n == 1:\n",
    "        return 1  \n",
    "    else:\n",
    "        result = 1\n",
    "        for i in range(2, n + 1):\n",
    "            result *= i\n",
    "        return result\n"
   ]
  },
  {
   "cell_type": "code",
   "execution_count": 50,
   "id": "62d97f86",
   "metadata": {},
   "outputs": [
    {
     "data": {
      "text/plain": [
       "120"
      ]
     },
     "execution_count": 50,
     "metadata": {},
     "output_type": "execute_result"
    }
   ],
   "source": [
    "factorial(5)"
   ]
  },
  {
   "cell_type": "code",
   "execution_count": 52,
   "id": "52b29606",
   "metadata": {},
   "outputs": [
    {
     "data": {
      "text/plain": [
       "720"
      ]
     },
     "execution_count": 52,
     "metadata": {},
     "output_type": "execute_result"
    }
   ],
   "source": [
    "factorial(6)"
   ]
  },
  {
   "cell_type": "code",
   "execution_count": 66,
   "id": "084bccd5",
   "metadata": {},
   "outputs": [],
   "source": [
    "#68 Create a function that goes through the array, incrementing (+1) for each odd-valued number and decrementing (-1) for each even-valued number.\n",
    "\n",
    "def transform(arr):\n",
    "    result = []\n",
    "    for num in arr:\n",
    "        if num % 2 == 0:\n",
    "            result.append(num - 1)\n",
    "        else:\n",
    "            result.append(num + 1)\n",
    "    return result\n"
   ]
  },
  {
   "cell_type": "code",
   "execution_count": 67,
   "id": "1f3c8a88",
   "metadata": {},
   "outputs": [
    {
     "data": {
      "text/plain": [
       "[2, 1, 4, 3]"
      ]
     },
     "execution_count": 67,
     "metadata": {},
     "output_type": "execute_result"
    }
   ],
   "source": [
    "transform([1,2,3,4])"
   ]
  }
 ],
 "metadata": {
  "kernelspec": {
   "display_name": "Python 3 (ipykernel)",
   "language": "python",
   "name": "python3"
  },
  "language_info": {
   "codemirror_mode": {
    "name": "ipython",
    "version": 3
   },
   "file_extension": ".py",
   "mimetype": "text/x-python",
   "name": "python",
   "nbconvert_exporter": "python",
   "pygments_lexer": "ipython3",
   "version": "3.10.9"
  }
 },
 "nbformat": 4,
 "nbformat_minor": 5
}
