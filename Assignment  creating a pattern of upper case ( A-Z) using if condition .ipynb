{
 "cells": [
  {
   "cell_type": "code",
   "execution_count": 6,
   "id": "c62c90bf",
   "metadata": {},
   "outputs": [
    {
     "name": "stdout",
     "output_type": "stream",
     "text": [
      " * * \n",
      "*   *\n",
      "* * *\n",
      "*   *\n"
     ]
    }
   ],
   "source": [
    "x1=1\n",
    "x2=2\n",
    "x3=3\n",
    "x4=4\n",
    "\n",
    "if x1==1:\n",
    "    print(\" * * \")\n",
    "if x2==2:\n",
    "    print(\"*   *\")\n",
    "if x3==3:\n",
    "    print(\"* * *\")\n",
    "if x4==4:\n",
    "    print(\"*   *\")    \n",
    "\n"
   ]
  },
  {
   "cell_type": "code",
   "execution_count": 9,
   "id": "aed86470",
   "metadata": {},
   "outputs": [
    {
     "name": "stdout",
     "output_type": "stream",
     "text": [
      "* * *\n",
      "*    *\n",
      "* * *\n",
      "*    *\n",
      "* * *\n"
     ]
    }
   ],
   "source": [
    "x1=1\n",
    "x2=2\n",
    "x3=3\n",
    "x4=4\n",
    "x5=5\n",
    "\n",
    "if x1==1:\n",
    "    print(\"* * *\")\n",
    "if x2==2:\n",
    "    print(\"*    *\")\n",
    "if x3==3:\n",
    "    print(\"* * *\")\n",
    "if x4==4:\n",
    "    print(\"*    *\")  \n",
    "if x5==5:\n",
    "    print(\"* * *\")"
   ]
  },
  {
   "cell_type": "code",
   "execution_count": 87,
   "id": "d8b2d355",
   "metadata": {},
   "outputs": [
    {
     "name": "stdout",
     "output_type": "stream",
     "text": [
      "* * *\n",
      "*    \n",
      "*    \n",
      "* * *\n"
     ]
    }
   ],
   "source": [
    "x1=1\n",
    "x2=2\n",
    "x3=3\n",
    "x4=4\n",
    "x5=5\n",
    "\n",
    "if x1==1:\n",
    "    print(\"* * *\")\n",
    "if x2==2:\n",
    "    print(\"*    \")\n",
    "if x3==3:\n",
    "     print(\"*    \")\n",
    "if x4==4:\n",
    "    print(\"* * *\")\n"
   ]
  },
  {
   "cell_type": "code",
   "execution_count": 13,
   "id": "070b3426",
   "metadata": {},
   "outputs": [
    {
     "name": "stdout",
     "output_type": "stream",
     "text": [
      "* * *\n",
      "*    *\n",
      "*    *\n",
      "* * *\n"
     ]
    }
   ],
   "source": [
    "x1=1\n",
    "x2=2\n",
    "x3=3\n",
    "x4=4\n",
    "x5=5\n",
    "\n",
    "if x1==1:\n",
    "    print(\"* * *\")\n",
    "if x2==2:\n",
    "    print(\"*    *\")\n",
    "if x3==3:\n",
    "    print(\"*    *\")\n",
    "if x4==4:\n",
    "    print(\"* * *\")  \n"
   ]
  },
  {
   "cell_type": "code",
   "execution_count": 14,
   "id": "ebf28ccc",
   "metadata": {},
   "outputs": [
    {
     "name": "stdout",
     "output_type": "stream",
     "text": [
      "* * *\n",
      "*    \n",
      "* * *\n",
      "*    \n",
      "* * *\n"
     ]
    }
   ],
   "source": [
    "x1=1\n",
    "x2=2\n",
    "x3=3\n",
    "x4=4\n",
    "x5=5\n",
    "\n",
    "if x1==1:\n",
    "    print(\"* * *\")\n",
    "if x2==2:\n",
    "    print(\"*    \")\n",
    "if x3==3:\n",
    "    print(\"* * *\")\n",
    "if x4==4:\n",
    "    print(\"*    \")  \n",
    "if x5==5:\n",
    "    print(\"* * *\")"
   ]
  },
  {
   "cell_type": "code",
   "execution_count": 16,
   "id": "ae4339e0",
   "metadata": {},
   "outputs": [
    {
     "name": "stdout",
     "output_type": "stream",
     "text": [
      "* * *\n",
      "*  \n",
      "* * *   \n",
      "*    \n",
      "* \n"
     ]
    }
   ],
   "source": [
    "x1=1\n",
    "x2=2\n",
    "x3=3\n",
    "x4=4\n",
    "x5=5\n",
    "\n",
    "if x1==1:\n",
    "    print(\"* * *\")\n",
    "if x2==2:\n",
    "    print(\"*  \")\n",
    "if x3==3:\n",
    "    print(\"* * *   \")\n",
    "if x4==4:\n",
    "    print(\"*    \")  \n",
    "if x5==5:\n",
    "    print(\"* \")"
   ]
  },
  {
   "cell_type": "code",
   "execution_count": 19,
   "id": "4cbc8069",
   "metadata": {},
   "outputs": [
    {
     "name": "stdout",
     "output_type": "stream",
     "text": [
      "* * *\n",
      "*    \n",
      "*  * *\n",
      "*    *\n",
      "* *  *\n"
     ]
    }
   ],
   "source": [
    "x1=1\n",
    "x2=2\n",
    "x3=3\n",
    "x4=4\n",
    "x5=5\n",
    "\n",
    "if x1==1:\n",
    "    print(\"* * *\")\n",
    "if x2==2:\n",
    "    print(\"*    \")\n",
    "if x3==3:\n",
    "    print(\"*  * *\")\n",
    "if x4==4:\n",
    "    print(\"*    *\")  \n",
    "if x5==5:\n",
    "    print(\"* *  *\")"
   ]
  },
  {
   "cell_type": "code",
   "execution_count": 21,
   "id": "1ea88b8a",
   "metadata": {},
   "outputs": [
    {
     "name": "stdout",
     "output_type": "stream",
     "text": [
      "*      *\n",
      "*      *\n",
      "* ***  *\n",
      "*      *\n",
      "*      *\n"
     ]
    }
   ],
   "source": [
    "x1=1\n",
    "x2=2\n",
    "x3=3\n",
    "x4=4\n",
    "x5=5\n",
    "\n",
    "if x1==1:\n",
    "    print(\"*      *\")\n",
    "if x2==2:\n",
    "    print(\"*      *\")\n",
    "if x3==3:\n",
    "    print(\"* ***  *\")\n",
    "if x4==4:\n",
    "    print(\"*      *\")  \n",
    "if x5==5:\n",
    "    print(\"*      *\")"
   ]
  },
  {
   "cell_type": "code",
   "execution_count": 23,
   "id": "e5f67866",
   "metadata": {},
   "outputs": [
    {
     "name": "stdout",
     "output_type": "stream",
     "text": [
      "* * * *\n",
      "   *  \n",
      "   * \n",
      "   *\n",
      "* * * *\n"
     ]
    }
   ],
   "source": [
    "x1=1\n",
    "x2=2\n",
    "x3=3\n",
    "x4=4\n",
    "x5=5\n",
    "\n",
    "if x1==1:\n",
    "    print(\"* * * *\")\n",
    "if x2==2:\n",
    "    print(\"   *  \")\n",
    "if x3==3:\n",
    "    print(\"   * \")\n",
    "if x4==4:\n",
    "    print(\"   *\")  \n",
    "if x5==5:\n",
    "    print(\"* * * *\")"
   ]
  },
  {
   "cell_type": "code",
   "execution_count": 25,
   "id": "c3569025",
   "metadata": {},
   "outputs": [
    {
     "name": "stdout",
     "output_type": "stream",
     "text": [
      "* * * * \n",
      "    *  \n",
      "    * \n",
      "*   *\n",
      "* * * \n"
     ]
    }
   ],
   "source": [
    "x1=1\n",
    "x2=2\n",
    "x3=3\n",
    "x4=4\n",
    "x5=5\n",
    "\n",
    "if x1==1:\n",
    "    print(\"* * * * \")\n",
    "if x2==2:\n",
    "    print(\"    *  \")\n",
    "if x3==3:\n",
    "    print(\"    * \")\n",
    "if x4==4:\n",
    "    print(\"*   *\")  \n",
    "if x5==5:\n",
    "    print(\"* * * \")"
   ]
  },
  {
   "cell_type": "code",
   "execution_count": 32,
   "id": "12bfa5a2",
   "metadata": {},
   "outputs": [
    {
     "name": "stdout",
     "output_type": "stream",
     "text": [
      "*     * \n",
      "*   *  \n",
      "* * \n",
      "*   *\n",
      "*     * \n"
     ]
    }
   ],
   "source": [
    "x1=1\n",
    "x2=2\n",
    "x3=3\n",
    "x4=4\n",
    "x5=5\n",
    "\n",
    "if x1==1:\n",
    "    print(\"*     * \")\n",
    "if x2==2:\n",
    "    print(\"*   *  \")\n",
    "if x3==3:\n",
    "    print(\"* * \")\n",
    "if x4==4:\n",
    "    print(\"*   *\")  \n",
    "if x5==5:\n",
    "    print(\"*     * \")"
   ]
  },
  {
   "cell_type": "code",
   "execution_count": 33,
   "id": "d5f76a09",
   "metadata": {},
   "outputs": [
    {
     "name": "stdout",
     "output_type": "stream",
     "text": [
      "*  \n",
      "*      \n",
      "* \n",
      "*   \n",
      "* * * * * \n"
     ]
    }
   ],
   "source": [
    "x1=1\n",
    "x2=2\n",
    "x3=3\n",
    "x4=4\n",
    "x5=5\n",
    "\n",
    "if x1==1:\n",
    "    print(\"*  \")\n",
    "if x2==2:\n",
    "    print(\"*      \")\n",
    "if x3==3:\n",
    "    print(\"* \")\n",
    "if x4==4:\n",
    "    print(\"*   \")  \n",
    "if x5==5:\n",
    "    print(\"* * * * * \")"
   ]
  },
  {
   "cell_type": "code",
   "execution_count": 39,
   "id": "df6848ab",
   "metadata": {},
   "outputs": [
    {
     "name": "stdout",
     "output_type": "stream",
     "text": [
      "*         * \n",
      "* *    *  *     \n",
      "*    *    * \n",
      "*         *   \n",
      "*         *\n"
     ]
    }
   ],
   "source": [
    "x1=1\n",
    "x2=2\n",
    "x3=3\n",
    "x4=4\n",
    "x5=5\n",
    "\n",
    "if x1==1:\n",
    "    print(\"*         * \")\n",
    "if x2==2:\n",
    "    print(\"* *    *  *     \")\n",
    "if x3==3:\n",
    "    print(\"*    *    * \")\n",
    "if x4==4:\n",
    "    print(\"*         *   \")  \n",
    "if x5==5:\n",
    "    print(\"*         *\")"
   ]
  },
  {
   "cell_type": "code",
   "execution_count": 43,
   "id": "3ef5fba8",
   "metadata": {},
   "outputs": [
    {
     "name": "stdout",
     "output_type": "stream",
     "text": [
      "*           * \n",
      "* *         *     \n",
      "*    *      * \n",
      "*       *   *   \n",
      "*         * *\n"
     ]
    }
   ],
   "source": [
    "x1=1\n",
    "x2=2\n",
    "x3=3\n",
    "x4=4\n",
    "x5=5\n",
    "\n",
    "if x1==1:\n",
    "    print(\"*           * \")\n",
    "if x2==2:\n",
    "    print(\"* *         *     \")\n",
    "if x3==3:\n",
    "    print(\"*    *      * \")\n",
    "if x4==4:\n",
    "    print(\"*       *   *   \")  \n",
    "if x5==5:\n",
    "    print(\"*         * *\")"
   ]
  },
  {
   "cell_type": "code",
   "execution_count": 44,
   "id": "9d95fe43",
   "metadata": {},
   "outputs": [
    {
     "name": "stdout",
     "output_type": "stream",
     "text": [
      "* * *\n",
      "*   *\n",
      "*   *\n",
      "* * *\n"
     ]
    }
   ],
   "source": [
    "x1=1\n",
    "x2=2\n",
    "x3=3\n",
    "x4=4\n",
    "x5=5\n",
    "\n",
    "if x1==1:\n",
    "    print(\"* * *\")\n",
    "if x2==2:\n",
    "    print(\"*   *\")\n",
    "if x3==3:\n",
    "    print(\"*   *\")\n",
    "if x4==4:\n",
    "    print(\"* * *\")  \n"
   ]
  },
  {
   "cell_type": "code",
   "execution_count": 46,
   "id": "eb23c82b",
   "metadata": {},
   "outputs": [
    {
     "name": "stdout",
     "output_type": "stream",
     "text": [
      "* * *\n",
      "*   *\n",
      "* * *   \n",
      "*    \n",
      "* \n"
     ]
    }
   ],
   "source": [
    "x1=1\n",
    "x2=2\n",
    "x3=3\n",
    "x4=4\n",
    "x5=5\n",
    "\n",
    "if x1==1:\n",
    "    print(\"* * *\")\n",
    "if x2==2:\n",
    "    print(\"*   *\")\n",
    "if x3==3:\n",
    "    print(\"* * *   \")\n",
    "if x4==4:\n",
    "    print(\"*    \")  \n",
    "if x5==5:\n",
    "    print(\"* \")"
   ]
  },
  {
   "cell_type": "code",
   "execution_count": 52,
   "id": "977724d9",
   "metadata": {},
   "outputs": [
    {
     "name": "stdout",
     "output_type": "stream",
     "text": [
      "*  *  *\n",
      "*     *\n",
      "*  \\  *\n",
      "* * \\ *\n"
     ]
    }
   ],
   "source": [
    "x1=1\n",
    "x2=2\n",
    "x3=3\n",
    "x4=4\n",
    "x5=5\n",
    "\n",
    "if x1==1:\n",
    "    print(\"*  *  *\")\n",
    "if x2==2: \n",
    "    print(\"*     *\")\n",
    "if x3==3:\n",
    "    print(\"*  \\  *\")\n",
    "if x4==4:\n",
    "    print(\"* * \\ *\")  \n"
   ]
  },
  {
   "cell_type": "code",
   "execution_count": 61,
   "id": "0fc80abb",
   "metadata": {},
   "outputs": [
    {
     "name": "stdout",
     "output_type": "stream",
     "text": [
      "*  *  *\n",
      "*      *\n",
      "*  *  *   \n",
      "*      * \n",
      "*       *\n"
     ]
    }
   ],
   "source": [
    "x1=1\n",
    "x2=2\n",
    "x3=3\n",
    "x4=4\n",
    "x5=5\n",
    "\n",
    "if x1==1:\n",
    "    print(\"*  *  *\")\n",
    "if x2==2:\n",
    "    print(\"*      *\")\n",
    "if x3==3:\n",
    "    print(\"*  *  *   \")\n",
    "if x4==4:\n",
    "    print(\"*      * \")  \n",
    "if x5==5:\n",
    "    print(\"*       *\")"
   ]
  },
  {
   "cell_type": "code",
   "execution_count": 67,
   "id": "b15e78cb",
   "metadata": {},
   "outputs": [
    {
     "name": "stdout",
     "output_type": "stream",
     "text": [
      "*  *  *\n",
      "*      \n",
      "*  *  *   \n",
      "      * \n",
      "*  *  *\n"
     ]
    }
   ],
   "source": [
    "x1=1\n",
    "x2=2\n",
    "x3=3\n",
    "x4=4\n",
    "x5=5\n",
    "\n",
    "if x1==1:\n",
    "    print(\"*  *  *\")\n",
    "if x2==2:\n",
    "    print(\"*      \")\n",
    "if x3==3:\n",
    "    print(\"*  *  *   \")\n",
    "if x4==4:\n",
    "    print(\"      * \")  \n",
    "if x5==5:\n",
    "    print(\"*  *  *\")"
   ]
  },
  {
   "cell_type": "code",
   "execution_count": 71,
   "id": "c885df85",
   "metadata": {},
   "outputs": [
    {
     "name": "stdout",
     "output_type": "stream",
     "text": [
      "* * * * *\n",
      "    *  \n",
      "    * \n",
      "    *\n",
      "    * \n"
     ]
    }
   ],
   "source": [
    "x1=1\n",
    "x2=2\n",
    "x3=3\n",
    "x4=4\n",
    "x5=5\n",
    "\n",
    "if x1==1:\n",
    "    print(\"* * * * *\")\n",
    "if x2==2:\n",
    "    print(\"    *  \")\n",
    "if x3==3:\n",
    "    print(\"    * \")\n",
    "if x4==4:\n",
    "    print(\"    *\")  \n",
    "if x5==5:\n",
    "    print(\"    * \")"
   ]
  },
  {
   "cell_type": "code",
   "execution_count": 88,
   "id": "850aae08",
   "metadata": {},
   "outputs": [
    {
     "name": "stdout",
     "output_type": "stream",
     "text": [
      "*     *\n",
      "*     *\n",
      "*     *\n",
      "*  *  *\n"
     ]
    }
   ],
   "source": [
    "x1=1\n",
    "x2=2\n",
    "x3=3\n",
    "x4=4\n",
    "x5=5\n",
    "\n",
    "if x1==1: \n",
    "    print(\"*     *\")\n",
    "if x2==2:\n",
    "    print(\"*     *\")\n",
    "if x3==3:\n",
    "    print(\"*     *\")\n",
    "if x4==4:\n",
    "    print(\"*  *  *\")  \n"
   ]
  },
  {
   "cell_type": "code",
   "execution_count": 74,
   "id": "7d58b4f9",
   "metadata": {},
   "outputs": [
    {
     "name": "stdout",
     "output_type": "stream",
     "text": [
      "*   *\n",
      "*   *\n",
      "*   *\n",
      "  *  \n"
     ]
    }
   ],
   "source": [
    "x1=1\n",
    "x2=2\n",
    "x3=3\n",
    "x4=4\n",
    "x5=5\n",
    "\n",
    "if x1==1: \n",
    "    print(\"*   *\")\n",
    "if x2==2:\n",
    "    print(\"*   *\")\n",
    "if x3==3:\n",
    "    print(\"*   *\")\n",
    "if x4==4:\n",
    "    print(\"  *  \")  \n"
   ]
  },
  {
   "cell_type": "code",
   "execution_count": 75,
   "id": "bfe4ada2",
   "metadata": {},
   "outputs": [
    {
     "name": "stdout",
     "output_type": "stream",
     "text": [
      "*         * \n",
      "*         *     \n",
      "*    *    * \n",
      "* *    *  *   \n",
      "*         *\n"
     ]
    }
   ],
   "source": [
    "x1=1\n",
    "x2=2\n",
    "x3=3\n",
    "x4=4\n",
    "x5=5\n",
    "\n",
    "if x1==1:\n",
    "    print(\"*         * \")\n",
    "if x2==2:\n",
    "    print(\"*         *     \")\n",
    "if x3==3:\n",
    "    print(\"*    *    * \")\n",
    "if x4==4:\n",
    "    print(\"* *    *  *   \")  \n",
    "if x5==5:\n",
    "    print(\"*         *\")"
   ]
  },
  {
   "cell_type": "code",
   "execution_count": 82,
   "id": "a10123ec",
   "metadata": {},
   "outputs": [
    {
     "name": "stdout",
     "output_type": "stream",
     "text": [
      "*         * \n",
      "   *   *       \n",
      "     *     \n",
      "  *    *     \n",
      "*        *\n"
     ]
    }
   ],
   "source": [
    "x1=1\n",
    "x2=2\n",
    "x3=3\n",
    "x4=4\n",
    "x5=5\n",
    "\n",
    "if x1==1:\n",
    "    print(\"*         * \")\n",
    "if x2==2:\n",
    "    print(\"   *   *       \")\n",
    "if x3==3:\n",
    "    print(\"     *     \")\n",
    "if x4==4:\n",
    "    print(\"  *    *     \")  \n",
    "if x5==5:\n",
    "    print(\"*        *\")"
   ]
  },
  {
   "cell_type": "code",
   "execution_count": 83,
   "id": "b02786ef",
   "metadata": {},
   "outputs": [
    {
     "name": "stdout",
     "output_type": "stream",
     "text": [
      "*         * \n",
      "   *   *       \n",
      "     *     \n",
      "     *         \n",
      "     *        \n"
     ]
    }
   ],
   "source": [
    "x1=1\n",
    "x2=2\n",
    "x3=3\n",
    "x4=4\n",
    "x5=5\n",
    "\n",
    "if x1==1:\n",
    "    print(\"*         * \")\n",
    "if x2==2:\n",
    "    print(\"   *   *       \")\n",
    "if x3==3:\n",
    "    print(\"     *     \")\n",
    "if x4==4:\n",
    "    print(\"     *         \")  \n",
    "if x5==5:\n",
    "    print(\"     *        \")"
   ]
  },
  {
   "cell_type": "code",
   "execution_count": 85,
   "id": "3d5f3177",
   "metadata": {},
   "outputs": [
    {
     "name": "stdout",
     "output_type": "stream",
     "text": [
      "* * * * *\n",
      "     *  \n",
      "   * \n",
      "  *\n",
      "* * * * * \n"
     ]
    }
   ],
   "source": [
    "x1=1\n",
    "x2=2\n",
    "x3=3\n",
    "x4=4\n",
    "x5=5\n",
    "\n",
    "if x1==1:\n",
    "    print(\"* * * * *\")\n",
    "if x2==2:\n",
    "    print(\"     *  \")\n",
    "if x3==3:\n",
    "    print(\"   * \")\n",
    "if x4==4:\n",
    "    print(\"  *\")  \n",
    "if x5==5:\n",
    "    print(\"* * * * * \")"
   ]
  },
  {
   "cell_type": "code",
   "execution_count": null,
   "id": "9124bd62",
   "metadata": {},
   "outputs": [],
   "source": []
  }
 ],
 "metadata": {
  "kernelspec": {
   "display_name": "Python 3 (ipykernel)",
   "language": "python",
   "name": "python3"
  },
  "language_info": {
   "codemirror_mode": {
    "name": "ipython",
    "version": 3
   },
   "file_extension": ".py",
   "mimetype": "text/x-python",
   "name": "python",
   "nbconvert_exporter": "python",
   "pygments_lexer": "ipython3",
   "version": "3.10.9"
  }
 },
 "nbformat": 4,
 "nbformat_minor": 5
}
